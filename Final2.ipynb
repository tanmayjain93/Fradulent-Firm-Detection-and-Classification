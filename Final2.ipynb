{
 "cells": [
  {
   "cell_type": "markdown",
   "metadata": {
    "collapsed": true
   },
   "source": [
    "# Fraudulent Firm Classification: A Case Study of an External Audit"
   ]
  },
  {
   "cell_type": "markdown",
   "metadata": {},
   "source": [
    "### Project 1\n",
    "#### Project description:\n",
    "Please read the Data Set Information section to learn about this dataset.\n",
    "Data description is also provided for thi dataset.\n",
    "Read data into Jupyter notebook, use pandas to import data into a data frame\n",
    "Preprocess data: Explore data, check for missing data and apply data scaling. Justify the type of scaling used.\n",
    "#### Regression Task:\n",
    "Apply all the regression models you've learned so far. If your model has a scaling parameter(s) use Grid Search to find the best scaling parameter. Use plots and graphs to help you get a better glimpse of the results.\n",
    "Then use cross validation to find average training and testing score.\n",
    "Your submission should have at least the following regression models: KNN repressor, linear regression, Ridge, Lasso, polynomial regression, SVM both simple and with kernels.\n",
    "Finally find the best regressor for this dataset and train your model on the entire dataset using the best parameters and predict buzz for the test_set.\n",
    "#### Classification task:\n",
    "Decide aboute a good evaluation strategy and justify your choice.\n",
    "Find best parameters for following classification models: KNN classifcation, Logistic Regression, Linear Supprt Vector Machine, Kerenilzed Support Vector Machine, Decision Tree.\n",
    "Which model gives the best results?"
   ]
  },
  {
   "cell_type": "markdown",
   "metadata": {},
   "source": [
    "#### Data Set Information:\n",
    "This dataset is taken from a research explained here.\n",
    "\n",
    "The goal of the research is to help the auditors by building a classification model that can predict the fraudulent firm on the basis the present and historical risk factors. The information about the sectors and the counts of firms are listed respectively as Irrigation (114), Public Health (77), Buildings and Roads (82), Forest (70), Corporate (47), Animal Husbandry (95), Communication (1), Electrical (4), Land (5), Science and Technology (3), Tourism (1), Fisheries (41), Industries (37), Agriculture (200).\n",
    "\n",
    "There are two csv files to present data. Please merge these two datasets into one dataframe."
   ]
  },
  {
   "cell_type": "markdown",
   "metadata": {},
   "source": [
    "_** The main objective of this project is to perform the audit risk analysis using 776 target firm's historical data. Our main foucs is on determining the Rish Audit Score and preddiction of Risk Class. We used several supervised techniques (Regression, Classification) to determine the Risk Audit Score and Predict the Risk Class which will be discussed below.** _\n",
    "\n",
    "_** We followed a sequence of steps starting with with importing required libraries, data merging, data pre-processing, data vizualization, etc. So let's get started **_"
   ]
  },
  {
   "cell_type": "markdown",
   "metadata": {},
   "source": [
    "### Importing Libraries"
   ]
  },
  {
   "cell_type": "code",
   "execution_count": 8,
   "metadata": {},
   "outputs": [],
   "source": [
    "import pandas as pd\n",
    "import numpy as np\n",
    "import matplotlib.pyplot as plt\n",
    "%matplotlib inline\n",
    "import seaborn as sns"
   ]
  },
  {
   "cell_type": "markdown",
   "metadata": {},
   "source": [
    "### Importing Datasets"
   ]
  },
  {
   "cell_type": "code",
   "execution_count": 9,
   "metadata": {},
   "outputs": [],
   "source": [
    "audit = pd.read_csv('audit_risk.csv')\n",
    "trial = pd.read_csv('trial.csv')"
   ]
  },
  {
   "cell_type": "markdown",
   "metadata": {},
   "source": [
    "### Data Distribution"
   ]
  },
  {
   "cell_type": "code",
   "execution_count": 10,
   "metadata": {},
   "outputs": [
    {
     "data": {
      "text/html": [
       "<div>\n",
       "<style scoped>\n",
       "    .dataframe tbody tr th:only-of-type {\n",
       "        vertical-align: middle;\n",
       "    }\n",
       "\n",
       "    .dataframe tbody tr th {\n",
       "        vertical-align: top;\n",
       "    }\n",
       "\n",
       "    .dataframe thead th {\n",
       "        text-align: right;\n",
       "    }\n",
       "</style>\n",
       "<table border=\"1\" class=\"dataframe\">\n",
       "  <thead>\n",
       "    <tr style=\"text-align: right;\">\n",
       "      <th></th>\n",
       "      <th>Sector_score</th>\n",
       "      <th>LOCATION_ID</th>\n",
       "      <th>PARA_A</th>\n",
       "      <th>Score_A</th>\n",
       "      <th>Risk_A</th>\n",
       "      <th>PARA_B</th>\n",
       "      <th>Score_B</th>\n",
       "      <th>Risk_B</th>\n",
       "      <th>TOTAL</th>\n",
       "      <th>numbers</th>\n",
       "      <th>...</th>\n",
       "      <th>PROB</th>\n",
       "      <th>RiSk_E</th>\n",
       "      <th>History</th>\n",
       "      <th>Prob</th>\n",
       "      <th>Risk_F</th>\n",
       "      <th>Score</th>\n",
       "      <th>Inherent_Risk</th>\n",
       "      <th>CONTROL_RISK</th>\n",
       "      <th>Detection_Risk</th>\n",
       "      <th>Audit_Risk</th>\n",
       "    </tr>\n",
       "    <tr>\n",
       "      <th>Risk</th>\n",
       "      <th></th>\n",
       "      <th></th>\n",
       "      <th></th>\n",
       "      <th></th>\n",
       "      <th></th>\n",
       "      <th></th>\n",
       "      <th></th>\n",
       "      <th></th>\n",
       "      <th></th>\n",
       "      <th></th>\n",
       "      <th></th>\n",
       "      <th></th>\n",
       "      <th></th>\n",
       "      <th></th>\n",
       "      <th></th>\n",
       "      <th></th>\n",
       "      <th></th>\n",
       "      <th></th>\n",
       "      <th></th>\n",
       "      <th></th>\n",
       "      <th></th>\n",
       "    </tr>\n",
       "  </thead>\n",
       "  <tbody>\n",
       "    <tr>\n",
       "      <th>0</th>\n",
       "      <td>471</td>\n",
       "      <td>471</td>\n",
       "      <td>471</td>\n",
       "      <td>471</td>\n",
       "      <td>471</td>\n",
       "      <td>471</td>\n",
       "      <td>471</td>\n",
       "      <td>471</td>\n",
       "      <td>471</td>\n",
       "      <td>471</td>\n",
       "      <td>...</td>\n",
       "      <td>471</td>\n",
       "      <td>471</td>\n",
       "      <td>471</td>\n",
       "      <td>471</td>\n",
       "      <td>471</td>\n",
       "      <td>471</td>\n",
       "      <td>471</td>\n",
       "      <td>471</td>\n",
       "      <td>471</td>\n",
       "      <td>471</td>\n",
       "    </tr>\n",
       "    <tr>\n",
       "      <th>1</th>\n",
       "      <td>305</td>\n",
       "      <td>305</td>\n",
       "      <td>305</td>\n",
       "      <td>305</td>\n",
       "      <td>305</td>\n",
       "      <td>305</td>\n",
       "      <td>305</td>\n",
       "      <td>305</td>\n",
       "      <td>305</td>\n",
       "      <td>305</td>\n",
       "      <td>...</td>\n",
       "      <td>305</td>\n",
       "      <td>305</td>\n",
       "      <td>305</td>\n",
       "      <td>305</td>\n",
       "      <td>305</td>\n",
       "      <td>305</td>\n",
       "      <td>305</td>\n",
       "      <td>305</td>\n",
       "      <td>305</td>\n",
       "      <td>305</td>\n",
       "    </tr>\n",
       "  </tbody>\n",
       "</table>\n",
       "<p>2 rows × 26 columns</p>\n",
       "</div>"
      ],
      "text/plain": [
       "      Sector_score  LOCATION_ID  PARA_A  Score_A  Risk_A  PARA_B  Score_B  \\\n",
       "Risk                                                                        \n",
       "0              471          471     471      471     471     471      471   \n",
       "1              305          305     305      305     305     305      305   \n",
       "\n",
       "      Risk_B  TOTAL  numbers     ...      PROB  RiSk_E  History  Prob  Risk_F  \\\n",
       "Risk                             ...                                            \n",
       "0        471    471      471     ...       471     471      471   471     471   \n",
       "1        305    305      305     ...       305     305      305   305     305   \n",
       "\n",
       "      Score  Inherent_Risk  CONTROL_RISK  Detection_Risk  Audit_Risk  \n",
       "Risk                                                                  \n",
       "0       471            471           471             471         471  \n",
       "1       305            305           305             305         305  \n",
       "\n",
       "[2 rows x 26 columns]"
      ]
     },
     "execution_count": 10,
     "metadata": {},
     "output_type": "execute_result"
    },
    {
     "data": {
      "image/png": "[encoded data removed]",
      "text/plain": [
       "<Figure size 432x288 with 1 Axes>"
      ]
     },
     "metadata": {
      "needs_background": "light"
     },
     "output_type": "display_data"
    }
   ],
   "source": [
    "sns.countplot(audit['Risk'])\n",
    "audit.groupby('Risk').count()"
   ]
  },
  {
   "cell_type": "markdown",
   "metadata": {},
   "source": [
    "#### Audit_Risk Vs Risk"
   ]
  },
  {
   "cell_type": "code",
   "execution_count": 11,
   "metadata": {},
   "outputs": [
    {
     "data": {
      "text/plain": [
       "<matplotlib.collections.PathCollection at 0x2077565f588>"
      ]
     },
     "execution_count": 11,
     "metadata": {},
     "output_type": "execute_result"
    },
    {
     "data": {
      "image/png": "[encoded data removed]",
      "text/plain": [
       "<Figure size 432x288 with 1 Axes>"
      ]
     },
     "metadata": {
      "needs_background": "light"
     },
     "output_type": "display_data"
    }
   ],
   "source": [
    "plt.scatter(audit['Audit_Risk'],audit['Risk'])\n",
    "\n",
    "## We can see an outlier that screws can screw out analysis. We will handle this outlier in data pre-processing."
   ]
  },
  {
   "cell_type": "code",
   "execution_count": 12,
   "metadata": {},
   "outputs": [
    {
     "data": {
      "text/plain": [
       "<matplotlib.axes._subplots.AxesSubplot at 0x2077567aba8>"
      ]
     },
     "execution_count": 12,
     "metadata": {},
     "output_type": "execute_result"
    },
    {
     "data": {
      "image/png": "[encoded data removed]",
      "text/plain": [
       "<Figure size 432x288 with 1 Axes>"
      ]
     },
     "metadata": {
      "needs_background": "light"
     },
     "output_type": "display_data"
    }
   ],
   "source": [
    "sns.boxplot(audit['numbers'],audit['TOTAL'])"
   ]
  },
  {
   "cell_type": "code",
   "execution_count": 13,
   "metadata": {},
   "outputs": [
    {
     "name": "stderr",
     "output_type": "stream",
     "text": [
      "C:\\Users\\Tanmay\\Anaconda3\\lib\\site-packages\\scipy\\stats\\stats.py:1713: FutureWarning: Using a non-tuple sequence for multidimensional indexing is deprecated; use `arr[tuple(seq)]` instead of `arr[seq]`. In the future this will be interpreted as an array index, `arr[np.array(seq)]`, which will result either in an error or a different result.\n",
      "  return np.add.reduce(sorted[indexer] * weights, axis=axis) / sumval\n"
     ]
    },
    {
     "data": {
      "text/plain": [
       "<matplotlib.axes._subplots.AxesSubplot at 0x2077562ccc0>"
      ]
     },
     "execution_count": 13,
     "metadata": {},
     "output_type": "execute_result"
    },
    {
     "data": {
      "image/png": "[encoded data removed]",
      "text/plain": [
       "<Figure size 2160x1440 with 1 Axes>"
      ]
     },
     "metadata": {
      "needs_background": "light"
     },
     "output_type": "display_data"
    }
   ],
   "source": [
    "plt.figure(figsize=(30,20))\n",
    "sns.barplot(x='LOCATION_ID',y='Audit_Risk',data= audit,estimator=np.mean)"
   ]
  },
  {
   "cell_type": "code",
   "execution_count": 14,
   "metadata": {},
   "outputs": [
    {
     "data": {
      "text/plain": [
       "<matplotlib.axes._subplots.AxesSubplot at 0x20775935a90>"
      ]
     },
     "execution_count": 14,
     "metadata": {},
     "output_type": "execute_result"
    },
    {
     "data": {
      "image/png": "[encoded data removed]",
      "text/plain": [
       "<Figure size 432x288 with 1 Axes>"
      ]
     },
     "metadata": {
      "needs_background": "light"
     },
     "output_type": "display_data"
    }
   ],
   "source": [
    "#loooking for outliers in the audit's risk colum\n",
    "sns.stripplot(x='Risk',y='Audit_Risk',data=audit)"
   ]
  },
  {
   "cell_type": "markdown",
   "metadata": {},
   "source": [
    "### Data Pre-processing"
   ]
  },
  {
   "cell_type": "markdown",
   "metadata": {},
   "source": [
    "1. Imputing Missing values\n",
    "2. Merging Data\n",
    "3. Checking for outliers"
   ]
  },
  {
   "cell_type": "markdown",
   "metadata": {},
   "source": [
    "#### 1. Imputing Missing Values"
   ]
  },
  {
   "cell_type": "code",
   "execution_count": 15,
   "metadata": {},
   "outputs": [
    {
     "data": {
      "text/plain": [
       "array([3.3800e+00, 9.4000e-01, 0.0000e+00, 1.1750e+01, 2.9500e+00,\n",
       "       4.4950e+01, 7.7900e+00, 7.3400e+00, 1.9300e+00, 4.4200e+00,\n",
       "       9.6000e-01, 1.0430e+01, 7.0000e-03, 9.0000e+00, 4.1280e+01,\n",
       "       1.4030e+01, 6.3180e+01, 3.4240e+01, 1.0000e-02, 2.0519e+02,\n",
       "       1.0000e-01, 1.1160e+01, 1.2500e+00, 1.4600e+00, 6.7800e+00,\n",
       "       1.1600e+00, 1.5241e+02, 1.0800e+00, 2.8400e+00, 9.0000e-01,\n",
       "       9.6700e+00, 3.2680e+01, 9.3503e+02, 2.9630e+01, 1.1000e-01,\n",
       "       2.6200e+00, 6.0000e-02, 2.4300e+00, 1.2613e+02, 2.0790e+01,\n",
       "       1.5692e+02, 1.2290e+01, 2.2900e+00, 7.7800e+00, 2.5100e+00,\n",
       "       8.3100e+00, 1.6000e-01, 4.7900e+01, 8.9100e+00, 4.9500e+00,\n",
       "       1.7500e+00, 6.8000e-01, 1.5820e+01, 5.8000e-01, 2.1531e+02,\n",
       "       5.0000e-02, 5.3340e+01, 1.0690e+01, 5.6900e+00, 1.3500e+00,\n",
       "       1.1690e+01, 1.4600e+01, 2.0780e+01, 1.0222e+02, 7.4000e-01,\n",
       "       8.7337e+02, 1.4000e+00, 4.2000e-01, 3.6520e+01, 6.0200e+00,\n",
       "       1.7160e+01, 1.2910e+01, 1.0790e+01, 3.4600e+00, 2.3300e+00,\n",
       "       5.5800e+00, 7.6000e-01, 2.5270e+01, 2.0000e-01, 7.5600e+00,\n",
       "       6.7030e+01, 1.9400e+01, 3.4830e+01, 9.8750e+01, 3.6000e-01,\n",
       "       3.5210e+01, 8.2000e+00, 2.0330e+01, 3.5130e+01, 6.3700e+01,\n",
       "       2.8000e-01, 2.7130e+01, 1.0270e+01, 1.3050e+01, 1.8790e+01,\n",
       "       1.6820e+01, 1.0030e+01, 1.2670e+01, 1.3790e+01, 1.0160e+01,\n",
       "       9.7300e+00, 2.6950e+01, 2.9070e+01, 9.7600e+00, 1.3310e+01,\n",
       "       7.7000e+00, 1.0400e+01, 2.0620e+01, 4.4020e+01, 4.3530e+01,\n",
       "       1.2030e+01, 1.1880e+01, 6.9600e+00, 2.1070e+01, 5.7160e+01,\n",
       "       1.0650e+01, 5.3600e+00, 2.4500e+00, 3.1610e+01, 3.4320e+01,\n",
       "       4.2400e+00, 8.3800e+00, 2.2100e+01, 5.4070e+01, 2.7680e+01,\n",
       "       2.1450e+01, 1.1090e+01, 1.0140e+01, 5.2130e+01, 1.7020e+01,\n",
       "       1.8000e+01, 6.9760e+01, 1.3880e+01, 4.0300e+00, 2.4400e+00,\n",
       "       7.8980e+01, 6.8800e+00, 5.4900e+00, 3.7790e+01, 6.0880e+01,\n",
       "       1.8320e+02, 1.0020e+01, 3.2000e-01, 1.8000e-01, 4.8560e+01,\n",
       "       1.8450e+01, 8.4400e+00, 3.9650e+01, 9.5300e+00, 4.4670e+01,\n",
       "       3.4200e+00, 2.6640e+01, 1.6910e+01, 1.2900e+01, 6.7900e+00,\n",
       "       8.7600e+00, 2.1000e-01, 1.9680e+01, 1.4270e+01, 1.6190e+01,\n",
       "       5.0300e+00, 1.4100e+01, 1.0239e+02, 4.2600e+00, 2.7230e+01,\n",
       "       5.9180e+01, 1.3350e+01, 8.9640e+01, 8.0800e+01, 8.9500e+00,\n",
       "       1.2459e+02, 5.8000e+00, 2.1600e+01, 1.4597e+02, 7.6470e+01,\n",
       "       4.7600e+01, 2.8400e+01, 2.5970e+01, 8.5810e+01, 4.5370e+01,\n",
       "       1.4300e+00, 1.5900e+00, 8.2990e+01, 8.6700e+01, 1.5140e+01,\n",
       "       3.1380e+01, 7.1700e+00, 1.8240e+01, 5.8860e+01, 6.0600e+00,\n",
       "       2.2800e+01, 5.3700e+00, 7.7470e+01, 1.5200e+01, 6.8014e+02,\n",
       "       7.1000e-01, 1.4400e+00, 2.0000e-02, 4.6000e+00, 3.0850e+01,\n",
       "       8.2100e+00, 4.9310e+01, 3.6900e+00, 1.1250e+01, 3.0800e+00,\n",
       "       1.6030e+01, 3.4300e+00, 8.9000e-01, 1.2800e+00, 5.4200e+00,\n",
       "       5.4100e+00, 7.2700e+00, 8.6000e+00, 3.6600e+00, 3.2500e+00,\n",
       "       2.6280e+01, 2.2000e-01, 1.8200e+00, 8.2000e-01, 2.7990e+01,\n",
       "       2.4700e+00, 7.5400e+00, 2.7100e+01, 4.0000e-02, 6.7000e-01,\n",
       "       7.2000e-01, 8.4000e-01, 7.0000e-02, 1.2000e-01, 6.7300e+00,\n",
       "       5.7000e-01, 6.1400e+00, 1.1500e+00, 3.6290e+01, 3.1000e-01,\n",
       "       1.2200e+00, 2.3000e-01, 8.4437e+02, 1.9500e+00, 9.0000e-02,\n",
       "       7.4800e+00, 9.4500e+00, 2.7700e+00, 2.7280e+01, 7.3000e-01,\n",
       "       4.7000e-01, 1.7590e+02, 1.3540e+01, 4.1820e+01, 2.9760e+01,\n",
       "       3.0000e-02, 8.5130e+01, 1.0980e+01, 1.7302e+02, 5.2000e-01,\n",
       "       1.2400e+00, 1.1900e+00, 1.3000e-01, 1.0530e+01, 5.1000e-01,\n",
       "       1.5000e-01, 4.9000e-01, 7.9000e-01, 1.9450e+01, 4.4000e-01,\n",
       "       3.5000e-01, 3.5300e+00, 8.0000e-02, 4.3000e-01, 6.4000e-01,\n",
       "       3.7000e-01, 9.7000e-01, 1.9000e-01, 1.4000e-01, 3.5400e+00,\n",
       "       3.9200e+00, 3.3000e-01, 8.8400e+01, 2.0890e+01, 9.4750e+01,\n",
       "       8.3960e+01, 3.9731e+02, 1.6041e+02, 2.3970e+01, 7.0560e+01,\n",
       "       1.1330e+01, 1.3200e+00, 2.4000e-01, 6.5000e-01, 8.0000e-01,\n",
       "       3.9000e-01, 1.3300e+01, 2.9000e-01, 3.3000e+00, 1.6090e+01,\n",
       "       1.6600e+00, 7.0000e-01, 6.3000e-01, 9.3000e-01, 1.2000e+00,\n",
       "       1.0300e+00, 2.8600e+00, 1.5500e+00, 2.3900e+00, 1.3000e+00,\n",
       "       6.0000e-01, 1.7000e-01, 4.0000e-01, 3.6800e+00, 8.5050e+01,\n",
       "       8.4700e+00, 2.5312e+02, 4.5000e-01, 6.4100e+00, 5.9000e-01,\n",
       "       2.5000e-01, 6.5000e+00, 6.3100e+00, 1.6500e+00, 5.6100e+00,\n",
       "       6.9000e-01, 9.9000e-01, 9.4300e+00,        nan, 8.8340e+01,\n",
       "       3.5700e+00, 1.8000e+00, 1.9100e+00, 2.4000e+00])"
      ]
     },
     "execution_count": 15,
     "metadata": {},
     "output_type": "execute_result"
    }
   ],
   "source": [
    "audit['Money_Value'].unique()"
   ]
  },
  {
   "cell_type": "code",
   "execution_count": 16,
   "metadata": {},
   "outputs": [
    {
     "data": {
      "text/plain": [
       "array([3.3800e+00, 9.4000e-01, 0.0000e+00, 1.1750e+01, 2.9500e+00,\n",
       "       4.4950e+01, 7.7900e+00, 7.3400e+00, 1.9300e+00, 4.4200e+00,\n",
       "       9.6000e-01, 1.0430e+01, 7.0000e-03, 9.0000e+00, 4.1280e+01,\n",
       "       1.4030e+01, 6.3180e+01, 3.4240e+01, 1.0000e-02, 2.0519e+02,\n",
       "       1.0000e-01, 1.1160e+01, 1.2500e+00, 1.4600e+00, 6.7800e+00,\n",
       "       1.1600e+00, 1.5241e+02, 1.0800e+00, 2.8400e+00, 9.0000e-01,\n",
       "       9.6700e+00, 3.2680e+01, 9.3503e+02, 2.9630e+01, 1.1000e-01,\n",
       "       2.6200e+00, 6.0000e-02, 2.4300e+00, 1.2613e+02, 2.0790e+01,\n",
       "       1.5692e+02, 1.2290e+01, 2.2900e+00, 7.7800e+00, 2.5100e+00,\n",
       "       8.3100e+00, 1.6000e-01, 4.7900e+01, 8.9100e+00, 4.9500e+00,\n",
       "       1.7500e+00, 6.8000e-01, 1.5820e+01, 5.8000e-01, 2.1531e+02,\n",
       "       5.0000e-02, 5.3340e+01, 1.0690e+01, 5.6900e+00, 1.3500e+00,\n",
       "       1.1690e+01, 1.4600e+01, 2.0780e+01, 1.0222e+02, 7.4000e-01,\n",
       "       8.7337e+02, 1.4000e+00, 4.2000e-01, 3.6520e+01, 6.0200e+00,\n",
       "       1.7160e+01, 1.2910e+01, 1.0790e+01, 3.4600e+00, 2.3300e+00,\n",
       "       5.5800e+00, 7.6000e-01, 2.5270e+01, 2.0000e-01, 7.5600e+00,\n",
       "       6.7030e+01, 1.9400e+01, 3.4830e+01, 9.8750e+01, 3.6000e-01,\n",
       "       3.5210e+01, 8.2000e+00, 2.0330e+01, 3.5130e+01, 6.3700e+01,\n",
       "       2.8000e-01, 2.7130e+01, 1.0270e+01, 1.3050e+01, 1.8790e+01,\n",
       "       1.6820e+01, 1.0030e+01, 1.2670e+01, 1.3790e+01, 1.0160e+01,\n",
       "       9.7300e+00, 2.6950e+01, 2.9070e+01, 9.7600e+00, 1.3310e+01,\n",
       "       7.7000e+00, 1.0400e+01, 2.0620e+01, 4.4020e+01, 4.3530e+01,\n",
       "       1.2030e+01, 1.1880e+01, 6.9600e+00, 2.1070e+01, 5.7160e+01,\n",
       "       1.0650e+01, 5.3600e+00, 2.4500e+00, 3.1610e+01, 3.4320e+01,\n",
       "       4.2400e+00, 8.3800e+00, 2.2100e+01, 5.4070e+01, 2.7680e+01,\n",
       "       2.1450e+01, 1.1090e+01, 1.0140e+01, 5.2130e+01, 1.7020e+01,\n",
       "       1.8000e+01, 6.9760e+01, 1.3880e+01, 4.0300e+00, 2.4400e+00,\n",
       "       7.8980e+01, 6.8800e+00, 5.4900e+00, 3.7790e+01, 6.0880e+01,\n",
       "       1.8320e+02, 1.0020e+01, 3.2000e-01, 1.8000e-01, 4.8560e+01,\n",
       "       1.8450e+01, 8.4400e+00, 3.9650e+01, 9.5300e+00, 4.4670e+01,\n",
       "       3.4200e+00, 2.6640e+01, 1.6910e+01, 1.2900e+01, 6.7900e+00,\n",
       "       8.7600e+00, 2.1000e-01, 1.9680e+01, 1.4270e+01, 1.6190e+01,\n",
       "       5.0300e+00, 1.4100e+01, 1.0239e+02, 4.2600e+00, 2.7230e+01,\n",
       "       5.9180e+01, 1.3350e+01, 8.9640e+01, 8.0800e+01, 8.9500e+00,\n",
       "       1.2459e+02, 5.8000e+00, 2.1600e+01, 1.4597e+02, 7.6470e+01,\n",
       "       4.7600e+01, 2.8400e+01, 2.5970e+01, 8.5810e+01, 4.5370e+01,\n",
       "       1.4300e+00, 1.5900e+00, 8.2990e+01, 8.6700e+01, 1.5140e+01,\n",
       "       3.1380e+01, 7.1700e+00, 1.8240e+01, 5.8860e+01, 6.0600e+00,\n",
       "       2.2800e+01, 5.3700e+00, 7.7470e+01, 1.5200e+01, 6.8014e+02,\n",
       "       7.1000e-01, 1.4400e+00, 2.0000e-02, 4.6000e+00, 3.0850e+01,\n",
       "       8.2100e+00, 4.9310e+01, 3.6900e+00, 1.1250e+01, 3.0800e+00,\n",
       "       1.6030e+01, 3.4300e+00, 8.9000e-01, 1.2800e+00, 5.4200e+00,\n",
       "       5.4100e+00, 7.2700e+00, 8.6000e+00, 3.6600e+00, 3.2500e+00,\n",
       "       2.6280e+01, 2.2000e-01, 1.8200e+00, 8.2000e-01, 2.7990e+01,\n",
       "       2.4700e+00, 7.5400e+00, 2.7100e+01, 4.0000e-02, 6.7000e-01,\n",
       "       7.2000e-01, 8.4000e-01, 7.0000e-02, 1.2000e-01, 6.7300e+00,\n",
       "       5.7000e-01, 6.1400e+00, 1.1500e+00, 3.6290e+01, 3.1000e-01,\n",
       "       1.2200e+00, 2.3000e-01, 8.4437e+02, 1.9500e+00, 9.0000e-02,\n",
       "       7.4800e+00, 9.4500e+00, 2.7700e+00, 2.7280e+01, 7.3000e-01,\n",
       "       4.7000e-01, 1.7590e+02, 1.3540e+01, 4.1820e+01, 2.9760e+01,\n",
       "       3.0000e-02, 8.5130e+01, 1.0980e+01, 1.7302e+02, 5.2000e-01,\n",
       "       1.2400e+00, 1.1900e+00, 1.3000e-01, 1.0530e+01, 5.1000e-01,\n",
       "       1.5000e-01, 4.9000e-01, 7.9000e-01, 1.9450e+01, 4.4000e-01,\n",
       "       3.5000e-01, 3.5300e+00, 8.0000e-02, 4.3000e-01, 6.4000e-01,\n",
       "       3.7000e-01, 9.7000e-01, 1.9000e-01, 1.4000e-01, 3.5400e+00,\n",
       "       3.9200e+00, 3.3000e-01, 8.8400e+01, 2.0890e+01, 9.4750e+01,\n",
       "       8.3960e+01, 3.9731e+02, 1.6041e+02, 2.3970e+01, 7.0560e+01,\n",
       "       1.1330e+01, 1.3200e+00, 2.4000e-01, 6.5000e-01, 8.0000e-01,\n",
       "       3.9000e-01, 1.3300e+01, 2.9000e-01, 3.3000e+00, 1.6090e+01,\n",
       "       1.6600e+00, 7.0000e-01, 6.3000e-01, 9.3000e-01, 1.2000e+00,\n",
       "       1.0300e+00, 2.8600e+00, 1.5500e+00, 2.3900e+00, 1.3000e+00,\n",
       "       6.0000e-01, 1.7000e-01, 4.0000e-01, 3.6800e+00, 8.5050e+01,\n",
       "       8.4700e+00, 2.5312e+02, 4.5000e-01, 6.4100e+00, 5.9000e-01,\n",
       "       2.5000e-01, 6.5000e+00, 6.3100e+00, 1.6500e+00, 5.6100e+00,\n",
       "       6.9000e-01, 9.9000e-01, 9.4300e+00,        nan, 8.8340e+01,\n",
       "       3.5700e+00, 1.8000e+00, 1.9100e+00, 2.4000e+00])"
      ]
     },
     "execution_count": 16,
     "metadata": {},
     "output_type": "execute_result"
    }
   ],
   "source": [
    "trial['Money_Value'].unique()"
   ]
  },
  {
   "cell_type": "markdown",
   "metadata": {},
   "source": [
    "Both audit & trail have one missing value. Since dataset is small its better to impute the missing value rather than removing missing values. So let's impute the missing Money_Value with it's mean grouped by 'numbers' column"
   ]
  },
  {
   "cell_type": "code",
   "execution_count": 17,
   "metadata": {},
   "outputs": [
    {
     "data": {
      "text/html": [
       "<div>\n",
       "<style scoped>\n",
       "    .dataframe tbody tr th:only-of-type {\n",
       "        vertical-align: middle;\n",
       "    }\n",
       "\n",
       "    .dataframe tbody tr th {\n",
       "        vertical-align: top;\n",
       "    }\n",
       "\n",
       "    .dataframe thead th {\n",
       "        text-align: right;\n",
       "    }\n",
       "</style>\n",
       "<table border=\"1\" class=\"dataframe\">\n",
       "  <thead>\n",
       "    <tr style=\"text-align: right;\">\n",
       "      <th></th>\n",
       "      <th>Sector_score</th>\n",
       "      <th>LOCATION_ID</th>\n",
       "      <th>PARA_A</th>\n",
       "      <th>Score_A</th>\n",
       "      <th>Risk_A</th>\n",
       "      <th>PARA_B</th>\n",
       "      <th>Score_B</th>\n",
       "      <th>Risk_B</th>\n",
       "      <th>TOTAL</th>\n",
       "      <th>numbers</th>\n",
       "      <th>...</th>\n",
       "      <th>RiSk_E</th>\n",
       "      <th>History</th>\n",
       "      <th>Prob</th>\n",
       "      <th>Risk_F</th>\n",
       "      <th>Score</th>\n",
       "      <th>Inherent_Risk</th>\n",
       "      <th>CONTROL_RISK</th>\n",
       "      <th>Detection_Risk</th>\n",
       "      <th>Audit_Risk</th>\n",
       "      <th>Risk</th>\n",
       "    </tr>\n",
       "  </thead>\n",
       "  <tbody>\n",
       "    <tr>\n",
       "      <th>642</th>\n",
       "      <td>55.57</td>\n",
       "      <td>4</td>\n",
       "      <td>0.23</td>\n",
       "      <td>0.2</td>\n",
       "      <td>0.046</td>\n",
       "      <td>0.0</td>\n",
       "      <td>0.2</td>\n",
       "      <td>0.0</td>\n",
       "      <td>0.23</td>\n",
       "      <td>5.0</td>\n",
       "      <td>...</td>\n",
       "      <td>0.4</td>\n",
       "      <td>0</td>\n",
       "      <td>0.2</td>\n",
       "      <td>0.0</td>\n",
       "      <td>2.0</td>\n",
       "      <td>1.446</td>\n",
       "      <td>0.4</td>\n",
       "      <td>0.5</td>\n",
       "      <td>0.2892</td>\n",
       "      <td>0</td>\n",
       "    </tr>\n",
       "  </tbody>\n",
       "</table>\n",
       "<p>1 rows × 27 columns</p>\n",
       "</div>"
      ],
      "text/plain": [
       "     Sector_score LOCATION_ID  PARA_A  Score_A  Risk_A  PARA_B  Score_B  \\\n",
       "642         55.57           4    0.23      0.2   0.046     0.0      0.2   \n",
       "\n",
       "     Risk_B  TOTAL  numbers  ...   RiSk_E  History  Prob  Risk_F  Score  \\\n",
       "642     0.0   0.23      5.0  ...      0.4        0   0.2     0.0    2.0   \n",
       "\n",
       "     Inherent_Risk  CONTROL_RISK  Detection_Risk  Audit_Risk  Risk  \n",
       "642          1.446           0.4             0.5      0.2892     0  \n",
       "\n",
       "[1 rows x 27 columns]"
      ]
     },
     "execution_count": 17,
     "metadata": {},
     "output_type": "execute_result"
    }
   ],
   "source": [
    "audit[audit['Money_Value'].isnull()]"
   ]
  },
  {
   "cell_type": "code",
   "execution_count": 18,
   "metadata": {},
   "outputs": [
    {
     "data": {
      "text/plain": [
       "55.57    200\n",
       "3.89     114\n",
       "1.85      95\n",
       "2.72      82\n",
       "3.41      76\n",
       "2.37      74\n",
       "1.99      47\n",
       "21.61     41\n",
       "59.85     37\n",
       "2.34       5\n",
       "15.56      3\n",
       "2.36       1\n",
       "17.68      1\n",
       "Name: Sector_score, dtype: int64"
      ]
     },
     "execution_count": 18,
     "metadata": {},
     "output_type": "execute_result"
    }
   ],
   "source": [
    "audit['Sector_score'].value_counts()"
   ]
  },
  {
   "cell_type": "code",
   "execution_count": 26,
   "metadata": {},
   "outputs": [
    {
     "data": {
      "text/html": [
       "<div>\n",
       "<style scoped>\n",
       "    .dataframe tbody tr th:only-of-type {\n",
       "        vertical-align: middle;\n",
       "    }\n",
       "\n",
       "    .dataframe tbody tr th {\n",
       "        vertical-align: top;\n",
       "    }\n",
       "\n",
       "    .dataframe thead th {\n",
       "        text-align: right;\n",
       "    }\n",
       "</style>\n",
       "<table border=\"1\" class=\"dataframe\">\n",
       "  <thead>\n",
       "    <tr style=\"text-align: right;\">\n",
       "      <th></th>\n",
       "      <th>Money_Value</th>\n",
       "    </tr>\n",
       "    <tr>\n",
       "      <th>Sector_score</th>\n",
       "      <th></th>\n",
       "    </tr>\n",
       "  </thead>\n",
       "  <tbody>\n",
       "    <tr>\n",
       "      <th>1.85</th>\n",
       "      <td>2.401579</td>\n",
       "    </tr>\n",
       "    <tr>\n",
       "      <th>1.99</th>\n",
       "      <td>26.892340</td>\n",
       "    </tr>\n",
       "    <tr>\n",
       "      <th>2.34</th>\n",
       "      <td>16.792000</td>\n",
       "    </tr>\n",
       "    <tr>\n",
       "      <th>2.36</th>\n",
       "      <td>88.400000</td>\n",
       "    </tr>\n",
       "    <tr>\n",
       "      <th>2.37</th>\n",
       "      <td>5.569189</td>\n",
       "    </tr>\n",
       "    <tr>\n",
       "      <th>2.72</th>\n",
       "      <td>30.059512</td>\n",
       "    </tr>\n",
       "    <tr>\n",
       "      <th>3.41</th>\n",
       "      <td>18.294737</td>\n",
       "    </tr>\n",
       "    <tr>\n",
       "      <th>3.89</th>\n",
       "      <td>33.157842</td>\n",
       "    </tr>\n",
       "    <tr>\n",
       "      <th>15.56</th>\n",
       "      <td>193.896667</td>\n",
       "    </tr>\n",
       "    <tr>\n",
       "      <th>17.68</th>\n",
       "      <td>70.560000</td>\n",
       "    </tr>\n",
       "    <tr>\n",
       "      <th>21.61</th>\n",
       "      <td>0.449024</td>\n",
       "    </tr>\n",
       "    <tr>\n",
       "      <th>55.57</th>\n",
       "      <td>2.574221</td>\n",
       "    </tr>\n",
       "    <tr>\n",
       "      <th>59.85</th>\n",
       "      <td>1.672703</td>\n",
       "    </tr>\n",
       "  </tbody>\n",
       "</table>\n",
       "</div>"
      ],
      "text/plain": [
       "              Money_Value\n",
       "Sector_score             \n",
       "1.85             2.401579\n",
       "1.99            26.892340\n",
       "2.34            16.792000\n",
       "2.36            88.400000\n",
       "2.37             5.569189\n",
       "2.72            30.059512\n",
       "3.41            18.294737\n",
       "3.89            33.157842\n",
       "15.56          193.896667\n",
       "17.68           70.560000\n",
       "21.61            0.449024\n",
       "55.57            2.574221\n",
       "59.85            1.672703"
      ]
     },
     "execution_count": 26,
     "metadata": {},
     "output_type": "execute_result"
    }
   ],
   "source": [
    "audit[['Sector_score','Money_Value']].groupby('Sector_score').mean()"
   ]
  },
  {
   "cell_type": "code",
   "execution_count": 19,
   "metadata": {},
   "outputs": [
    {
     "data": {
      "text/html": [
       "<div>\n",
       "<style scoped>\n",
       "    .dataframe tbody tr th:only-of-type {\n",
       "        vertical-align: middle;\n",
       "    }\n",
       "\n",
       "    .dataframe tbody tr th {\n",
       "        vertical-align: top;\n",
       "    }\n",
       "\n",
       "    .dataframe thead th {\n",
       "        text-align: right;\n",
       "    }\n",
       "</style>\n",
       "<table border=\"1\" class=\"dataframe\">\n",
       "  <thead>\n",
       "    <tr style=\"text-align: right;\">\n",
       "      <th></th>\n",
       "      <th>Money_Value</th>\n",
       "    </tr>\n",
       "    <tr>\n",
       "      <th>Sector_score</th>\n",
       "      <th></th>\n",
       "    </tr>\n",
       "  </thead>\n",
       "  <tbody>\n",
       "    <tr>\n",
       "      <th>1.85</th>\n",
       "      <td>0.020</td>\n",
       "    </tr>\n",
       "    <tr>\n",
       "      <th>1.99</th>\n",
       "      <td>0.050</td>\n",
       "    </tr>\n",
       "    <tr>\n",
       "      <th>2.34</th>\n",
       "      <td>0.000</td>\n",
       "    </tr>\n",
       "    <tr>\n",
       "      <th>2.36</th>\n",
       "      <td>88.400</td>\n",
       "    </tr>\n",
       "    <tr>\n",
       "      <th>2.37</th>\n",
       "      <td>0.575</td>\n",
       "    </tr>\n",
       "    <tr>\n",
       "      <th>2.72</th>\n",
       "      <td>8.325</td>\n",
       "    </tr>\n",
       "    <tr>\n",
       "      <th>3.41</th>\n",
       "      <td>10.215</td>\n",
       "    </tr>\n",
       "    <tr>\n",
       "      <th>3.89</th>\n",
       "      <td>2.565</td>\n",
       "    </tr>\n",
       "    <tr>\n",
       "      <th>15.56</th>\n",
       "      <td>160.410</td>\n",
       "    </tr>\n",
       "    <tr>\n",
       "      <th>17.68</th>\n",
       "      <td>70.560</td>\n",
       "    </tr>\n",
       "    <tr>\n",
       "      <th>21.61</th>\n",
       "      <td>0.000</td>\n",
       "    </tr>\n",
       "    <tr>\n",
       "      <th>55.57</th>\n",
       "      <td>0.000</td>\n",
       "    </tr>\n",
       "    <tr>\n",
       "      <th>59.85</th>\n",
       "      <td>0.290</td>\n",
       "    </tr>\n",
       "  </tbody>\n",
       "</table>\n",
       "</div>"
      ],
      "text/plain": [
       "              Money_Value\n",
       "Sector_score             \n",
       "1.85                0.020\n",
       "1.99                0.050\n",
       "2.34                0.000\n",
       "2.36               88.400\n",
       "2.37                0.575\n",
       "2.72                8.325\n",
       "3.41               10.215\n",
       "3.89                2.565\n",
       "15.56             160.410\n",
       "17.68              70.560\n",
       "21.61               0.000\n",
       "55.57               0.000\n",
       "59.85               0.290"
      ]
     },
     "execution_count": 19,
     "metadata": {},
     "output_type": "execute_result"
    }
   ],
   "source": [
    "audit[['Sector_score','Money_Value']].groupby('Sector_score').median()"
   ]
  },
  {
   "cell_type": "markdown",
   "metadata": {},
   "source": [
    "Sector_Score - Is the score of each firm mentioned above in Data Description\n",
    "\n",
    "Missing value is in 'Money_Value' that falls under Sector_Score = 55.57.\n",
    "\n",
    "Impute the missing value with median of Money_Value under Sector_score = 55.57"
   ]
  },
  {
   "cell_type": "code",
   "execution_count": 20,
   "metadata": {},
   "outputs": [],
   "source": [
    "audit['Money_Value'].fillna(0,inplace=True)\n",
    "trial['Money_Value'].fillna(0,inplace=True)"
   ]
  },
  {
   "cell_type": "markdown",
   "metadata": {},
   "source": [
    "#### 2. Merging Datasets"
   ]
  },
  {
   "cell_type": "markdown",
   "metadata": {},
   "source": [
    "Both dataframes (audit, trial) have similar columns that hold similar value\n",
    "\n",
    "First sort by common columns and concatenate later\n",
    "\n",
    "So selecting only unique column from trial data frame and concatenating to audit for analysis\n",
    "\n",
    "Removing the column ('LOCATION_ID') on which analysis is not done"
   ]
  },
  {
   "cell_type": "code",
   "execution_count": 21,
   "metadata": {},
   "outputs": [],
   "source": [
    "# Sorting the data frames\n",
    "audit = audit.sort_values(by=['LOCATION_ID','TOTAL'])\n",
    "trial = trial.sort_values(by=['LOCATION_ID','TOTAL'])\n",
    "\n",
    "#Concatinate data frames\n",
    "data = pd.concat([audit,trial[['Loss','History_score','LOSS_SCORE','MONEY_Marks']]],axis=1)\n",
    "\n",
    "#Removing LOCATION_ID\n",
    "data.drop('LOCATION_ID',axis=1,inplace=True)"
   ]
  },
  {
   "cell_type": "markdown",
   "metadata": {},
   "source": [
    "#### 3. Handling Outliers"
   ]
  },
  {
   "cell_type": "markdown",
   "metadata": {},
   "source": [
    "In data distribution section we can across an outlier with large Audit_Risk, TOTAL value. We can handle this enither by imputing with a mean value or removing the outlier value.\n",
    "\n",
    "Let's remove the outlier observation from data"
   ]
  },
  {
   "cell_type": "code",
   "execution_count": 22,
   "metadata": {},
   "outputs": [
    {
     "data": {
      "text/plain": [
       "1268.91"
      ]
     },
     "execution_count": 22,
     "metadata": {},
     "output_type": "execute_result"
    }
   ],
   "source": [
    "data['TOTAL'].max()\n",
    "# 1268.91"
   ]
  },
  {
   "cell_type": "code",
   "execution_count": 23,
   "metadata": {},
   "outputs": [
    {
     "data": {
      "text/html": [
       "<div>\n",
       "<style scoped>\n",
       "    .dataframe tbody tr th:only-of-type {\n",
       "        vertical-align: middle;\n",
       "    }\n",
       "\n",
       "    .dataframe tbody tr th {\n",
       "        vertical-align: top;\n",
       "    }\n",
       "\n",
       "    .dataframe thead th {\n",
       "        text-align: right;\n",
       "    }\n",
       "</style>\n",
       "<table border=\"1\" class=\"dataframe\">\n",
       "  <thead>\n",
       "    <tr style=\"text-align: right;\">\n",
       "      <th></th>\n",
       "      <th>Sector_score</th>\n",
       "      <th>PARA_A</th>\n",
       "      <th>Score_A</th>\n",
       "      <th>Risk_A</th>\n",
       "      <th>PARA_B</th>\n",
       "      <th>Score_B</th>\n",
       "      <th>Risk_B</th>\n",
       "      <th>TOTAL</th>\n",
       "      <th>numbers</th>\n",
       "      <th>Score_B.1</th>\n",
       "      <th>...</th>\n",
       "      <th>Score</th>\n",
       "      <th>Inherent_Risk</th>\n",
       "      <th>CONTROL_RISK</th>\n",
       "      <th>Detection_Risk</th>\n",
       "      <th>Audit_Risk</th>\n",
       "      <th>Risk</th>\n",
       "      <th>Loss</th>\n",
       "      <th>History_score</th>\n",
       "      <th>LOSS_SCORE</th>\n",
       "      <th>MONEY_Marks</th>\n",
       "    </tr>\n",
       "  </thead>\n",
       "  <tbody>\n",
       "    <tr>\n",
       "      <th>241</th>\n",
       "      <td>2.72</td>\n",
       "      <td>4.28</td>\n",
       "      <td>0.6</td>\n",
       "      <td>2.568</td>\n",
       "      <td>1264.63</td>\n",
       "      <td>0.6</td>\n",
       "      <td>758.778</td>\n",
       "      <td>1268.91</td>\n",
       "      <td>5.5</td>\n",
       "      <td>0.4</td>\n",
       "      <td>...</td>\n",
       "      <td>5.2</td>\n",
       "      <td>801.262</td>\n",
       "      <td>2.4</td>\n",
       "      <td>0.5</td>\n",
       "      <td>961.5144</td>\n",
       "      <td>1</td>\n",
       "      <td>0</td>\n",
       "      <td>6</td>\n",
       "      <td>2</td>\n",
       "      <td>6</td>\n",
       "    </tr>\n",
       "  </tbody>\n",
       "</table>\n",
       "<p>1 rows × 30 columns</p>\n",
       "</div>"
      ],
      "text/plain": [
       "     Sector_score  PARA_A  Score_A  Risk_A   PARA_B  Score_B   Risk_B  \\\n",
       "241          2.72    4.28      0.6   2.568  1264.63      0.6  758.778   \n",
       "\n",
       "       TOTAL  numbers  Score_B.1     ...       Score  Inherent_Risk  \\\n",
       "241  1268.91      5.5        0.4     ...         5.2        801.262   \n",
       "\n",
       "     CONTROL_RISK  Detection_Risk  Audit_Risk  Risk  Loss  History_score  \\\n",
       "241           2.4             0.5    961.5144     1     0              6   \n",
       "\n",
       "     LOSS_SCORE  MONEY_Marks  \n",
       "241           2            6  \n",
       "\n",
       "[1 rows x 30 columns]"
      ]
     },
     "execution_count": 23,
     "metadata": {},
     "output_type": "execute_result"
    }
   ],
   "source": [
    "data[data['TOTAL'] == 1268.91]"
   ]
  },
  {
   "cell_type": "code",
   "execution_count": 24,
   "metadata": {},
   "outputs": [],
   "source": [
    "# index = 241\n",
    "data.drop(241,inplace=True)"
   ]
  },
  {
   "cell_type": "code",
   "execution_count": 25,
   "metadata": {},
   "outputs": [
    {
     "data": {
      "text/plain": [
       "<matplotlib.axes._subplots.AxesSubplot at 0x20775589908>"
      ]
     },
     "execution_count": 25,
     "metadata": {},
     "output_type": "execute_result"
    },
    {
     "data": {
      "image/png": "[encoded data removed]",
      "text/plain": [
       "<Figure size 432x288 with 1 Axes>"
      ]
     },
     "metadata": {
      "needs_background": "light"
     },
     "output_type": "display_data"
    }
   ],
   "source": [
    "#loooking for outliers in the risk colum after removing outlier\n",
    "sns.stripplot(x='Risk',y='Audit_Risk',data=data)"
   ]
  },
  {
   "cell_type": "markdown",
   "metadata": {},
   "source": [
    "### Feature Selection"
   ]
  },
  {
   "cell_type": "code",
   "execution_count": 26,
   "metadata": {},
   "outputs": [
    {
     "data": {
      "text/plain": [
       "Index(['Sector_score', 'PARA_A', 'Score_A', 'Risk_A', 'PARA_B', 'Score_B',\n",
       "       'Risk_B', 'TOTAL', 'numbers', 'Score_B.1', 'Risk_C', 'Money_Value',\n",
       "       'Score_MV', 'Risk_D', 'District_Loss', 'PROB', 'RiSk_E', 'History',\n",
       "       'Prob', 'Risk_F', 'Score', 'Inherent_Risk', 'CONTROL_RISK',\n",
       "       'Detection_Risk', 'Audit_Risk', 'Risk', 'Loss', 'History_score',\n",
       "       'LOSS_SCORE', 'MONEY_Marks'],\n",
       "      dtype='object')"
      ]
     },
     "execution_count": 26,
     "metadata": {},
     "output_type": "execute_result"
    }
   ],
   "source": [
    "data.columns"
   ]
  },
  {
   "cell_type": "code",
   "execution_count": 27,
   "metadata": {},
   "outputs": [
    {
     "data": {
      "text/plain": [
       "([<matplotlib.axis.YTick at 0x207765a7320>,\n",
       "  <matplotlib.axis.YTick at 0x207765a3ba8>,\n",
       "  <matplotlib.axis.YTick at 0x2077659ea90>,\n",
       "  <matplotlib.axis.YTick at 0x207759e3e80>,\n",
       "  <matplotlib.axis.YTick at 0x207759f24a8>,\n",
       "  <matplotlib.axis.YTick at 0x207759f2978>,\n",
       "  <matplotlib.axis.YTick at 0x207759f2e48>,\n",
       "  <matplotlib.axis.YTick at 0x207759f8358>,\n",
       "  <matplotlib.axis.YTick at 0x207759f8828>,\n",
       "  <matplotlib.axis.YTick at 0x207759f8d30>,\n",
       "  <matplotlib.axis.YTick at 0x20775a02278>,\n",
       "  <matplotlib.axis.YTick at 0x207759f87f0>,\n",
       "  <matplotlib.axis.YTick at 0x207759f2a20>,\n",
       "  <matplotlib.axis.YTick at 0x20775a023c8>,\n",
       "  <matplotlib.axis.YTick at 0x20775a02c18>,\n",
       "  <matplotlib.axis.YTick at 0x20775a0b198>,\n",
       "  <matplotlib.axis.YTick at 0x20775a0b668>,\n",
       "  <matplotlib.axis.YTick at 0x20775a0bb70>,\n",
       "  <matplotlib.axis.YTick at 0x20775a13128>,\n",
       "  <matplotlib.axis.YTick at 0x20775a135c0>,\n",
       "  <matplotlib.axis.YTick at 0x20775a13ac8>,\n",
       "  <matplotlib.axis.YTick at 0x20775a0b470>,\n",
       "  <matplotlib.axis.YTick at 0x207759f2cc0>,\n",
       "  <matplotlib.axis.YTick at 0x20775a13e10>,\n",
       "  <matplotlib.axis.YTick at 0x20775a1c358>,\n",
       "  <matplotlib.axis.YTick at 0x20775a1c860>,\n",
       "  <matplotlib.axis.YTick at 0x20775a1cd68>,\n",
       "  <matplotlib.axis.YTick at 0x20775a242b0>,\n",
       "  <matplotlib.axis.YTick at 0x20775a247b8>,\n",
       "  <matplotlib.axis.YTick at 0x20775a24cc0>],\n",
       " <a list of 30 Text yticklabel objects>)"
      ]
     },
     "execution_count": 27,
     "metadata": {},
     "output_type": "execute_result"
    },
    {
     "data": {
      "image/png": "[encoded data removed]",
      "text/plain": [
       "<Figure size 1440x1440 with 2 Axes>"
      ]
     },
     "metadata": {
      "needs_background": "light"
     },
     "output_type": "display_data"
    }
   ],
   "source": [
    "fig, ax = plt.subplots(figsize=(20, 20))\n",
    "corr = data.corr()\n",
    "colormap = sns.diverging_palette(220, 10, as_cmap=True)\n",
    "sns.heatmap(corr, cmap=colormap, annot=True, fmt=\".2f\")\n",
    "plt.xticks(range(len(corr.columns)), corr.columns)\n",
    "plt.yticks(range(len(corr.columns)), corr.columns)"
   ]
  },
  {
   "cell_type": "markdown",
   "metadata": {},
   "source": [
    "Highly correlated variables deflects model's accuracy. So it's better to remove variables that are highly correlated.\n",
    "Choosing correlation = 0.7 as threshold and removing variables that have correlation greater than 0.7"
   ]
  },
  {
   "cell_type": "markdown",
   "metadata": {},
   "source": [
    "Below are the columns that that are considered for analysis which are less correlated\n",
    "\n",
    "Removing Risk column since it's formed due to Audit_Risk score. Being Risk(1/0) is due to Audit_Risk.  "
   ]
  },
  {
   "cell_type": "code",
   "execution_count": 36,
   "metadata": {},
   "outputs": [],
   "source": [
    "data = data[['Sector_score', 'PARA_A', 'Score_A','PARA_B', 'Score_B','numbers','Money_Value','Score_MV','District_Loss','LOSS_SCORE','History_score','Audit_Risk']]"
   ]
  },
  {
   "cell_type": "code",
   "execution_count": 28,
   "metadata": {},
   "outputs": [
    {
     "data": {
      "text/plain": [
       "Index(['Sector_score', 'PARA_A', 'Score_A', 'Risk_A', 'PARA_B', 'Score_B',\n",
       "       'Risk_B', 'TOTAL', 'numbers', 'Score_B.1', 'Risk_C', 'Money_Value',\n",
       "       'Score_MV', 'Risk_D', 'District_Loss', 'PROB', 'RiSk_E', 'History',\n",
       "       'Prob', 'Risk_F', 'Score', 'Inherent_Risk', 'CONTROL_RISK',\n",
       "       'Detection_Risk', 'Audit_Risk', 'Risk', 'Loss', 'History_score',\n",
       "       'LOSS_SCORE', 'MONEY_Marks'],\n",
       "      dtype='object')"
      ]
     },
     "execution_count": 28,
     "metadata": {},
     "output_type": "execute_result"
    }
   ],
   "source": [
    "data.columns"
   ]
  },
  {
   "cell_type": "markdown",
   "metadata": {},
   "source": [
    "### Data Scaling\n",
    "Since the variables we considered for analysis are not in same range we need to scale them before analysis."
   ]
  },
  {
   "cell_type": "code",
   "execution_count": 29,
   "metadata": {},
   "outputs": [
    {
     "name": "stderr",
     "output_type": "stream",
     "text": [
      "C:\\Users\\Tanmay\\Anaconda3\\lib\\site-packages\\sklearn\\preprocessing\\data.py:323: DataConversionWarning: Data with input dtype int64, float64 were all converted to float64 by MinMaxScaler.\n",
      "  return self.partial_fit(X, y)\n"
     ]
    }
   ],
   "source": [
    "X = data.drop('Audit_Risk',axis=1)\n",
    "y = data['Audit_Risk']\n",
    "\n",
    "from sklearn.model_selection import train_test_split\n",
    "X_train_org, X_test_org, y_train, y_test = train_test_split(X, y, test_size=0.2, random_state=0)\n",
    "\n",
    "from sklearn.preprocessing import MinMaxScaler\n",
    "scaler = MinMaxScaler()\n",
    "X_train = scaler.fit_transform(X_train_org)\n",
    "X_test = scaler.transform(X_test_org)"
   ]
  },
  {
   "cell_type": "markdown",
   "metadata": {},
   "source": [
    "### Supervised Learning - Regression\n",
    "1. Linear Regression\n",
    "2. KNN Regressor\n",
    "3. Ridge Regression\n",
    "4. Lasso Regression\n",
    "5. Polynomial Regression\n",
    "6. SVM (simple & kernal)"
   ]
  },
  {
   "cell_type": "markdown",
   "metadata": {},
   "source": [
    "#### 1.Linear Regression"
   ]
  },
  {
   "cell_type": "code",
   "execution_count": 30,
   "metadata": {},
   "outputs": [
    {
     "name": "stdout",
     "output_type": "stream",
     "text": [
      "Train:0.8754\n",
      "Test:0.7862\n",
      "Mean Squared Error Test: 79.39935189355214\n"
     ]
    }
   ],
   "source": [
    "#Linear Regression\n",
    "from sklearn import metrics\n",
    "from sklearn.linear_model import LinearRegression\n",
    "from sklearn.metrics import accuracy_score\n",
    "lr = LinearRegression()\n",
    "lr.fit(X_train,y_train)\n",
    "print(\"Train:%.4f\"%lr.score(X_train,y_train))\n",
    "print(\"Test:%.4f\"%lr.score(X_test,y_test))\n",
    "pred = lr.predict(X_test)\n",
    "\n",
    "print(\"Mean Squared Error Test:\", metrics.mean_squared_error(y_test,pred))"
   ]
  },
  {
   "cell_type": "code",
   "execution_count": 31,
   "metadata": {},
   "outputs": [
    {
     "name": "stdout",
     "output_type": "stream",
     "text": [
      "Train:0.8754\n",
      "Test:0.7862\n",
      "Best Parameters:{} {'copy_X': True, 'fit_intercept': True, 'normalize': True}\n"
     ]
    }
   ],
   "source": [
    "# Using GridSearch\n",
    "from sklearn.model_selection import GridSearchCV\n",
    "model = LinearRegression()\n",
    "parameters = {'fit_intercept':[True,False], 'normalize':[True,False], 'copy_X':[True, False]}\n",
    "grid = GridSearchCV(model,param_grid=parameters,cv=5)\n",
    "grid.fit(X_train,y_train)\n",
    "print(\"Train:%.4f\"%grid.score(X_train,y_train))\n",
    "print(\"Test:%.4f\"%grid.score(X_test,y_test))\n",
    "print(\"Best Parameters:{}\",format(grid.best_params_))"
   ]
  },
  {
   "cell_type": "code",
   "execution_count": 32,
   "metadata": {
    "scrolled": true
   },
   "outputs": [
    {
     "name": "stdout",
     "output_type": "stream",
     "text": [
      "Avg Train Score:0.7118\n",
      "Avg Test Score:0.0052\n"
     ]
    }
   ],
   "source": [
    "#cross validation\n",
    "from sklearn.model_selection import cross_val_score\n",
    "lr = LinearRegression()\n",
    "train_score = cross_val_score(lr,X_train,y_train,cv=10)\n",
    "test_score = cross_val_score(lr,X_test,y_test,cv=10)\n",
    "\n",
    "print(\"Avg Train Score:%.4f\"%train_score.mean())\n",
    "print(\"Avg Test Score:%.4f\"%test_score.mean())"
   ]
  },
  {
   "cell_type": "markdown",
   "metadata": {},
   "source": [
    "#### 2. KNN Regression"
   ]
  },
  {
   "cell_type": "code",
   "execution_count": 33,
   "metadata": {},
   "outputs": [
    {
     "name": "stderr",
     "output_type": "stream",
     "text": [
      "C:\\Users\\Tanmay\\Anaconda3\\lib\\site-packages\\sklearn\\preprocessing\\data.py:625: DataConversionWarning: Data with input dtype int64, float64 were all converted to float64 by StandardScaler.\n",
      "  return self.partial_fit(X, y)\n",
      "C:\\Users\\Tanmay\\Anaconda3\\lib\\site-packages\\sklearn\\base.py:462: DataConversionWarning: Data with input dtype int64, float64 were all converted to float64 by StandardScaler.\n",
      "  return self.fit(X, **fit_params).transform(X)\n",
      "C:\\Users\\Tanmay\\Anaconda3\\lib\\site-packages\\ipykernel_launcher.py:8: DataConversionWarning: Data with input dtype int64, float64 were all converted to float64 by StandardScaler.\n",
      "  \n"
     ]
    },
    {
     "name": "stdout",
     "output_type": "stream",
     "text": [
      "Train score: {} [1.0, 0.894733093952973, 0.8461817614780334, 0.8255531830254299, 0.7758506266763018, 0.7493806870701047, 0.7270382735476235, 0.7030527979104884, 0.6816066542757047, 0.667871552220663, 0.6484968145612784, 0.6317522407011247, 0.6264683609023544, 0.6124330968272108, 0.60066945805928, 0.5896112637500461, 0.5760990430867345, 0.5723937397576825, 0.5601300366523281]\n",
      "Test score: {} [0.555426906073019, 0.5224709338616584, 0.45428751648614374, 0.5152491774119943, 0.46826186939141756, 0.438929078385198, 0.41549405108009274, 0.43809129179662487, 0.43508483232043493, 0.4350781049553293, 0.4278709103331436, 0.4114843288067267, 0.49304023937332186, 0.4756724187124799, 0.46057615374592686, 0.4487167802988101, 0.43641323850174574, 0.42572347693794044, 0.4168035171285023]\n"
     ]
    },
    {
     "data": {
      "text/plain": [
       "Text(0, 0.5, 'MSE')"
      ]
     },
     "execution_count": 33,
     "metadata": {},
     "output_type": "execute_result"
    },
    {
     "data": {
      "image/png": "[encoded data removed]",
      "text/plain": [
       "<Figure size 432x288 with 1 Axes>"
      ]
     },
     "metadata": {
      "needs_background": "light"
     },
     "output_type": "display_data"
    }
   ],
   "source": [
    "from sklearn.neighbors import KNeighborsRegressor\n",
    "from sklearn.preprocessing import StandardScaler\n",
    "\n",
    "X_train_org, X_test_org, y_train, y_test = train_test_split(X,y,test_size=0.2,random_state = 0)\n",
    "\n",
    "scaler = StandardScaler()\n",
    "X_train = scaler.fit_transform(X_train_org)\n",
    "X_test = scaler.transform(X_test_org)\n",
    "\n",
    "train_score_array = []\n",
    "test_score_array = []\n",
    "\n",
    "for k in range(1,20):\n",
    "    knn_reg = KNeighborsRegressor(k)\n",
    "    knn_reg.fit(X_train, y_train)\n",
    "    train_score_array.append(knn_reg.score(X_train, y_train))\n",
    "    test_score_array.append(knn_reg.score(X_test, y_test))\n",
    "\n",
    "print(\"Train score: {}\",format(train_score_array))\n",
    "print(\"Test score: {}\",format(test_score_array))\n",
    "x_axis = range(1,20)\n",
    "plt.plot(x_axis, train_score_array, c = 'g', label = 'Train Score')\n",
    "plt.plot(x_axis, test_score_array, c = 'b', label = 'Test Score')\n",
    "plt.legend()\n",
    "plt.xlabel('k')\n",
    "plt.ylabel('MSE')"
   ]
  },
  {
   "cell_type": "code",
   "execution_count": 34,
   "metadata": {},
   "outputs": [
    {
     "name": "stdout",
     "output_type": "stream",
     "text": [
      "0.8461817614780334\n",
      "0.45428751648614374\n"
     ]
    }
   ],
   "source": [
    "knn = KNeighborsRegressor(3)\n",
    "knn.fit(X_train,y_train)\n",
    "print(knn.score(X_train,y_train))\n",
    "print(knn.score(X_test,y_test))"
   ]
  },
  {
   "cell_type": "code",
   "execution_count": 35,
   "metadata": {},
   "outputs": [
    {
     "name": "stdout",
     "output_type": "stream",
     "text": [
      "Avg Train Score:0.6969\n",
      "Avg Test Score:0.3324\n",
      "Mean Squared Error Test: 202.69163310727586\n"
     ]
    }
   ],
   "source": [
    "# Using Cross Validation\n",
    "from sklearn.model_selection import cross_val_score\n",
    "knn_reg = KNeighborsRegressor(n_neighbors=3)\n",
    "train_score = cross_val_score(knn_reg,X_train,y_train,cv=10)\n",
    "test_score = cross_val_score(knn_reg,X_test,y_test,cv=10)\n",
    "\n",
    "print(\"Avg Train Score:%.4f\"%train_score.mean())\n",
    "print(\"Avg Test Score:%.4f\"%test_score.mean())\n",
    "pred = knn.predict(X_test)\n",
    "print(\"Mean Squared Error Test:\", metrics.mean_squared_error(y_test,pred))"
   ]
  },
  {
   "cell_type": "code",
   "execution_count": 36,
   "metadata": {},
   "outputs": [
    {
     "data": {
      "text/plain": [
       "Text(0, 0.5, 'Cross-Validated Accuracy')"
      ]
     },
     "execution_count": 36,
     "metadata": {},
     "output_type": "execute_result"
    },
    {
     "data": {
      "image/png": "[encoded data removed]",
      "text/plain": [
       "<Figure size 432x288 with 1 Axes>"
      ]
     },
     "metadata": {
      "needs_background": "light"
     },
     "output_type": "display_data"
    }
   ],
   "source": [
    "k_range = range(1, 20)\n",
    "# list of scores from k_range\n",
    "k_train_scores = []\n",
    "k_test_scores = []\n",
    "\n",
    "# 1. we will loop through reasonable values of k\n",
    "for k in k_range:\n",
    "    # 2. run KNeighborsRegressor with k neighbours\n",
    "    knn = KNeighborsRegressor(n_neighbors=k)\n",
    "    # 3. obtain cross_val_score for KNeighborsRegressor with k neighbours\n",
    "    scores1 = cross_val_score(knn, X_train, y_train, cv=10)\n",
    "    scores2 = cross_val_score(knn, X_test, y_test, cv=10)\n",
    "    # 4. append mean of scores for k neighbors to k_scores list\n",
    "    k_train_scores.append(scores1.mean())\n",
    "    k_test_scores.append(scores2.mean())\n",
    "\n",
    "# plot the value of K for KNN (x-axis) versus the cross-validated accuracy (y-axis)\n",
    "plt.plot(k_range, k_train_scores,'b',label='Train Score')\n",
    "plt.plot(k_range, k_test_scores,'r',label='Test Score')\n",
    "plt.legend()\n",
    "plt.xlabel('Value of K for KNN')\n",
    "plt.ylabel('Cross-Validated Accuracy')"
   ]
  },
  {
   "cell_type": "code",
   "execution_count": 37,
   "metadata": {},
   "outputs": [
    {
     "name": "stdout",
     "output_type": "stream",
     "text": [
      "Best parameters: {'n_neighbors': 3}\n",
      "Best cross-validation score: 0.70\n"
     ]
    },
    {
     "name": "stderr",
     "output_type": "stream",
     "text": [
      "C:\\Users\\Tanmay\\Anaconda3\\lib\\site-packages\\sklearn\\utils\\deprecation.py:125: FutureWarning: You are accessing a training score ('split0_train_score'), which will not be available by default any more in 0.21. If you need training scores, please set return_train_score=True\n",
      "  warnings.warn(*warn_args, **warn_kwargs)\n",
      "C:\\Users\\Tanmay\\Anaconda3\\lib\\site-packages\\sklearn\\utils\\deprecation.py:125: FutureWarning: You are accessing a training score ('split1_train_score'), which will not be available by default any more in 0.21. If you need training scores, please set return_train_score=True\n",
      "  warnings.warn(*warn_args, **warn_kwargs)\n",
      "C:\\Users\\Tanmay\\Anaconda3\\lib\\site-packages\\sklearn\\utils\\deprecation.py:125: FutureWarning: You are accessing a training score ('split2_train_score'), which will not be available by default any more in 0.21. If you need training scores, please set return_train_score=True\n",
      "  warnings.warn(*warn_args, **warn_kwargs)\n",
      "C:\\Users\\Tanmay\\Anaconda3\\lib\\site-packages\\sklearn\\utils\\deprecation.py:125: FutureWarning: You are accessing a training score ('split3_train_score'), which will not be available by default any more in 0.21. If you need training scores, please set return_train_score=True\n",
      "  warnings.warn(*warn_args, **warn_kwargs)\n",
      "C:\\Users\\Tanmay\\Anaconda3\\lib\\site-packages\\sklearn\\utils\\deprecation.py:125: FutureWarning: You are accessing a training score ('split4_train_score'), which will not be available by default any more in 0.21. If you need training scores, please set return_train_score=True\n",
      "  warnings.warn(*warn_args, **warn_kwargs)\n",
      "C:\\Users\\Tanmay\\Anaconda3\\lib\\site-packages\\sklearn\\utils\\deprecation.py:125: FutureWarning: You are accessing a training score ('split5_train_score'), which will not be available by default any more in 0.21. If you need training scores, please set return_train_score=True\n",
      "  warnings.warn(*warn_args, **warn_kwargs)\n",
      "C:\\Users\\Tanmay\\Anaconda3\\lib\\site-packages\\sklearn\\utils\\deprecation.py:125: FutureWarning: You are accessing a training score ('split6_train_score'), which will not be available by default any more in 0.21. If you need training scores, please set return_train_score=True\n",
      "  warnings.warn(*warn_args, **warn_kwargs)\n",
      "C:\\Users\\Tanmay\\Anaconda3\\lib\\site-packages\\sklearn\\utils\\deprecation.py:125: FutureWarning: You are accessing a training score ('split7_train_score'), which will not be available by default any more in 0.21. If you need training scores, please set return_train_score=True\n",
      "  warnings.warn(*warn_args, **warn_kwargs)\n",
      "C:\\Users\\Tanmay\\Anaconda3\\lib\\site-packages\\sklearn\\utils\\deprecation.py:125: FutureWarning: You are accessing a training score ('split8_train_score'), which will not be available by default any more in 0.21. If you need training scores, please set return_train_score=True\n",
      "  warnings.warn(*warn_args, **warn_kwargs)\n",
      "C:\\Users\\Tanmay\\Anaconda3\\lib\\site-packages\\sklearn\\utils\\deprecation.py:125: FutureWarning: You are accessing a training score ('split9_train_score'), which will not be available by default any more in 0.21. If you need training scores, please set return_train_score=True\n",
      "  warnings.warn(*warn_args, **warn_kwargs)\n",
      "C:\\Users\\Tanmay\\Anaconda3\\lib\\site-packages\\sklearn\\utils\\deprecation.py:125: FutureWarning: You are accessing a training score ('mean_train_score'), which will not be available by default any more in 0.21. If you need training scores, please set return_train_score=True\n",
      "  warnings.warn(*warn_args, **warn_kwargs)\n",
      "C:\\Users\\Tanmay\\Anaconda3\\lib\\site-packages\\sklearn\\utils\\deprecation.py:125: FutureWarning: You are accessing a training score ('std_train_score'), which will not be available by default any more in 0.21. If you need training scores, please set return_train_score=True\n",
      "  warnings.warn(*warn_args, **warn_kwargs)\n"
     ]
    },
    {
     "data": {
      "text/html": [
       "<div>\n",
       "<style scoped>\n",
       "    .dataframe tbody tr th:only-of-type {\n",
       "        vertical-align: middle;\n",
       "    }\n",
       "\n",
       "    .dataframe tbody tr th {\n",
       "        vertical-align: top;\n",
       "    }\n",
       "\n",
       "    .dataframe thead th {\n",
       "        text-align: right;\n",
       "    }\n",
       "</style>\n",
       "<table border=\"1\" class=\"dataframe\">\n",
       "  <thead>\n",
       "    <tr style=\"text-align: right;\">\n",
       "      <th></th>\n",
       "      <th>mean_fit_time</th>\n",
       "      <th>std_fit_time</th>\n",
       "      <th>mean_score_time</th>\n",
       "      <th>std_score_time</th>\n",
       "      <th>param_n_neighbors</th>\n",
       "      <th>params</th>\n",
       "      <th>split0_test_score</th>\n",
       "      <th>split1_test_score</th>\n",
       "      <th>split2_test_score</th>\n",
       "      <th>split3_test_score</th>\n",
       "      <th>...</th>\n",
       "      <th>split2_train_score</th>\n",
       "      <th>split3_train_score</th>\n",
       "      <th>split4_train_score</th>\n",
       "      <th>split5_train_score</th>\n",
       "      <th>split6_train_score</th>\n",
       "      <th>split7_train_score</th>\n",
       "      <th>split8_train_score</th>\n",
       "      <th>split9_train_score</th>\n",
       "      <th>mean_train_score</th>\n",
       "      <th>std_train_score</th>\n",
       "    </tr>\n",
       "  </thead>\n",
       "  <tbody>\n",
       "    <tr>\n",
       "      <th>0</th>\n",
       "      <td>0.001397</td>\n",
       "      <td>0.000483</td>\n",
       "      <td>0.001595</td>\n",
       "      <td>0.000488</td>\n",
       "      <td>1</td>\n",
       "      <td>{'n_neighbors': 1}</td>\n",
       "      <td>0.522805</td>\n",
       "      <td>0.581121</td>\n",
       "      <td>0.817417</td>\n",
       "      <td>0.405722</td>\n",
       "      <td>...</td>\n",
       "      <td>1.000000</td>\n",
       "      <td>1.000000</td>\n",
       "      <td>1.000000</td>\n",
       "      <td>1.000000</td>\n",
       "      <td>1.000000</td>\n",
       "      <td>1.000000</td>\n",
       "      <td>1.000000</td>\n",
       "      <td>1.000000</td>\n",
       "      <td>1.000000</td>\n",
       "      <td>0.000000</td>\n",
       "    </tr>\n",
       "    <tr>\n",
       "      <th>1</th>\n",
       "      <td>0.001101</td>\n",
       "      <td>0.000298</td>\n",
       "      <td>0.001791</td>\n",
       "      <td>0.000397</td>\n",
       "      <td>2</td>\n",
       "      <td>{'n_neighbors': 2}</td>\n",
       "      <td>0.384655</td>\n",
       "      <td>0.854998</td>\n",
       "      <td>0.907396</td>\n",
       "      <td>0.063985</td>\n",
       "      <td>...</td>\n",
       "      <td>0.889439</td>\n",
       "      <td>0.892608</td>\n",
       "      <td>0.854583</td>\n",
       "      <td>0.895783</td>\n",
       "      <td>0.883048</td>\n",
       "      <td>0.894911</td>\n",
       "      <td>0.902009</td>\n",
       "      <td>0.893721</td>\n",
       "      <td>0.891513</td>\n",
       "      <td>0.021273</td>\n",
       "    </tr>\n",
       "    <tr>\n",
       "      <th>2</th>\n",
       "      <td>0.001384</td>\n",
       "      <td>0.000498</td>\n",
       "      <td>0.002099</td>\n",
       "      <td>0.000544</td>\n",
       "      <td>3</td>\n",
       "      <td>{'n_neighbors': 3}</td>\n",
       "      <td>0.411723</td>\n",
       "      <td>0.730543</td>\n",
       "      <td>0.901442</td>\n",
       "      <td>0.378372</td>\n",
       "      <td>...</td>\n",
       "      <td>0.837729</td>\n",
       "      <td>0.861765</td>\n",
       "      <td>0.770889</td>\n",
       "      <td>0.841650</td>\n",
       "      <td>0.846500</td>\n",
       "      <td>0.845041</td>\n",
       "      <td>0.847451</td>\n",
       "      <td>0.845608</td>\n",
       "      <td>0.843936</td>\n",
       "      <td>0.030479</td>\n",
       "    </tr>\n",
       "    <tr>\n",
       "      <th>3</th>\n",
       "      <td>0.001399</td>\n",
       "      <td>0.000494</td>\n",
       "      <td>0.002590</td>\n",
       "      <td>0.000665</td>\n",
       "      <td>4</td>\n",
       "      <td>{'n_neighbors': 4}</td>\n",
       "      <td>0.405767</td>\n",
       "      <td>0.667780</td>\n",
       "      <td>0.858717</td>\n",
       "      <td>0.413095</td>\n",
       "      <td>...</td>\n",
       "      <td>0.810366</td>\n",
       "      <td>0.815312</td>\n",
       "      <td>0.732107</td>\n",
       "      <td>0.821373</td>\n",
       "      <td>0.802651</td>\n",
       "      <td>0.822921</td>\n",
       "      <td>0.815627</td>\n",
       "      <td>0.823918</td>\n",
       "      <td>0.813013</td>\n",
       "      <td>0.035591</td>\n",
       "    </tr>\n",
       "    <tr>\n",
       "      <th>4</th>\n",
       "      <td>0.001193</td>\n",
       "      <td>0.000401</td>\n",
       "      <td>0.002191</td>\n",
       "      <td>0.000594</td>\n",
       "      <td>5</td>\n",
       "      <td>{'n_neighbors': 5}</td>\n",
       "      <td>0.426829</td>\n",
       "      <td>0.511298</td>\n",
       "      <td>0.834245</td>\n",
       "      <td>0.432922</td>\n",
       "      <td>...</td>\n",
       "      <td>0.753595</td>\n",
       "      <td>0.781022</td>\n",
       "      <td>0.697155</td>\n",
       "      <td>0.778688</td>\n",
       "      <td>0.767223</td>\n",
       "      <td>0.773886</td>\n",
       "      <td>0.770477</td>\n",
       "      <td>0.773186</td>\n",
       "      <td>0.765540</td>\n",
       "      <td>0.033018</td>\n",
       "    </tr>\n",
       "  </tbody>\n",
       "</table>\n",
       "<p>5 rows × 31 columns</p>\n",
       "</div>"
      ],
      "text/plain": [
       "   mean_fit_time  std_fit_time  mean_score_time  std_score_time  \\\n",
       "0       0.001397      0.000483         0.001595        0.000488   \n",
       "1       0.001101      0.000298         0.001791        0.000397   \n",
       "2       0.001384      0.000498         0.002099        0.000544   \n",
       "3       0.001399      0.000494         0.002590        0.000665   \n",
       "4       0.001193      0.000401         0.002191        0.000594   \n",
       "\n",
       "  param_n_neighbors              params  split0_test_score  split1_test_score  \\\n",
       "0                 1  {'n_neighbors': 1}           0.522805           0.581121   \n",
       "1                 2  {'n_neighbors': 2}           0.384655           0.854998   \n",
       "2                 3  {'n_neighbors': 3}           0.411723           0.730543   \n",
       "3                 4  {'n_neighbors': 4}           0.405767           0.667780   \n",
       "4                 5  {'n_neighbors': 5}           0.426829           0.511298   \n",
       "\n",
       "   split2_test_score  split3_test_score       ...         split2_train_score  \\\n",
       "0           0.817417           0.405722       ...                   1.000000   \n",
       "1           0.907396           0.063985       ...                   0.889439   \n",
       "2           0.901442           0.378372       ...                   0.837729   \n",
       "3           0.858717           0.413095       ...                   0.810366   \n",
       "4           0.834245           0.432922       ...                   0.753595   \n",
       "\n",
       "   split3_train_score  split4_train_score  split5_train_score  \\\n",
       "0            1.000000            1.000000            1.000000   \n",
       "1            0.892608            0.854583            0.895783   \n",
       "2            0.861765            0.770889            0.841650   \n",
       "3            0.815312            0.732107            0.821373   \n",
       "4            0.781022            0.697155            0.778688   \n",
       "\n",
       "   split6_train_score  split7_train_score  split8_train_score  \\\n",
       "0            1.000000            1.000000            1.000000   \n",
       "1            0.883048            0.894911            0.902009   \n",
       "2            0.846500            0.845041            0.847451   \n",
       "3            0.802651            0.822921            0.815627   \n",
       "4            0.767223            0.773886            0.770477   \n",
       "\n",
       "   split9_train_score  mean_train_score  std_train_score  \n",
       "0            1.000000          1.000000         0.000000  \n",
       "1            0.893721          0.891513         0.021273  \n",
       "2            0.845608          0.843936         0.030479  \n",
       "3            0.823918          0.813013         0.035591  \n",
       "4            0.773186          0.765540         0.033018  \n",
       "\n",
       "[5 rows x 31 columns]"
      ]
     },
     "metadata": {},
     "output_type": "display_data"
    }
   ],
   "source": [
    "#Most efficient parameter using GridSearch()\n",
    "from sklearn.model_selection import GridSearchCV\n",
    "k_range = list(range(1, 31))\n",
    "param_grid = dict(n_neighbors=k_range)\n",
    "grid = GridSearchCV(knn, param_grid, cv=10)\n",
    "grid.fit(X_train,y_train)\n",
    "grid.best_score_\n",
    "grid.best_estimator_\n",
    "\n",
    "print(\"Best parameters: {}\".format(grid.best_params_))\n",
    "print(\"Best cross-validation score: {:.2f}\".format(grid.best_score_))\n",
    "\n",
    "results = pd.DataFrame(grid.cv_results_)\n",
    "# show the first 5 rows\n",
    "display(results.head())"
   ]
  },
  {
   "cell_type": "markdown",
   "metadata": {
    "collapsed": true
   },
   "source": [
    "#### 3.Ridge Regression"
   ]
  },
  {
   "cell_type": "code",
   "execution_count": 38,
   "metadata": {},
   "outputs": [
    {
     "data": {
      "text/plain": [
       "Text(0.5, 0, '$\\\\alpha$')"
      ]
     },
     "execution_count": 38,
     "metadata": {},
     "output_type": "execute_result"
    },
    {
     "data": {
      "image/png": "[encoded data removed]",
      "text/plain": [
       "<Figure size 432x288 with 1 Axes>"
      ]
     },
     "metadata": {
      "needs_background": "light"
     },
     "output_type": "display_data"
    }
   ],
   "source": [
    "from  sklearn.linear_model import Ridge\n",
    "\n",
    "x_range = [0.01, 0.1, 1, 10, 100,1000]\n",
    "train_score_list = []\n",
    "test_score_list = []\n",
    "\n",
    "for alpha in x_range: \n",
    "    ridge = Ridge(alpha)\n",
    "    ridge.fit(X_train,y_train)\n",
    "    train_score_list.append(ridge.score(X_train,y_train))\n",
    "    test_score_list.append(ridge.score(X_test, y_test))\n",
    "\n",
    "plt.plot(x_range, train_score_list, c = 'g', label = 'Train Score')\n",
    "plt.plot(x_range, test_score_list, c = 'b', label = 'Test Score')\n",
    "plt.xscale('log')\n",
    "plt.legend(loc = 3)\n",
    "plt.xlabel(r'$\\alpha$')"
   ]
  },
  {
   "cell_type": "code",
   "execution_count": 39,
   "metadata": {},
   "outputs": [
    {
     "name": "stdout",
     "output_type": "stream",
     "text": [
      "Train score: 0.8751\n",
      "Test score: 0.7191\n",
      "Mean Squared Error Test: 104.32245495319648\n"
     ]
    }
   ],
   "source": [
    "ridge = Ridge(alpha = 0.01)\n",
    "ridge.fit(X_train,y_train)\n",
    "print('Train score: {:.4f}'.format(ridge.score(X_train,y_train)))\n",
    "print('Test score: {:.4f}'.format(ridge.score(X_test, y_test)))\n",
    "pred = ridge.predict(X_test)\n",
    "print(\"Mean Squared Error Test:\", metrics.mean_squared_error(y_test,pred))"
   ]
  },
  {
   "cell_type": "code",
   "execution_count": 40,
   "metadata": {},
   "outputs": [
    {
     "data": {
      "text/plain": [
       "<matplotlib.legend.Legend at 0x2077973cf28>"
      ]
     },
     "execution_count": 40,
     "metadata": {},
     "output_type": "execute_result"
    },
    {
     "data": {
      "image/png": "[encoded data removed]",
      "text/plain": [
       "<Figure size 432x288 with 1 Axes>"
      ]
     },
     "metadata": {
      "needs_background": "light"
     },
     "output_type": "display_data"
    }
   ],
   "source": [
    "x_range1 = np.linspace(0.001, 1, 100).reshape(-1,1)\n",
    "x_range2 = np.linspace(1, 10000, 100).reshape(-1,1)\n",
    "\n",
    "x_range = np.append(x_range1, x_range2)\n",
    "coeff = []\n",
    "\n",
    "for alpha in x_range: \n",
    "    ridge = Ridge(alpha)\n",
    "    ridge.fit(X_train,y_train)\n",
    "    coeff.append(ridge.coef_ )\n",
    "    \n",
    "coeff = np.array(coeff)\n",
    "\n",
    "for i in range(0,10):\n",
    "    plt.plot(x_range, coeff[:,i], label = 'feature {:d}'.format(i))\n",
    "\n",
    "plt.axhline(y=0, xmin=0.001, xmax=9999, linewidth=1, c ='gray')\n",
    "plt.xlabel(r'$\\alpha$')\n",
    "plt.xscale('log')\n",
    "plt.legend(loc='upper center', bbox_to_anchor=(0.5, 1.5),\n",
    "          ncol=3, fancybox=True, shadow=True)"
   ]
  },
  {
   "cell_type": "code",
   "execution_count": 41,
   "metadata": {},
   "outputs": [
    {
     "name": "stdout",
     "output_type": "stream",
     "text": [
      "Avg Train Score:0.7492\n",
      "Avg Test Score:0.2106\n"
     ]
    }
   ],
   "source": [
    "#cross validation\n",
    "ridge = Ridge(alpha = 1000)\n",
    "train_score = cross_val_score(ridge,X_train,y_train,cv=5)\n",
    "test_score = cross_val_score(ridge,X_test,y_test,cv=5)\n",
    "print(\"Avg Train Score:%.4f\"%train_score.mean())\n",
    "print(\"Avg Test Score:%.4f\"%test_score.mean())\n"
   ]
  },
  {
   "cell_type": "code",
   "execution_count": 42,
   "metadata": {},
   "outputs": [
    {
     "data": {
      "text/plain": [
       "Text(0, 0.5, 'Cross-Validated Accuracy')"
      ]
     },
     "execution_count": 42,
     "metadata": {},
     "output_type": "execute_result"
    },
    {
     "data": {
      "image/png": "[encoded data removed]",
      "text/plain": [
       "<Figure size 432x288 with 1 Axes>"
      ]
     },
     "metadata": {
      "needs_background": "light"
     },
     "output_type": "display_data"
    }
   ],
   "source": [
    "alpha = [0.001,0.01, 0.1,1,10,100,1000]\n",
    "\n",
    "ridge_train_scores = []\n",
    "ridge_test_scores = []\n",
    "\n",
    "# 1. we will loop through reasonable values of k\n",
    "for i in alpha:\n",
    "    # 2. run KNeighborsClassifier with k neighbours\n",
    "    ridge = Ridge(i)\n",
    "    # 3. obtain cross_val_score for KNeighborsClassifier with k neighbours\n",
    "    scores1 = cross_val_score(ridge, X_train, y_train, cv=10)\n",
    "    scores2 = cross_val_score(ridge, X_test, y_test, cv=10)\n",
    "    # 4. append mean of scores for k neighbors to k_scores list\n",
    "    ridge_train_scores.append(scores1.mean())\n",
    "    ridge_test_scores.append(scores2.mean())\n",
    "\n",
    "# plot the value of K for KNN (x-axis) versus the cross-validated accuracy (y-axis)\n",
    "plt.plot(alpha, ridge_train_scores,'b',label='Train Score')\n",
    "plt.plot(alpha, ridge_test_scores,'r',label='Test Score')\n",
    "plt.legend()\n",
    "plt.xlabel('Value of alpha for Ridge')\n",
    "plt.ylabel('Cross-Validated Accuracy')"
   ]
  },
  {
   "cell_type": "code",
   "execution_count": 52,
   "metadata": {},
   "outputs": [
    {
     "name": "stdout",
     "output_type": "stream",
     "text": [
      "Best parameters: {'alpha': 100.0}\n",
      "Best cross-validation score: 0.75\n"
     ]
    },
    {
     "name": "stderr",
     "output_type": "stream",
     "text": [
      "C:\\Users\\Tanmay\\Anaconda3\\lib\\site-packages\\sklearn\\model_selection\\_split.py:2053: FutureWarning: You should specify a value for 'cv' instead of relying on the default value. The default value will change from 3 to 5 in version 0.22.\n",
      "  warnings.warn(CV_WARNING, FutureWarning)\n",
      "C:\\Users\\Tanmay\\Anaconda3\\lib\\site-packages\\sklearn\\model_selection\\_search.py:841: DeprecationWarning: The default of the `iid` parameter will change from True to False in version 0.22 and will be removed in 0.24. This will change numeric results when test-set sizes are unequal.\n",
      "  DeprecationWarning)\n",
      "C:\\Users\\Tanmay\\Anaconda3\\lib\\site-packages\\sklearn\\utils\\deprecation.py:125: FutureWarning: You are accessing a training score ('split0_train_score'), which will not be available by default any more in 0.21. If you need training scores, please set return_train_score=True\n",
      "  warnings.warn(*warn_args, **warn_kwargs)\n",
      "C:\\Users\\Tanmay\\Anaconda3\\lib\\site-packages\\sklearn\\utils\\deprecation.py:125: FutureWarning: You are accessing a training score ('split1_train_score'), which will not be available by default any more in 0.21. If you need training scores, please set return_train_score=True\n",
      "  warnings.warn(*warn_args, **warn_kwargs)\n",
      "C:\\Users\\Tanmay\\Anaconda3\\lib\\site-packages\\sklearn\\utils\\deprecation.py:125: FutureWarning: You are accessing a training score ('split2_train_score'), which will not be available by default any more in 0.21. If you need training scores, please set return_train_score=True\n",
      "  warnings.warn(*warn_args, **warn_kwargs)\n",
      "C:\\Users\\Tanmay\\Anaconda3\\lib\\site-packages\\sklearn\\utils\\deprecation.py:125: FutureWarning: You are accessing a training score ('mean_train_score'), which will not be available by default any more in 0.21. If you need training scores, please set return_train_score=True\n",
      "  warnings.warn(*warn_args, **warn_kwargs)\n",
      "C:\\Users\\Tanmay\\Anaconda3\\lib\\site-packages\\sklearn\\utils\\deprecation.py:125: FutureWarning: You are accessing a training score ('std_train_score'), which will not be available by default any more in 0.21. If you need training scores, please set return_train_score=True\n",
      "  warnings.warn(*warn_args, **warn_kwargs)\n"
     ]
    },
    {
     "data": {
      "text/html": [
       "<div>\n",
       "<style scoped>\n",
       "    .dataframe tbody tr th:only-of-type {\n",
       "        vertical-align: middle;\n",
       "    }\n",
       "\n",
       "    .dataframe tbody tr th {\n",
       "        vertical-align: top;\n",
       "    }\n",
       "\n",
       "    .dataframe thead th {\n",
       "        text-align: right;\n",
       "    }\n",
       "</style>\n",
       "<table border=\"1\" class=\"dataframe\">\n",
       "  <thead>\n",
       "    <tr style=\"text-align: right;\">\n",
       "      <th></th>\n",
       "      <th>mean_fit_time</th>\n",
       "      <th>std_fit_time</th>\n",
       "      <th>mean_score_time</th>\n",
       "      <th>std_score_time</th>\n",
       "      <th>param_alpha</th>\n",
       "      <th>params</th>\n",
       "      <th>split0_test_score</th>\n",
       "      <th>split1_test_score</th>\n",
       "      <th>split2_test_score</th>\n",
       "      <th>mean_test_score</th>\n",
       "      <th>std_test_score</th>\n",
       "      <th>rank_test_score</th>\n",
       "      <th>split0_train_score</th>\n",
       "      <th>split1_train_score</th>\n",
       "      <th>split2_train_score</th>\n",
       "      <th>mean_train_score</th>\n",
       "      <th>std_train_score</th>\n",
       "    </tr>\n",
       "  </thead>\n",
       "  <tbody>\n",
       "    <tr>\n",
       "      <th>0</th>\n",
       "      <td>0.000665</td>\n",
       "      <td>4.703589e-04</td>\n",
       "      <td>0.000332</td>\n",
       "      <td>0.00047</td>\n",
       "      <td>1000</td>\n",
       "      <td>{'alpha': 1000.0}</td>\n",
       "      <td>0.398668</td>\n",
       "      <td>0.554192</td>\n",
       "      <td>0.695971</td>\n",
       "      <td>0.549374</td>\n",
       "      <td>0.121372</td>\n",
       "      <td>7</td>\n",
       "      <td>0.535237</td>\n",
       "      <td>0.495344</td>\n",
       "      <td>0.580431</td>\n",
       "      <td>0.537004</td>\n",
       "      <td>0.034759</td>\n",
       "    </tr>\n",
       "    <tr>\n",
       "      <th>1</th>\n",
       "      <td>0.000665</td>\n",
       "      <td>4.701341e-04</td>\n",
       "      <td>0.000332</td>\n",
       "      <td>0.00047</td>\n",
       "      <td>100</td>\n",
       "      <td>{'alpha': 100.0}</td>\n",
       "      <td>0.689215</td>\n",
       "      <td>0.832997</td>\n",
       "      <td>0.715518</td>\n",
       "      <td>0.745959</td>\n",
       "      <td>0.062548</td>\n",
       "      <td>1</td>\n",
       "      <td>0.822006</td>\n",
       "      <td>0.754247</td>\n",
       "      <td>0.794914</td>\n",
       "      <td>0.790389</td>\n",
       "      <td>0.027847</td>\n",
       "    </tr>\n",
       "    <tr>\n",
       "      <th>2</th>\n",
       "      <td>0.000665</td>\n",
       "      <td>4.703027e-04</td>\n",
       "      <td>0.000332</td>\n",
       "      <td>0.00047</td>\n",
       "      <td>10</td>\n",
       "      <td>{'alpha': 10.0}</td>\n",
       "      <td>0.739684</td>\n",
       "      <td>0.835381</td>\n",
       "      <td>0.650513</td>\n",
       "      <td>0.742007</td>\n",
       "      <td>0.075459</td>\n",
       "      <td>2</td>\n",
       "      <td>0.855724</td>\n",
       "      <td>0.781726</td>\n",
       "      <td>0.809525</td>\n",
       "      <td>0.815659</td>\n",
       "      <td>0.030519</td>\n",
       "    </tr>\n",
       "    <tr>\n",
       "      <th>3</th>\n",
       "      <td>0.000997</td>\n",
       "      <td>6.257699e-07</td>\n",
       "      <td>0.000000</td>\n",
       "      <td>0.00000</td>\n",
       "      <td>1</td>\n",
       "      <td>{'alpha': 1.0}</td>\n",
       "      <td>0.741957</td>\n",
       "      <td>0.830478</td>\n",
       "      <td>0.638977</td>\n",
       "      <td>0.737296</td>\n",
       "      <td>0.078218</td>\n",
       "      <td>3</td>\n",
       "      <td>0.856533</td>\n",
       "      <td>0.782261</td>\n",
       "      <td>0.809765</td>\n",
       "      <td>0.816186</td>\n",
       "      <td>0.030660</td>\n",
       "    </tr>\n",
       "    <tr>\n",
       "      <th>4</th>\n",
       "      <td>0.000665</td>\n",
       "      <td>4.701903e-04</td>\n",
       "      <td>0.000332</td>\n",
       "      <td>0.00047</td>\n",
       "      <td>0.1</td>\n",
       "      <td>{'alpha': 0.1}</td>\n",
       "      <td>0.742083</td>\n",
       "      <td>0.829887</td>\n",
       "      <td>0.637732</td>\n",
       "      <td>0.736727</td>\n",
       "      <td>0.078507</td>\n",
       "      <td>4</td>\n",
       "      <td>0.856542</td>\n",
       "      <td>0.782267</td>\n",
       "      <td>0.809767</td>\n",
       "      <td>0.816192</td>\n",
       "      <td>0.030661</td>\n",
       "    </tr>\n",
       "  </tbody>\n",
       "</table>\n",
       "</div>"
      ],
      "text/plain": [
       "   mean_fit_time  std_fit_time  mean_score_time  std_score_time param_alpha  \\\n",
       "0       0.000665  4.703589e-04         0.000332         0.00047        1000   \n",
       "1       0.000665  4.701341e-04         0.000332         0.00047         100   \n",
       "2       0.000665  4.703027e-04         0.000332         0.00047          10   \n",
       "3       0.000997  6.257699e-07         0.000000         0.00000           1   \n",
       "4       0.000665  4.701903e-04         0.000332         0.00047         0.1   \n",
       "\n",
       "              params  split0_test_score  split1_test_score  split2_test_score  \\\n",
       "0  {'alpha': 1000.0}           0.398668           0.554192           0.695971   \n",
       "1   {'alpha': 100.0}           0.689215           0.832997           0.715518   \n",
       "2    {'alpha': 10.0}           0.739684           0.835381           0.650513   \n",
       "3     {'alpha': 1.0}           0.741957           0.830478           0.638977   \n",
       "4     {'alpha': 0.1}           0.742083           0.829887           0.637732   \n",
       "\n",
       "   mean_test_score  std_test_score  rank_test_score  split0_train_score  \\\n",
       "0         0.549374        0.121372                7            0.535237   \n",
       "1         0.745959        0.062548                1            0.822006   \n",
       "2         0.742007        0.075459                2            0.855724   \n",
       "3         0.737296        0.078218                3            0.856533   \n",
       "4         0.736727        0.078507                4            0.856542   \n",
       "\n",
       "   split1_train_score  split2_train_score  mean_train_score  std_train_score  \n",
       "0            0.495344            0.580431          0.537004         0.034759  \n",
       "1            0.754247            0.794914          0.790389         0.027847  \n",
       "2            0.781726            0.809525          0.815659         0.030519  \n",
       "3            0.782261            0.809765          0.816186         0.030660  \n",
       "4            0.782267            0.809767          0.816192         0.030661  "
      ]
     },
     "metadata": {},
     "output_type": "display_data"
    }
   ],
   "source": [
    "# GridSearch()\n",
    "from sklearn.model_selection import GridSearchCV\n",
    "alphas = np.array([1000,100,10,1,0.1,0.01,0.001])\n",
    "model = Ridge()\n",
    "grid = GridSearchCV(estimator=model, param_grid=dict(alpha=alphas))\n",
    "grid.fit(X_train,y_train)\n",
    "\n",
    "print(\"Best parameters: {}\".format(grid.best_params_))\n",
    "print(\"Best cross-validation score: {:.2f}\".format(grid.best_score_))\n",
    "\n",
    "results = pd.DataFrame(grid.cv_results_)\n",
    "# show the first 5 rows\n",
    "display(results.head())"
   ]
  },
  {
   "cell_type": "markdown",
   "metadata": {},
   "source": [
    "#### 4.Lasso"
   ]
  },
  {
   "cell_type": "code",
   "execution_count": 126,
   "metadata": {},
   "outputs": [
    {
     "data": {
      "text/plain": [
       "Text(0.5, 0, '$\\\\alpha$')"
      ]
     },
     "execution_count": 126,
     "metadata": {},
     "output_type": "execute_result"
    },
    {
     "data": {
      "image/png": "[encoded data removed]",
      "text/plain": [
       "<Figure size 432x288 with 1 Axes>"
      ]
     },
     "metadata": {
      "needs_background": "light"
     },
     "output_type": "display_data"
    }
   ],
   "source": [
    "from sklearn.linear_model import Lasso\n",
    "x_range = [0.01, 0.1, 1, 10, 100]\n",
    "train_score_list = []\n",
    "test_score_list = []\n",
    "\n",
    "for alpha in x_range: \n",
    "    lasso = Lasso(alpha)\n",
    "    lasso.fit(X_train,y_train)\n",
    "    train_score_list.append(lasso.score(X_train,y_train))\n",
    "    test_score_list.append(lasso.score(X_test, y_test))\n",
    "\n",
    "plt.plot(x_range, train_score_list, c = 'g', label = 'Train Score')\n",
    "plt.plot(x_range, test_score_list, c = 'b', label = 'Test Score')\n",
    "plt.xscale('log')\n",
    "plt.legend(loc = 3)\n",
    "plt.xlabel(r'$\\alpha$')"
   ]
  },
  {
   "cell_type": "code",
   "execution_count": 128,
   "metadata": {},
   "outputs": [
    {
     "name": "stdout",
     "output_type": "stream",
     "text": [
      "Train score: 0.7507\n",
      "Test score: 0.7214\n",
      "Mean Squared Error Test: 0.06837231408835201\n"
     ]
    }
   ],
   "source": [
    "lasso = Lasso(alpha=0.01)\n",
    "lasso.fit(X_train,y_train)\n",
    "print('Train score: {:.4f}'.format(lasso.score(X_train,y_train)))\n",
    "print('Test score: {:.4f}'.format(lasso.score(X_test, y_test)))\n",
    "pred = lasso.predict(X_test)\n",
    "print(\"Mean Squared Error Test:\", metrics.mean_squared_error(y_test,pred))"
   ]
  },
  {
   "cell_type": "code",
   "execution_count": 55,
   "metadata": {},
   "outputs": [
    {
     "data": {
      "text/plain": [
       "<matplotlib.legend.Legend at 0x1e46d8dbcf8>"
      ]
     },
     "execution_count": 55,
     "metadata": {},
     "output_type": "execute_result"
    },
    {
     "data": {
      "image/png": "[encoded data removed]",
      "text/plain": [
       "<Figure size 432x288 with 1 Axes>"
      ]
     },
     "metadata": {
      "needs_background": "light"
     },
     "output_type": "display_data"
    }
   ],
   "source": [
    "x_range1 = np.linspace(0.01, 1, 100).reshape(-1,1)\n",
    "x_range2 = np.linspace(1, 100, 100).reshape(-1,1)\n",
    "\n",
    "x_range = np.append(x_range1, x_range2)\n",
    "coeff = []\n",
    "\n",
    "for alpha in x_range: \n",
    "    lasso = Lasso(alpha)\n",
    "    lasso.fit(X_train,y_train)\n",
    "    coeff.append(lasso.coef_ )\n",
    "    \n",
    "coeff = np.array(coeff)\n",
    "\n",
    "for i in range(0,10):\n",
    "    plt.plot(x_range, coeff[:,i], label = 'feature {:d}'.format(i))\n",
    "\n",
    "plt.axhline(y=0, xmin=0.001, xmax=9999, linewidth=1, c ='gray')\n",
    "plt.xlabel(r'$\\alpha$')\n",
    "plt.xscale('log')\n",
    "plt.legend(loc='upper center', bbox_to_anchor=(0.5, 1.5),\n",
    "          ncol=3, fancybox=True, shadow=True)"
   ]
  },
  {
   "cell_type": "code",
   "execution_count": 56,
   "metadata": {},
   "outputs": [
    {
     "name": "stdout",
     "output_type": "stream",
     "text": [
      "Best parameters: {'alpha': 1}\n",
      "Best cross-validation score: 0.78\n"
     ]
    },
    {
     "data": {
      "text/html": [
       "<div>\n",
       "<style scoped>\n",
       "    .dataframe tbody tr th:only-of-type {\n",
       "        vertical-align: middle;\n",
       "    }\n",
       "\n",
       "    .dataframe tbody tr th {\n",
       "        vertical-align: top;\n",
       "    }\n",
       "\n",
       "    .dataframe thead th {\n",
       "        text-align: right;\n",
       "    }\n",
       "</style>\n",
       "<table border=\"1\" class=\"dataframe\">\n",
       "  <thead>\n",
       "    <tr style=\"text-align: right;\">\n",
       "      <th></th>\n",
       "      <th>mean_fit_time</th>\n",
       "      <th>std_fit_time</th>\n",
       "      <th>mean_score_time</th>\n",
       "      <th>std_score_time</th>\n",
       "      <th>param_alpha</th>\n",
       "      <th>params</th>\n",
       "      <th>split0_test_score</th>\n",
       "      <th>split1_test_score</th>\n",
       "      <th>split2_test_score</th>\n",
       "      <th>split3_test_score</th>\n",
       "      <th>...</th>\n",
       "      <th>mean_test_score</th>\n",
       "      <th>std_test_score</th>\n",
       "      <th>rank_test_score</th>\n",
       "      <th>split0_train_score</th>\n",
       "      <th>split1_train_score</th>\n",
       "      <th>split2_train_score</th>\n",
       "      <th>split3_train_score</th>\n",
       "      <th>split4_train_score</th>\n",
       "      <th>mean_train_score</th>\n",
       "      <th>std_train_score</th>\n",
       "    </tr>\n",
       "  </thead>\n",
       "  <tbody>\n",
       "    <tr>\n",
       "      <th>0</th>\n",
       "      <td>0.001197</td>\n",
       "      <td>0.000399</td>\n",
       "      <td>0.000599</td>\n",
       "      <td>0.000489</td>\n",
       "      <td>0.001</td>\n",
       "      <td>{'alpha': 0.001}</td>\n",
       "      <td>0.711292</td>\n",
       "      <td>0.779671</td>\n",
       "      <td>0.836786</td>\n",
       "      <td>0.804050</td>\n",
       "      <td>...</td>\n",
       "      <td>0.757222</td>\n",
       "      <td>0.065921</td>\n",
       "      <td>4</td>\n",
       "      <td>0.864058</td>\n",
       "      <td>0.804731</td>\n",
       "      <td>0.782604</td>\n",
       "      <td>0.802692</td>\n",
       "      <td>0.807802</td>\n",
       "      <td>0.812377</td>\n",
       "      <td>0.027315</td>\n",
       "    </tr>\n",
       "    <tr>\n",
       "      <th>1</th>\n",
       "      <td>0.000598</td>\n",
       "      <td>0.000488</td>\n",
       "      <td>0.000200</td>\n",
       "      <td>0.000399</td>\n",
       "      <td>0.01</td>\n",
       "      <td>{'alpha': 0.01}</td>\n",
       "      <td>0.710543</td>\n",
       "      <td>0.780421</td>\n",
       "      <td>0.836825</td>\n",
       "      <td>0.804907</td>\n",
       "      <td>...</td>\n",
       "      <td>0.757935</td>\n",
       "      <td>0.065382</td>\n",
       "      <td>3</td>\n",
       "      <td>0.864051</td>\n",
       "      <td>0.804726</td>\n",
       "      <td>0.782598</td>\n",
       "      <td>0.802688</td>\n",
       "      <td>0.807798</td>\n",
       "      <td>0.812372</td>\n",
       "      <td>0.027314</td>\n",
       "    </tr>\n",
       "    <tr>\n",
       "      <th>2</th>\n",
       "      <td>0.000798</td>\n",
       "      <td>0.000399</td>\n",
       "      <td>0.000200</td>\n",
       "      <td>0.000399</td>\n",
       "      <td>0.1</td>\n",
       "      <td>{'alpha': 0.1}</td>\n",
       "      <td>0.702928</td>\n",
       "      <td>0.787085</td>\n",
       "      <td>0.836888</td>\n",
       "      <td>0.811639</td>\n",
       "      <td>...</td>\n",
       "      <td>0.764212</td>\n",
       "      <td>0.060801</td>\n",
       "      <td>2</td>\n",
       "      <td>0.863373</td>\n",
       "      <td>0.804272</td>\n",
       "      <td>0.782035</td>\n",
       "      <td>0.802259</td>\n",
       "      <td>0.807381</td>\n",
       "      <td>0.811864</td>\n",
       "      <td>0.027251</td>\n",
       "    </tr>\n",
       "    <tr>\n",
       "      <th>3</th>\n",
       "      <td>0.000399</td>\n",
       "      <td>0.000489</td>\n",
       "      <td>0.000399</td>\n",
       "      <td>0.000489</td>\n",
       "      <td>1</td>\n",
       "      <td>{'alpha': 1}</td>\n",
       "      <td>0.652578</td>\n",
       "      <td>0.799481</td>\n",
       "      <td>0.831704</td>\n",
       "      <td>0.817577</td>\n",
       "      <td>...</td>\n",
       "      <td>0.783910</td>\n",
       "      <td>0.066460</td>\n",
       "      <td>1</td>\n",
       "      <td>0.840770</td>\n",
       "      <td>0.787063</td>\n",
       "      <td>0.760455</td>\n",
       "      <td>0.787324</td>\n",
       "      <td>0.790834</td>\n",
       "      <td>0.793289</td>\n",
       "      <td>0.026126</td>\n",
       "    </tr>\n",
       "    <tr>\n",
       "      <th>4</th>\n",
       "      <td>0.000399</td>\n",
       "      <td>0.000489</td>\n",
       "      <td>0.000199</td>\n",
       "      <td>0.000399</td>\n",
       "      <td>10</td>\n",
       "      <td>{'alpha': 10}</td>\n",
       "      <td>-0.020456</td>\n",
       "      <td>0.252622</td>\n",
       "      <td>-0.009534</td>\n",
       "      <td>0.173865</td>\n",
       "      <td>...</td>\n",
       "      <td>0.114253</td>\n",
       "      <td>0.109390</td>\n",
       "      <td>5</td>\n",
       "      <td>0.000000</td>\n",
       "      <td>0.211887</td>\n",
       "      <td>0.000000</td>\n",
       "      <td>0.288305</td>\n",
       "      <td>0.271541</td>\n",
       "      <td>0.154346</td>\n",
       "      <td>0.128558</td>\n",
       "    </tr>\n",
       "  </tbody>\n",
       "</table>\n",
       "<p>5 rows × 21 columns</p>\n",
       "</div>"
      ],
      "text/plain": [
       "   mean_fit_time  std_fit_time  mean_score_time  std_score_time param_alpha  \\\n",
       "0       0.001197      0.000399         0.000599        0.000489       0.001   \n",
       "1       0.000598      0.000488         0.000200        0.000399        0.01   \n",
       "2       0.000798      0.000399         0.000200        0.000399         0.1   \n",
       "3       0.000399      0.000489         0.000399        0.000489           1   \n",
       "4       0.000399      0.000489         0.000199        0.000399          10   \n",
       "\n",
       "             params  split0_test_score  split1_test_score  split2_test_score  \\\n",
       "0  {'alpha': 0.001}           0.711292           0.779671           0.836786   \n",
       "1   {'alpha': 0.01}           0.710543           0.780421           0.836825   \n",
       "2    {'alpha': 0.1}           0.702928           0.787085           0.836888   \n",
       "3      {'alpha': 1}           0.652578           0.799481           0.831704   \n",
       "4     {'alpha': 10}          -0.020456           0.252622          -0.009534   \n",
       "\n",
       "   split3_test_score       ...         mean_test_score  std_test_score  \\\n",
       "0           0.804050       ...                0.757222        0.065921   \n",
       "1           0.804907       ...                0.757935        0.065382   \n",
       "2           0.811639       ...                0.764212        0.060801   \n",
       "3           0.817577       ...                0.783910        0.066460   \n",
       "4           0.173865       ...                0.114253        0.109390   \n",
       "\n",
       "   rank_test_score  split0_train_score  split1_train_score  \\\n",
       "0                4            0.864058            0.804731   \n",
       "1                3            0.864051            0.804726   \n",
       "2                2            0.863373            0.804272   \n",
       "3                1            0.840770            0.787063   \n",
       "4                5            0.000000            0.211887   \n",
       "\n",
       "   split2_train_score  split3_train_score  split4_train_score  \\\n",
       "0            0.782604            0.802692            0.807802   \n",
       "1            0.782598            0.802688            0.807798   \n",
       "2            0.782035            0.802259            0.807381   \n",
       "3            0.760455            0.787324            0.790834   \n",
       "4            0.000000            0.288305            0.271541   \n",
       "\n",
       "   mean_train_score  std_train_score  \n",
       "0          0.812377         0.027315  \n",
       "1          0.812372         0.027314  \n",
       "2          0.811864         0.027251  \n",
       "3          0.793289         0.026126  \n",
       "4          0.154346         0.128558  \n",
       "\n",
       "[5 rows x 21 columns]"
      ]
     },
     "metadata": {},
     "output_type": "display_data"
    }
   ],
   "source": [
    "#Grid_Search\n",
    "param_grid = {'alpha':[0.001, 0.01, 0.1, 1, 10, 100]}\n",
    "grid_search = GridSearchCV(Lasso(),param_grid,cv=5,return_train_score=True)\n",
    "grid_search.fit(X_train,y_train)\n",
    "\n",
    "print(\"Best parameters: {}\".format(grid_search.best_params_))\n",
    "print(\"Best cross-validation score: {:.2f}\".format(grid_search.best_score_))\n",
    "\n",
    "results = pd.DataFrame(grid_search.cv_results_)\n",
    "# show the first 5 rows\n",
    "display(results.head())"
   ]
  },
  {
   "cell_type": "code",
   "execution_count": null,
   "metadata": {},
   "outputs": [],
   "source": [
    "#cross validation\n",
    "lasso = Lasso(alpha =0.001)\n",
    "train_score = cross_val_score(lasso,X_train,y_train,cv=5)\n",
    "test_score = cross_val_score(lasso,X_test,y_test,cv=5)\n",
    "print(\"Avg Train Score:%.4f\"%train_score.mean())\n",
    "print(\"Avg Test Score:%.4f\"%test_score.mean())"
   ]
  },
  {
   "cell_type": "markdown",
   "metadata": {},
   "source": [
    "#### 5. Polynomial"
   ]
  },
  {
   "cell_type": "code",
   "execution_count": 138,
   "metadata": {},
   "outputs": [
    {
     "name": "stdout",
     "output_type": "stream",
     "text": [
      "[0.7543570677111144, 0.9052075426722959]\n",
      "[0.723262853740192, 0.692590358908533]\n",
      "Mean Squared Error Test: 0.0754417167065677\n"
     ]
    }
   ],
   "source": [
    "from sklearn.preprocessing import PolynomialFeatures\n",
    "\n",
    "train_score_list = []\n",
    "test_score_list = []\n",
    "\n",
    "for n in range(1,3):\n",
    "    poly = PolynomialFeatures(n)\n",
    "    X_train_poly = poly.fit_transform(X_train)\n",
    "    X_test_poly = poly.transform(X_test)\n",
    "    lr.fit(X_train_poly, y_train)\n",
    "    train_score_list.append(lr.score(X_train_poly, y_train))\n",
    "    test_score_list.append(lr.score(X_test_poly, y_test))\n",
    "\n",
    "print(train_score_list)\n",
    "print(test_score_list)\n",
    "pred = lr.predict(X_test_poly)\n",
    "print(\"Mean Squared Error Test:\", metrics.mean_squared_error(y_test,pred))"
   ]
  },
  {
   "cell_type": "markdown",
   "metadata": {},
   "source": [
    "#### 6. SVM(simple)"
   ]
  },
  {
   "cell_type": "code",
   "execution_count": 59,
   "metadata": {},
   "outputs": [
    {
     "name": "stderr",
     "output_type": "stream",
     "text": [
      "C:\\Users\\Tanmay\\Anaconda3\\lib\\site-packages\\sklearn\\svm\\base.py:922: ConvergenceWarning: Liblinear failed to converge, increase the number of iterations.\n",
      "  \"the number of iterations.\", ConvergenceWarning)\n",
      "C:\\Users\\Tanmay\\Anaconda3\\lib\\site-packages\\sklearn\\svm\\base.py:922: ConvergenceWarning: Liblinear failed to converge, increase the number of iterations.\n",
      "  \"the number of iterations.\", ConvergenceWarning)\n",
      "C:\\Users\\Tanmay\\Anaconda3\\lib\\site-packages\\sklearn\\svm\\base.py:922: ConvergenceWarning: Liblinear failed to converge, increase the number of iterations.\n",
      "  \"the number of iterations.\", ConvergenceWarning)\n"
     ]
    },
    {
     "data": {
      "text/plain": [
       "[<matplotlib.lines.Line2D at 0x1e46d97d9e8>]"
      ]
     },
     "execution_count": 59,
     "metadata": {},
     "output_type": "execute_result"
    },
    {
     "data": {
      "image/png": "[encoded data removed]",
      "text/plain": [
       "<Figure size 432x288 with 1 Axes>"
      ]
     },
     "metadata": {
      "needs_background": "light"
     },
     "output_type": "display_data"
    }
   ],
   "source": [
    "from sklearn.svm import LinearSVR\n",
    "train_score = []\n",
    "test_score = []\n",
    "C = [0.01,0.1,1,10,100]\n",
    "\n",
    "for i in C:\n",
    "    svr = LinearSVR(C=i)\n",
    "    svr.fit(X_train,y_train)\n",
    "    train_score.append(svr.score(X_train,y_train))\n",
    "    test_score.append(svr.score(X_test,y_test))\n",
    "\n",
    "plt.plot(C,train_score,'b')\n",
    "plt.plot(C,test_score,'r')"
   ]
  },
  {
   "cell_type": "code",
   "execution_count": 60,
   "metadata": {},
   "outputs": [
    {
     "name": "stdout",
     "output_type": "stream",
     "text": [
      "Train score: 0.7283\n",
      "Test score: 0.6079\n"
     ]
    },
    {
     "name": "stderr",
     "output_type": "stream",
     "text": [
      "C:\\Users\\Tanmay\\Anaconda3\\lib\\site-packages\\sklearn\\svm\\base.py:922: ConvergenceWarning: Liblinear failed to converge, increase the number of iterations.\n",
      "  \"the number of iterations.\", ConvergenceWarning)\n"
     ]
    }
   ],
   "source": [
    "svr = LinearSVR(C=10)\n",
    "svr.fit(X_train,y_train)\n",
    "print('Train score: {:.4f}'.format(svr.score(X_train,y_train)))\n",
    "print('Test score: {:.4f}'.format(svr.score(X_test, y_test)))"
   ]
  },
  {
   "cell_type": "code",
   "execution_count": 61,
   "metadata": {},
   "outputs": [
    {
     "name": "stderr",
     "output_type": "stream",
     "text": [
      "C:\\Users\\Tanmay\\Anaconda3\\lib\\site-packages\\sklearn\\svm\\base.py:922: ConvergenceWarning: Liblinear failed to converge, increase the number of iterations.\n",
      "  \"the number of iterations.\", ConvergenceWarning)\n",
      "C:\\Users\\Tanmay\\Anaconda3\\lib\\site-packages\\sklearn\\svm\\base.py:922: ConvergenceWarning: Liblinear failed to converge, increase the number of iterations.\n",
      "  \"the number of iterations.\", ConvergenceWarning)\n",
      "C:\\Users\\Tanmay\\Anaconda3\\lib\\site-packages\\sklearn\\svm\\base.py:922: ConvergenceWarning: Liblinear failed to converge, increase the number of iterations.\n",
      "  \"the number of iterations.\", ConvergenceWarning)\n",
      "C:\\Users\\Tanmay\\Anaconda3\\lib\\site-packages\\sklearn\\svm\\base.py:922: ConvergenceWarning: Liblinear failed to converge, increase the number of iterations.\n",
      "  \"the number of iterations.\", ConvergenceWarning)\n",
      "C:\\Users\\Tanmay\\Anaconda3\\lib\\site-packages\\sklearn\\svm\\base.py:922: ConvergenceWarning: Liblinear failed to converge, increase the number of iterations.\n",
      "  \"the number of iterations.\", ConvergenceWarning)\n",
      "C:\\Users\\Tanmay\\Anaconda3\\lib\\site-packages\\sklearn\\svm\\base.py:922: ConvergenceWarning: Liblinear failed to converge, increase the number of iterations.\n",
      "  \"the number of iterations.\", ConvergenceWarning)\n",
      "C:\\Users\\Tanmay\\Anaconda3\\lib\\site-packages\\sklearn\\svm\\base.py:922: ConvergenceWarning: Liblinear failed to converge, increase the number of iterations.\n",
      "  \"the number of iterations.\", ConvergenceWarning)\n",
      "C:\\Users\\Tanmay\\Anaconda3\\lib\\site-packages\\sklearn\\svm\\base.py:922: ConvergenceWarning: Liblinear failed to converge, increase the number of iterations.\n",
      "  \"the number of iterations.\", ConvergenceWarning)\n",
      "C:\\Users\\Tanmay\\Anaconda3\\lib\\site-packages\\sklearn\\svm\\base.py:922: ConvergenceWarning: Liblinear failed to converge, increase the number of iterations.\n",
      "  \"the number of iterations.\", ConvergenceWarning)\n",
      "C:\\Users\\Tanmay\\Anaconda3\\lib\\site-packages\\sklearn\\svm\\base.py:922: ConvergenceWarning: Liblinear failed to converge, increase the number of iterations.\n",
      "  \"the number of iterations.\", ConvergenceWarning)\n"
     ]
    },
    {
     "name": "stdout",
     "output_type": "stream",
     "text": [
      "Best parameters: {'C': 10}\n",
      "Best cross-validation score: 0.77\n"
     ]
    },
    {
     "name": "stderr",
     "output_type": "stream",
     "text": [
      "C:\\Users\\Tanmay\\Anaconda3\\lib\\site-packages\\sklearn\\svm\\base.py:922: ConvergenceWarning: Liblinear failed to converge, increase the number of iterations.\n",
      "  \"the number of iterations.\", ConvergenceWarning)\n"
     ]
    },
    {
     "data": {
      "text/html": [
       "<div>\n",
       "<style scoped>\n",
       "    .dataframe tbody tr th:only-of-type {\n",
       "        vertical-align: middle;\n",
       "    }\n",
       "\n",
       "    .dataframe tbody tr th {\n",
       "        vertical-align: top;\n",
       "    }\n",
       "\n",
       "    .dataframe thead th {\n",
       "        text-align: right;\n",
       "    }\n",
       "</style>\n",
       "<table border=\"1\" class=\"dataframe\">\n",
       "  <thead>\n",
       "    <tr style=\"text-align: right;\">\n",
       "      <th></th>\n",
       "      <th>mean_fit_time</th>\n",
       "      <th>std_fit_time</th>\n",
       "      <th>mean_score_time</th>\n",
       "      <th>std_score_time</th>\n",
       "      <th>param_C</th>\n",
       "      <th>params</th>\n",
       "      <th>split0_test_score</th>\n",
       "      <th>split1_test_score</th>\n",
       "      <th>split2_test_score</th>\n",
       "      <th>split3_test_score</th>\n",
       "      <th>...</th>\n",
       "      <th>mean_test_score</th>\n",
       "      <th>std_test_score</th>\n",
       "      <th>rank_test_score</th>\n",
       "      <th>split0_train_score</th>\n",
       "      <th>split1_train_score</th>\n",
       "      <th>split2_train_score</th>\n",
       "      <th>split3_train_score</th>\n",
       "      <th>split4_train_score</th>\n",
       "      <th>mean_train_score</th>\n",
       "      <th>std_train_score</th>\n",
       "    </tr>\n",
       "  </thead>\n",
       "  <tbody>\n",
       "    <tr>\n",
       "      <th>0</th>\n",
       "      <td>0.000599</td>\n",
       "      <td>0.000489</td>\n",
       "      <td>0.000399</td>\n",
       "      <td>0.000488</td>\n",
       "      <td>0.001</td>\n",
       "      <td>{'C': 0.001}</td>\n",
       "      <td>-0.091631</td>\n",
       "      <td>-0.116477</td>\n",
       "      <td>-0.104109</td>\n",
       "      <td>-0.114329</td>\n",
       "      <td>...</td>\n",
       "      <td>-0.106473</td>\n",
       "      <td>0.008810</td>\n",
       "      <td>5</td>\n",
       "      <td>-0.096575</td>\n",
       "      <td>-0.078264</td>\n",
       "      <td>-0.081366</td>\n",
       "      <td>-0.082063</td>\n",
       "      <td>-0.083141</td>\n",
       "      <td>-0.084282</td>\n",
       "      <td>0.006357</td>\n",
       "    </tr>\n",
       "    <tr>\n",
       "      <th>1</th>\n",
       "      <td>0.001005</td>\n",
       "      <td>0.000016</td>\n",
       "      <td>0.000000</td>\n",
       "      <td>0.000000</td>\n",
       "      <td>0.01</td>\n",
       "      <td>{'C': 0.01}</td>\n",
       "      <td>0.083348</td>\n",
       "      <td>0.237636</td>\n",
       "      <td>0.126652</td>\n",
       "      <td>0.290511</td>\n",
       "      <td>...</td>\n",
       "      <td>0.214710</td>\n",
       "      <td>0.095759</td>\n",
       "      <td>4</td>\n",
       "      <td>0.185681</td>\n",
       "      <td>0.161111</td>\n",
       "      <td>0.154043</td>\n",
       "      <td>0.171754</td>\n",
       "      <td>0.162088</td>\n",
       "      <td>0.166935</td>\n",
       "      <td>0.010939</td>\n",
       "    </tr>\n",
       "    <tr>\n",
       "      <th>2</th>\n",
       "      <td>0.001590</td>\n",
       "      <td>0.000483</td>\n",
       "      <td>0.000199</td>\n",
       "      <td>0.000399</td>\n",
       "      <td>0.1</td>\n",
       "      <td>{'C': 0.1}</td>\n",
       "      <td>0.513570</td>\n",
       "      <td>0.777305</td>\n",
       "      <td>0.663533</td>\n",
       "      <td>0.730323</td>\n",
       "      <td>...</td>\n",
       "      <td>0.691051</td>\n",
       "      <td>0.097524</td>\n",
       "      <td>3</td>\n",
       "      <td>0.712119</td>\n",
       "      <td>0.632420</td>\n",
       "      <td>0.567714</td>\n",
       "      <td>0.661228</td>\n",
       "      <td>0.665393</td>\n",
       "      <td>0.647775</td>\n",
       "      <td>0.047491</td>\n",
       "    </tr>\n",
       "    <tr>\n",
       "      <th>3</th>\n",
       "      <td>0.015167</td>\n",
       "      <td>0.003713</td>\n",
       "      <td>0.000399</td>\n",
       "      <td>0.000489</td>\n",
       "      <td>1</td>\n",
       "      <td>{'C': 1}</td>\n",
       "      <td>0.628647</td>\n",
       "      <td>0.820101</td>\n",
       "      <td>0.791174</td>\n",
       "      <td>0.778122</td>\n",
       "      <td>...</td>\n",
       "      <td>0.768947</td>\n",
       "      <td>0.072406</td>\n",
       "      <td>2</td>\n",
       "      <td>0.804533</td>\n",
       "      <td>0.709942</td>\n",
       "      <td>0.680977</td>\n",
       "      <td>0.699467</td>\n",
       "      <td>0.722117</td>\n",
       "      <td>0.723407</td>\n",
       "      <td>0.042750</td>\n",
       "    </tr>\n",
       "    <tr>\n",
       "      <th>4</th>\n",
       "      <td>0.023535</td>\n",
       "      <td>0.001493</td>\n",
       "      <td>0.000199</td>\n",
       "      <td>0.000399</td>\n",
       "      <td>10</td>\n",
       "      <td>{'C': 10}</td>\n",
       "      <td>0.629853</td>\n",
       "      <td>0.817235</td>\n",
       "      <td>0.810138</td>\n",
       "      <td>0.777214</td>\n",
       "      <td>...</td>\n",
       "      <td>0.773586</td>\n",
       "      <td>0.074164</td>\n",
       "      <td>1</td>\n",
       "      <td>0.805866</td>\n",
       "      <td>0.719995</td>\n",
       "      <td>0.704486</td>\n",
       "      <td>0.698405</td>\n",
       "      <td>0.723698</td>\n",
       "      <td>0.730490</td>\n",
       "      <td>0.038842</td>\n",
       "    </tr>\n",
       "  </tbody>\n",
       "</table>\n",
       "<p>5 rows × 21 columns</p>\n",
       "</div>"
      ],
      "text/plain": [
       "   mean_fit_time  std_fit_time  mean_score_time  std_score_time param_C  \\\n",
       "0       0.000599      0.000489         0.000399        0.000488   0.001   \n",
       "1       0.001005      0.000016         0.000000        0.000000    0.01   \n",
       "2       0.001590      0.000483         0.000199        0.000399     0.1   \n",
       "3       0.015167      0.003713         0.000399        0.000489       1   \n",
       "4       0.023535      0.001493         0.000199        0.000399      10   \n",
       "\n",
       "         params  split0_test_score  split1_test_score  split2_test_score  \\\n",
       "0  {'C': 0.001}          -0.091631          -0.116477          -0.104109   \n",
       "1   {'C': 0.01}           0.083348           0.237636           0.126652   \n",
       "2    {'C': 0.1}           0.513570           0.777305           0.663533   \n",
       "3      {'C': 1}           0.628647           0.820101           0.791174   \n",
       "4     {'C': 10}           0.629853           0.817235           0.810138   \n",
       "\n",
       "   split3_test_score       ...         mean_test_score  std_test_score  \\\n",
       "0          -0.114329       ...               -0.106473        0.008810   \n",
       "1           0.290511       ...                0.214710        0.095759   \n",
       "2           0.730323       ...                0.691051        0.097524   \n",
       "3           0.778122       ...                0.768947        0.072406   \n",
       "4           0.777214       ...                0.773586        0.074164   \n",
       "\n",
       "   rank_test_score  split0_train_score  split1_train_score  \\\n",
       "0                5           -0.096575           -0.078264   \n",
       "1                4            0.185681            0.161111   \n",
       "2                3            0.712119            0.632420   \n",
       "3                2            0.804533            0.709942   \n",
       "4                1            0.805866            0.719995   \n",
       "\n",
       "   split2_train_score  split3_train_score  split4_train_score  \\\n",
       "0           -0.081366           -0.082063           -0.083141   \n",
       "1            0.154043            0.171754            0.162088   \n",
       "2            0.567714            0.661228            0.665393   \n",
       "3            0.680977            0.699467            0.722117   \n",
       "4            0.704486            0.698405            0.723698   \n",
       "\n",
       "   mean_train_score  std_train_score  \n",
       "0         -0.084282         0.006357  \n",
       "1          0.166935         0.010939  \n",
       "2          0.647775         0.047491  \n",
       "3          0.723407         0.042750  \n",
       "4          0.730490         0.038842  \n",
       "\n",
       "[5 rows x 21 columns]"
      ]
     },
     "metadata": {},
     "output_type": "display_data"
    }
   ],
   "source": [
    "# Grid_Search\n",
    "from sklearn.model_selection import GridSearchCV\n",
    "param_grid ={'C':[0.001, 0.01, 0.1, 1, 10]} \n",
    "grid_search = GridSearchCV(LinearSVR(),param_grid,cv=5,return_train_score=True)\n",
    "\n",
    "grid_search.fit(X_train,y_train)\n",
    "\n",
    "print(\"Best parameters: {}\".format(grid_search.best_params_))\n",
    "print(\"Best cross-validation score: {:.2f}\".format(grid_search.best_score_))\n",
    "\n",
    "results = pd.DataFrame(grid_search.cv_results_)\n",
    "# show the first 5 rows\n",
    "display(results.head())"
   ]
  },
  {
   "cell_type": "code",
   "execution_count": 62,
   "metadata": {},
   "outputs": [
    {
     "name": "stderr",
     "output_type": "stream",
     "text": [
      "C:\\Users\\Tanmay\\Anaconda3\\lib\\site-packages\\sklearn\\svm\\base.py:922: ConvergenceWarning: Liblinear failed to converge, increase the number of iterations.\n",
      "  \"the number of iterations.\", ConvergenceWarning)\n",
      "C:\\Users\\Tanmay\\Anaconda3\\lib\\site-packages\\sklearn\\svm\\base.py:922: ConvergenceWarning: Liblinear failed to converge, increase the number of iterations.\n",
      "  \"the number of iterations.\", ConvergenceWarning)\n",
      "C:\\Users\\Tanmay\\Anaconda3\\lib\\site-packages\\sklearn\\svm\\base.py:922: ConvergenceWarning: Liblinear failed to converge, increase the number of iterations.\n",
      "  \"the number of iterations.\", ConvergenceWarning)\n",
      "C:\\Users\\Tanmay\\Anaconda3\\lib\\site-packages\\sklearn\\svm\\base.py:922: ConvergenceWarning: Liblinear failed to converge, increase the number of iterations.\n",
      "  \"the number of iterations.\", ConvergenceWarning)\n",
      "C:\\Users\\Tanmay\\Anaconda3\\lib\\site-packages\\sklearn\\svm\\base.py:922: ConvergenceWarning: Liblinear failed to converge, increase the number of iterations.\n",
      "  \"the number of iterations.\", ConvergenceWarning)\n"
     ]
    },
    {
     "name": "stdout",
     "output_type": "stream",
     "text": [
      "Avg Train Score:0.7734\n",
      "Avg Test Score:0.5096\n"
     ]
    },
    {
     "name": "stderr",
     "output_type": "stream",
     "text": [
      "C:\\Users\\Tanmay\\Anaconda3\\lib\\site-packages\\sklearn\\svm\\base.py:922: ConvergenceWarning: Liblinear failed to converge, increase the number of iterations.\n",
      "  \"the number of iterations.\", ConvergenceWarning)\n",
      "C:\\Users\\Tanmay\\Anaconda3\\lib\\site-packages\\sklearn\\svm\\base.py:922: ConvergenceWarning: Liblinear failed to converge, increase the number of iterations.\n",
      "  \"the number of iterations.\", ConvergenceWarning)\n",
      "C:\\Users\\Tanmay\\Anaconda3\\lib\\site-packages\\sklearn\\svm\\base.py:922: ConvergenceWarning: Liblinear failed to converge, increase the number of iterations.\n",
      "  \"the number of iterations.\", ConvergenceWarning)\n",
      "C:\\Users\\Tanmay\\Anaconda3\\lib\\site-packages\\sklearn\\svm\\base.py:922: ConvergenceWarning: Liblinear failed to converge, increase the number of iterations.\n",
      "  \"the number of iterations.\", ConvergenceWarning)\n",
      "C:\\Users\\Tanmay\\Anaconda3\\lib\\site-packages\\sklearn\\svm\\base.py:922: ConvergenceWarning: Liblinear failed to converge, increase the number of iterations.\n",
      "  \"the number of iterations.\", ConvergenceWarning)\n"
     ]
    }
   ],
   "source": [
    "#cross validation\n",
    "svr = LinearSVR(C=10)\n",
    "train_score = cross_val_score(svr,X_train,y_train,cv=5)\n",
    "test_score = cross_val_score(svr,X_test,y_test,cv=5)\n",
    "print(\"Avg Train Score:%.4f\"%train_score.mean())\n",
    "print(\"Avg Test Score:%.4f\"%test_score.mean())"
   ]
  },
  {
   "cell_type": "markdown",
   "metadata": {},
   "source": [
    "#### SVM(Kernel = RBF)"
   ]
  },
  {
   "cell_type": "code",
   "execution_count": null,
   "metadata": {},
   "outputs": [],
   "source": [
    "from sklearn.svm import SVR\n",
    "param_grid = { \"C\":[0.0001,0.001,0.01,1,10],\n",
    "             \"gamma\":[0.0001,0.001,0.01,1,10]\n",
    "             }\n",
    "svr_reg = GridSearchCV(SVR(kernel='rbf'),param_grid,cv=5)\n",
    "\n",
    "svr_reg.fit(X_train,y_train)\n",
    "\n",
    "print(\"Best parameters: {}\".format(svr_reg.best_params_))\n",
    "print(\"Best cross-validation score: {:.2f}\".format(svr_reg.best_score_))\n",
    "print('Train score: {:.4f}'.format(svr_reg.score(X_train,y_train)))\n",
    "print('Test score: {:.4f}'.format(svr_reg.score(X_test, y_test)))\n",
    "pred = svr_reg.predict(X_test)\n",
    "print(\"Mean Squared Error Test:\", metrics.mean_squared_error(y_test,pred))"
   ]
  },
  {
   "cell_type": "markdown",
   "metadata": {},
   "source": [
    "#### SVM(Kernel = Poly)"
   ]
  },
  {
   "cell_type": "code",
   "execution_count": null,
   "metadata": {},
   "outputs": [],
   "source": [
    "from sklearn.svm import SVR\n",
    "param_grid = { \"C\":[0.0001,0.001,0.01,1,10],\n",
    "             \"gamma\":[0.0001,0.001,0.01,1,10]\n",
    "             }\n",
    "svr_reg = GridSearchCV(SVR(kernel='poly'),param_grid,cv=5)\n",
    "\n",
    "svr_reg.fit(X_train,y_train)\n",
    "\n",
    "print(\"Best parameters: {}\".format(svr_reg.best_params_))\n",
    "print(\"Best cross-validation score: {:.2f}\".format(svr_reg.best_score_))\n",
    "print('Train score: {:.4f}'.format(svr_reg.score(X_train,y_train)))\n",
    "print('Test score: {:.4f}'.format(svr_reg.score(X_test, y_test)))\n",
    "pred = svr_reg.predict(X_test)\n",
    "print(\"Mean Squared Error Test:\", metrics.mean_squared_error(y_test,pred))"
   ]
  },
  {
   "cell_type": "markdown",
   "metadata": {},
   "source": [
    " #### SVM(Kernel = Linear)"
   ]
  },
  {
   "cell_type": "code",
   "execution_count": null,
   "metadata": {},
   "outputs": [],
   "source": [
    "from sklearn.svm import SVR\n",
    "param_grid = { \"C\":[0.0001,0.001,0.01,1,10],\n",
    "             \"gamma\":[0.0001,0.001,0.01,1,10]\n",
    "             }\n",
    "svr_reg = GridSearchCV(SVR(kernel='linear'),param_grid,cv=5)\n",
    "\n",
    "svr_reg.fit(X_train,y_train)\n",
    "\n",
    "print(\"Best parameters: {}\".format(svr_reg.best_params_))\n",
    "print(\"Best cross-validation score: {:.2f}\".format(svr_reg.best_score_))\n",
    "print('Train score: {:.4f}'.format(svr_reg.score(X_train,y_train)))\n",
    "print('Test score: {:.4f}'.format(svr_reg.score(X_test, y_test)))\n",
    "pred = svr_reg.predict(X_test)\n",
    "print(\"Mean Squared Error Test:\", metrics.mean_squared_error(y_test,pred))"
   ]
  },
  {
   "cell_type": "markdown",
   "metadata": {},
   "source": [
    "## Supervised Learning - Classification"
   ]
  },
  {
   "cell_type": "markdown",
   "metadata": {},
   "source": [
    "1. KNN Classification\n",
    "2. Logistic Regression\n",
    "3. Linear SVM\n",
    "4. Kernalized SVM\n",
    "5. Decision Tree"
   ]
  },
  {
   "cell_type": "code",
   "execution_count": 63,
   "metadata": {},
   "outputs": [],
   "source": [
    "audit = pd.read_csv('audit_risk.csv')\n",
    "trial = pd.read_csv('trial.csv')\n",
    "audit['Money_Value'].fillna(0,inplace=True)\n",
    "trial['Money_Value'].fillna(0,inplace=True)\n",
    "# Sorting the data frames\n",
    "audit = audit.sort_values(by=['LOCATION_ID','TOTAL'])\n",
    "trial = trial.sort_values(by=['LOCATION_ID','TOTAL'])\n",
    "\n",
    "#Concatinate data frames\n",
    "data = pd.concat([audit,trial[['Loss','History_score','LOSS_SCORE','MONEY_Marks']]],axis=1)\n",
    "\n",
    "#Removing LOCATION_ID\n",
    "data.drop('LOCATION_ID',axis=1,inplace=True)\n",
    "\n",
    "data['TOTAL'].max()\n",
    "# 1268.91\n",
    "data[data['TOTAL'] == 1268.91]\n",
    "# index = 241\n",
    "data.drop(241,inplace=True)"
   ]
  },
  {
   "cell_type": "markdown",
   "metadata": {},
   "source": [
    "Repeating the same Data pre-processing, exploratory analysis, and feature selection.\n",
    "\n",
    "Only difference is for classification we consider Risk variable.\n",
    "\n",
    "So we drop the Audit_Risk and include Risk variable for analysis."
   ]
  },
  {
   "cell_type": "code",
   "execution_count": 64,
   "metadata": {},
   "outputs": [],
   "source": [
    "data = data[['Sector_score', 'PARA_A', 'Score_A','PARA_B', 'Score_B','numbers','Money_Value','Score_MV','District_Loss','LOSS_SCORE','History_score','Risk']]"
   ]
  },
  {
   "cell_type": "code",
   "execution_count": 65,
   "metadata": {},
   "outputs": [
    {
     "name": "stderr",
     "output_type": "stream",
     "text": [
      "C:\\Users\\Tanmay\\Anaconda3\\lib\\site-packages\\sklearn\\preprocessing\\data.py:323: DataConversionWarning: Data with input dtype int64, float64 were all converted to float64 by MinMaxScaler.\n",
      "  return self.partial_fit(X, y)\n"
     ]
    }
   ],
   "source": [
    "from sklearn.model_selection import train_test_split\n",
    "X = data.drop('Risk',axis=1)\n",
    "y = data['Risk']\n",
    "\n",
    "X_train_org, X_test_org, y_train, y_test = train_test_split(X, y, test_size=0.2, random_state=0)\n",
    "\n",
    "from sklearn.preprocessing import MinMaxScaler\n",
    "scale = MinMaxScaler()\n",
    "X_train = scale.fit_transform(X_train_org)\n",
    "X_test = scale.transform(X_test_org)"
   ]
  },
  {
   "cell_type": "markdown",
   "metadata": {},
   "source": [
    "#### 1. KNN Classification"
   ]
  },
  {
   "cell_type": "code",
   "execution_count": 66,
   "metadata": {},
   "outputs": [
    {
     "data": {
      "text/plain": [
       "<matplotlib.legend.Legend at 0x1e46da092b0>"
      ]
     },
     "execution_count": 66,
     "metadata": {},
     "output_type": "execute_result"
    },
    {
     "data": {
      "image/png": "[encoded data removed]",
      "text/plain": [
       "<Figure size 432x288 with 1 Axes>"
      ]
     },
     "metadata": {
      "needs_background": "light"
     },
     "output_type": "display_data"
    }
   ],
   "source": [
    "from sklearn.neighbors import KNeighborsClassifier\n",
    "train_score = []\n",
    "test_score = []\n",
    "\n",
    "n = range(1,15)\n",
    "for i in n:\n",
    "    knn = KNeighborsClassifier(n_neighbors=i)\n",
    "    knn.fit(X_train,y_train)\n",
    "    train_score.append(knn.score(X_train,y_train))\n",
    "    test_score.append(knn.score(X_test,y_test))\n",
    "\n",
    "plt.plot(n,train_score,'b',label='Train score')\n",
    "plt.plot(n,test_score,'r',label = 'Test score')\n",
    "plt.legend()"
   ]
  },
  {
   "cell_type": "code",
   "execution_count": 67,
   "metadata": {},
   "outputs": [
    {
     "name": "stdout",
     "output_type": "stream",
     "text": [
      "Train score: 0.9742\n",
      "Test score: 0.9613\n"
     ]
    }
   ],
   "source": [
    "knn = KNeighborsClassifier(5)\n",
    "knn.fit(X_train, y_train)\n",
    "print('Train score: {:.4f}'.format(knn.score(X_train, y_train)))\n",
    "print('Test score: {:.4f}'.format(knn.score(X_test, y_test)))"
   ]
  },
  {
   "cell_type": "code",
   "execution_count": 68,
   "metadata": {
    "scrolled": true
   },
   "outputs": [
    {
     "name": "stdout",
     "output_type": "stream",
     "text": [
      "[[87  1]\n",
      " [ 5 62]]\n",
      "              precision    recall  f1-score   support\n",
      "\n",
      "           0       0.95      0.99      0.97        88\n",
      "           1       0.98      0.93      0.95        67\n",
      "\n",
      "   micro avg       0.96      0.96      0.96       155\n",
      "   macro avg       0.96      0.96      0.96       155\n",
      "weighted avg       0.96      0.96      0.96       155\n",
      "\n"
     ]
    }
   ],
   "source": [
    "from sklearn.metrics import classification_report,confusion_matrix\n",
    "predictions = knn.predict(X_test)\n",
    "print(confusion_matrix(y_test,predictions))\n",
    "print(classification_report(y_test,predictions))"
   ]
  },
  {
   "cell_type": "code",
   "execution_count": 69,
   "metadata": {},
   "outputs": [
    {
     "name": "stdout",
     "output_type": "stream",
     "text": [
      "Avg train score: 0.9629\n",
      "Avg train score: 0.9348\n"
     ]
    }
   ],
   "source": [
    "#Cross validation\n",
    "knn = KNeighborsClassifier(n_neighbors=5)\n",
    "scores = cross_val_score(knn, X_train, y_train, cv=5, scoring='accuracy')\n",
    "scores1= cross_val_score(knn, X_test, y_test, cv=5, scoring='accuracy')\n",
    "\n",
    "print('Avg train score: {:.4f}'.format(scores.mean()))\n",
    "print('Avg train score: {:.4f}'.format(scores1.mean()))"
   ]
  },
  {
   "cell_type": "code",
   "execution_count": 70,
   "metadata": {},
   "outputs": [
    {
     "name": "stdout",
     "output_type": "stream",
     "text": [
      "Best Score: 0.9710\n",
      "Best Paramater: {'n_neighbors': 1}\n"
     ]
    }
   ],
   "source": [
    "#Grid Search\n",
    "from sklearn.model_selection import GridSearchCV\n",
    "k_range = list(range(1, 21))\n",
    "param_grid = dict(n_neighbors=k_range)\n",
    "grid = GridSearchCV(knn, param_grid, cv=10, scoring='accuracy')\n",
    "grid.fit(X_train, y_train)\n",
    "print('Best Score: {:.4f}'.format(grid.best_score_))\n",
    "print('Best Paramater: {:}'.format(grid.best_params_))"
   ]
  },
  {
   "cell_type": "code",
   "execution_count": 71,
   "metadata": {},
   "outputs": [
    {
     "name": "stdout",
     "output_type": "stream",
     "text": [
      "0.9853769542340047 {'n_neighbors': 1}\n",
      "0.9796312670361429 {'n_neighbors': 2}\n",
      "0.981276324898574 {'n_neighbors': 3}\n",
      "0.981276324898574 {'n_neighbors': 4}\n",
      "0.9804541409880654 {'n_neighbors': 5}\n",
      "0.9788077013024735 {'n_neighbors': 6}\n",
      "0.981276324898574 {'n_neighbors': 7}\n",
      "0.9771584874918804 {'n_neighbors': 8}\n",
      "0.9796312670361429 {'n_neighbors': 9}\n",
      "0.9779834420393966 {'n_neighbors': 10}\n",
      "0.9788077013024735 {'n_neighbors': 11}\n",
      "0.9763328358974787 {'n_neighbors': 12}\n",
      "0.9771584874918804 {'n_neighbors': 13}\n",
      "0.9755064854862865 {'n_neighbors': 14}\n",
      "0.9746794344808963 {'n_neighbors': 15}\n",
      "0.9738516810963533 {'n_neighbors': 16}\n",
      "0.9746794344808963 {'n_neighbors': 17}\n",
      "0.9730232235401101 {'n_neighbors': 18}\n",
      "0.9730232235401101 {'n_neighbors': 19}\n",
      "0.9713641887040999 {'n_neighbors': 20}\n"
     ]
    }
   ],
   "source": [
    "cvres = grid.cv_results_\n",
    "for mean_score, params in zip(cvres[\"mean_test_score\"], cvres[\"params\"]):\n",
    "    print(np.sqrt(mean_score), params)"
   ]
  },
  {
   "cell_type": "code",
   "execution_count": 72,
   "metadata": {},
   "outputs": [
    {
     "data": {
      "text/plain": [
       "[<matplotlib.lines.Line2D at 0x1e4718b6da0>,\n",
       " <matplotlib.lines.Line2D at 0x1e471605198>]"
      ]
     },
     "execution_count": 72,
     "metadata": {},
     "output_type": "execute_result"
    },
    {
     "data": {
      "image/png": "[encoded data removed]",
      "text/plain": [
       "<Figure size 432x288 with 1 Axes>"
      ]
     },
     "metadata": {},
     "output_type": "display_data"
    }
   ],
   "source": [
    "import mglearn\n",
    "x_b = X_train[0:774,[2,5]]\n",
    "y_b = y_train[0:774]\n",
    "\n",
    "knn = KNeighborsClassifier(7)\n",
    "knn.fit(x_b, y_b)\n",
    "\n",
    "mglearn.plots.plot_2d_separator(knn, x_b, fill=True, eps=0.5, alpha=.4)\n",
    "mglearn.discrete_scatter(x_b[:, 0], x_b[:, 1], y_b)"
   ]
  },
  {
   "cell_type": "markdown",
   "metadata": {},
   "source": [
    "#### 2. Logistic Regression"
   ]
  },
  {
   "cell_type": "code",
   "execution_count": 73,
   "metadata": {},
   "outputs": [
    {
     "name": "stderr",
     "output_type": "stream",
     "text": [
      "C:\\Users\\Tanmay\\Anaconda3\\lib\\site-packages\\sklearn\\linear_model\\logistic.py:433: FutureWarning: Default solver will be changed to 'lbfgs' in 0.22. Specify a solver to silence this warning.\n",
      "  FutureWarning)\n",
      "C:\\Users\\Tanmay\\Anaconda3\\lib\\site-packages\\sklearn\\linear_model\\logistic.py:433: FutureWarning: Default solver will be changed to 'lbfgs' in 0.22. Specify a solver to silence this warning.\n",
      "  FutureWarning)\n",
      "C:\\Users\\Tanmay\\Anaconda3\\lib\\site-packages\\sklearn\\linear_model\\logistic.py:433: FutureWarning: Default solver will be changed to 'lbfgs' in 0.22. Specify a solver to silence this warning.\n",
      "  FutureWarning)\n",
      "C:\\Users\\Tanmay\\Anaconda3\\lib\\site-packages\\sklearn\\linear_model\\logistic.py:433: FutureWarning: Default solver will be changed to 'lbfgs' in 0.22. Specify a solver to silence this warning.\n",
      "  FutureWarning)\n",
      "C:\\Users\\Tanmay\\Anaconda3\\lib\\site-packages\\sklearn\\linear_model\\logistic.py:433: FutureWarning: Default solver will be changed to 'lbfgs' in 0.22. Specify a solver to silence this warning.\n",
      "  FutureWarning)\n",
      "C:\\Users\\Tanmay\\Anaconda3\\lib\\site-packages\\sklearn\\linear_model\\logistic.py:433: FutureWarning: Default solver will be changed to 'lbfgs' in 0.22. Specify a solver to silence this warning.\n",
      "  FutureWarning)\n",
      "C:\\Users\\Tanmay\\Anaconda3\\lib\\site-packages\\sklearn\\linear_model\\logistic.py:433: FutureWarning: Default solver will be changed to 'lbfgs' in 0.22. Specify a solver to silence this warning.\n",
      "  FutureWarning)\n",
      "C:\\Users\\Tanmay\\Anaconda3\\lib\\site-packages\\sklearn\\linear_model\\logistic.py:433: FutureWarning: Default solver will be changed to 'lbfgs' in 0.22. Specify a solver to silence this warning.\n",
      "  FutureWarning)\n",
      "C:\\Users\\Tanmay\\Anaconda3\\lib\\site-packages\\sklearn\\linear_model\\logistic.py:433: FutureWarning: Default solver will be changed to 'lbfgs' in 0.22. Specify a solver to silence this warning.\n",
      "  FutureWarning)\n",
      "C:\\Users\\Tanmay\\Anaconda3\\lib\\site-packages\\sklearn\\linear_model\\logistic.py:433: FutureWarning: Default solver will be changed to 'lbfgs' in 0.22. Specify a solver to silence this warning.\n",
      "  FutureWarning)\n",
      "C:\\Users\\Tanmay\\Anaconda3\\lib\\site-packages\\sklearn\\linear_model\\logistic.py:433: FutureWarning: Default solver will be changed to 'lbfgs' in 0.22. Specify a solver to silence this warning.\n",
      "  FutureWarning)\n",
      "C:\\Users\\Tanmay\\Anaconda3\\lib\\site-packages\\sklearn\\linear_model\\logistic.py:433: FutureWarning: Default solver will be changed to 'lbfgs' in 0.22. Specify a solver to silence this warning.\n",
      "  FutureWarning)\n",
      "C:\\Users\\Tanmay\\Anaconda3\\lib\\site-packages\\sklearn\\linear_model\\logistic.py:433: FutureWarning: Default solver will be changed to 'lbfgs' in 0.22. Specify a solver to silence this warning.\n",
      "  FutureWarning)\n",
      "C:\\Users\\Tanmay\\Anaconda3\\lib\\site-packages\\sklearn\\svm\\base.py:922: ConvergenceWarning: Liblinear failed to converge, increase the number of iterations.\n",
      "  \"the number of iterations.\", ConvergenceWarning)\n",
      "C:\\Users\\Tanmay\\Anaconda3\\lib\\site-packages\\sklearn\\linear_model\\logistic.py:433: FutureWarning: Default solver will be changed to 'lbfgs' in 0.22. Specify a solver to silence this warning.\n",
      "  FutureWarning)\n"
     ]
    },
    {
     "data": {
      "image/png": "[encoded data removed]",
      "text/plain": [
       "<Figure size 432x288 with 1 Axes>"
      ]
     },
     "metadata": {
      "needs_background": "light"
     },
     "output_type": "display_data"
    }
   ],
   "source": [
    "from sklearn.linear_model import LogisticRegression\n",
    "\n",
    "c_range = [0.001, 0.01, 0.1, 1, 10, 100, 1000]\n",
    "train_score_l1 = []\n",
    "train_score_l2 = []\n",
    "test_score_l1 = []\n",
    "test_score_l2 = []\n",
    "\n",
    "for c in c_range:\n",
    "    log_l1 = LogisticRegression(penalty = 'l1', C = c)\n",
    "    log_l2 = LogisticRegression(penalty = 'l2', C = c)\n",
    "    log_l1.fit(X_train, y_train)\n",
    "    log_l2.fit(X_train, y_train)\n",
    "    train_score_l1.append(log_l1.score(X_train, y_train))\n",
    "    train_score_l2.append(log_l2.score(X_train, y_train))\n",
    "    test_score_l1.append(log_l1.score(X_test, y_test))\n",
    "    test_score_l2.append(log_l2.score(X_test, y_test))\n",
    "\n",
    "import matplotlib.pyplot as plt\n",
    "%matplotlib inline\n",
    "\n",
    "plt.plot(c_range, train_score_l1, label = 'Train score, penalty = l1')\n",
    "plt.plot(c_range, test_score_l1, label = 'Test score, penalty = l1')\n",
    "plt.plot(c_range, train_score_l2, label = 'Train score, penalty = l2')\n",
    "plt.plot(c_range, test_score_l2, label = 'Test score, penalty = l2')\n",
    "plt.legend()\n",
    "plt.xlabel('Regularization parameter: C')\n",
    "plt.ylabel('Accuracy')\n",
    "plt.xscale('log')"
   ]
  },
  {
   "cell_type": "code",
   "execution_count": 74,
   "metadata": {},
   "outputs": [
    {
     "name": "stdout",
     "output_type": "stream",
     "text": [
      "Penality: l1\n",
      "Train_score:0.9645\n",
      "Test_score:0.9419\n",
      "Penality: l2\n",
      "Train_score:0.9645\n",
      "Test_score:0.9613\n"
     ]
    },
    {
     "name": "stderr",
     "output_type": "stream",
     "text": [
      "C:\\Users\\Tanmay\\Anaconda3\\lib\\site-packages\\sklearn\\linear_model\\logistic.py:433: FutureWarning: Default solver will be changed to 'lbfgs' in 0.22. Specify a solver to silence this warning.\n",
      "  FutureWarning)\n",
      "C:\\Users\\Tanmay\\Anaconda3\\lib\\site-packages\\sklearn\\linear_model\\logistic.py:433: FutureWarning: Default solver will be changed to 'lbfgs' in 0.22. Specify a solver to silence this warning.\n",
      "  FutureWarning)\n"
     ]
    }
   ],
   "source": [
    "log_l1 = LogisticRegression(penalty = 'l1', C = 0.1)\n",
    "log_l2 = LogisticRegression(penalty = 'l2', C = 1)\n",
    "log_l1.fit(X_train,y_train)\n",
    "log_l2.fit(X_train,y_train)\n",
    "print(\"Penality: l1\")\n",
    "print(\"Train_score:{:.4f}\".format(log_l1.score(X_train, y_train)))\n",
    "print(\"Test_score:{:.4f}\".format(log_l1.score(X_test, y_test)))\n",
    "print(\"Penality: l2\")\n",
    "print(\"Train_score:{:.4f}\".format(log_l2.score(X_train, y_train)))\n",
    "print(\"Test_score:{:.4f}\".format(log_l2.score(X_test, y_test)))"
   ]
  },
  {
   "cell_type": "code",
   "execution_count": 75,
   "metadata": {},
   "outputs": [
    {
     "name": "stdout",
     "output_type": "stream",
     "text": [
      "[[87  1]\n",
      " [ 5 62]]\n",
      "              precision    recall  f1-score   support\n",
      "\n",
      "           0       0.95      0.99      0.97        88\n",
      "           1       0.98      0.93      0.95        67\n",
      "\n",
      "   micro avg       0.96      0.96      0.96       155\n",
      "   macro avg       0.96      0.96      0.96       155\n",
      "weighted avg       0.96      0.96      0.96       155\n",
      "\n"
     ]
    }
   ],
   "source": [
    "#Confusion Matrix\n",
    "from sklearn.metrics import classification_report, confusion_matrix\n",
    "pred = log_l2.predict(X_test)\n",
    "print(confusion_matrix(y_test, pred))\n",
    "print(classification_report(y_test, pred))"
   ]
  },
  {
   "cell_type": "code",
   "execution_count": 76,
   "metadata": {},
   "outputs": [
    {
     "name": "stdout",
     "output_type": "stream",
     "text": [
      "Avg train score: 0.9612\n",
      "Avg train score: 0.9477\n"
     ]
    },
    {
     "name": "stderr",
     "output_type": "stream",
     "text": [
      "C:\\Users\\Tanmay\\Anaconda3\\lib\\site-packages\\sklearn\\linear_model\\logistic.py:433: FutureWarning: Default solver will be changed to 'lbfgs' in 0.22. Specify a solver to silence this warning.\n",
      "  FutureWarning)\n",
      "C:\\Users\\Tanmay\\Anaconda3\\lib\\site-packages\\sklearn\\linear_model\\logistic.py:433: FutureWarning: Default solver will be changed to 'lbfgs' in 0.22. Specify a solver to silence this warning.\n",
      "  FutureWarning)\n",
      "C:\\Users\\Tanmay\\Anaconda3\\lib\\site-packages\\sklearn\\linear_model\\logistic.py:433: FutureWarning: Default solver will be changed to 'lbfgs' in 0.22. Specify a solver to silence this warning.\n",
      "  FutureWarning)\n",
      "C:\\Users\\Tanmay\\Anaconda3\\lib\\site-packages\\sklearn\\linear_model\\logistic.py:433: FutureWarning: Default solver will be changed to 'lbfgs' in 0.22. Specify a solver to silence this warning.\n",
      "  FutureWarning)\n",
      "C:\\Users\\Tanmay\\Anaconda3\\lib\\site-packages\\sklearn\\linear_model\\logistic.py:433: FutureWarning: Default solver will be changed to 'lbfgs' in 0.22. Specify a solver to silence this warning.\n",
      "  FutureWarning)\n",
      "C:\\Users\\Tanmay\\Anaconda3\\lib\\site-packages\\sklearn\\linear_model\\logistic.py:433: FutureWarning: Default solver will be changed to 'lbfgs' in 0.22. Specify a solver to silence this warning.\n",
      "  FutureWarning)\n",
      "C:\\Users\\Tanmay\\Anaconda3\\lib\\site-packages\\sklearn\\linear_model\\logistic.py:433: FutureWarning: Default solver will be changed to 'lbfgs' in 0.22. Specify a solver to silence this warning.\n",
      "  FutureWarning)\n",
      "C:\\Users\\Tanmay\\Anaconda3\\lib\\site-packages\\sklearn\\linear_model\\logistic.py:433: FutureWarning: Default solver will be changed to 'lbfgs' in 0.22. Specify a solver to silence this warning.\n",
      "  FutureWarning)\n",
      "C:\\Users\\Tanmay\\Anaconda3\\lib\\site-packages\\sklearn\\linear_model\\logistic.py:433: FutureWarning: Default solver will be changed to 'lbfgs' in 0.22. Specify a solver to silence this warning.\n",
      "  FutureWarning)\n",
      "C:\\Users\\Tanmay\\Anaconda3\\lib\\site-packages\\sklearn\\linear_model\\logistic.py:433: FutureWarning: Default solver will be changed to 'lbfgs' in 0.22. Specify a solver to silence this warning.\n",
      "  FutureWarning)\n"
     ]
    }
   ],
   "source": [
    "#Cross validation\n",
    "log_l2 = LogisticRegression(penalty = 'l2', C = 1)\n",
    "scores = cross_val_score(log_l2, X_train, y_train, cv=5, scoring='accuracy')\n",
    "scores1= cross_val_score(log_l2, X_test, y_test, cv=5, scoring='accuracy')\n",
    "\n",
    "print('Avg train score: {:.4f}'.format(scores.mean()))\n",
    "print('Avg train score: {:.4f}'.format(scores1.mean()))"
   ]
  },
  {
   "cell_type": "code",
   "execution_count": 77,
   "metadata": {},
   "outputs": [
    {
     "name": "stderr",
     "output_type": "stream",
     "text": [
      "C:\\Users\\Tanmay\\Anaconda3\\lib\\site-packages\\sklearn\\linear_model\\logistic.py:433: FutureWarning: Default solver will be changed to 'lbfgs' in 0.22. Specify a solver to silence this warning.\n",
      "  FutureWarning)\n"
     ]
    },
    {
     "data": {
      "text/plain": [
       "[<matplotlib.lines.Line2D at 0x1e40012c5f8>,\n",
       " <matplotlib.lines.Line2D at 0x1e4001f4c50>]"
      ]
     },
     "execution_count": 77,
     "metadata": {},
     "output_type": "execute_result"
    },
    {
     "data": {
      "image/png": "[encoded data removed]",
      "text/plain": [
       "<Figure size 432x288 with 1 Axes>"
      ]
     },
     "metadata": {},
     "output_type": "display_data"
    }
   ],
   "source": [
    "import mglearn\n",
    "x_b = X_train[50:100, [1,3]]\n",
    "y_b = y_train[50:100]\n",
    "\n",
    "lreg = LogisticRegression()\n",
    "lreg.fit(x_b, y_b) \n",
    "\n",
    "mglearn.plots.plot_2d_separator(lreg, x_b, fill=True, eps=0.5, alpha=.4)\n",
    "mglearn.discrete_scatter(x_b[:, 0], x_b[:, 1], y_b)"
   ]
  },
  {
   "cell_type": "markdown",
   "metadata": {},
   "source": [
    "#### 3. Linear SVM"
   ]
  },
  {
   "cell_type": "code",
   "execution_count": 78,
   "metadata": {},
   "outputs": [
    {
     "name": "stdout",
     "output_type": "stream",
     "text": [
      "Train score: 0.9710\n",
      "Test score: 0.9613\n"
     ]
    }
   ],
   "source": [
    "from sklearn.svm import LinearSVC\n",
    "linear_svm = LinearSVC()\n",
    "linear_svm.fit(X_train,y_train)\n",
    "print('Train score: {:.4f}'.format(linear_svm.score(X_train,y_train)))\n",
    "print('Test score: {:.4f}'.format(linear_svm.score(X_test,y_test)))"
   ]
  },
  {
   "cell_type": "code",
   "execution_count": 79,
   "metadata": {},
   "outputs": [
    {
     "name": "stdout",
     "output_type": "stream",
     "text": [
      "[[87  1]\n",
      " [ 5 62]]\n",
      "              precision    recall  f1-score   support\n",
      "\n",
      "           0       0.95      0.99      0.97        88\n",
      "           1       0.98      0.93      0.95        67\n",
      "\n",
      "   micro avg       0.96      0.96      0.96       155\n",
      "   macro avg       0.96      0.96      0.96       155\n",
      "weighted avg       0.96      0.96      0.96       155\n",
      "\n"
     ]
    }
   ],
   "source": [
    "#Confusion Matrix\n",
    "from sklearn.metrics import classification_report, confusion_matrix\n",
    "pred = linear_svm.predict(X_test)\n",
    "print(confusion_matrix(y_test, pred))\n",
    "print(classification_report(y_test, pred))"
   ]
  },
  {
   "cell_type": "code",
   "execution_count": 80,
   "metadata": {},
   "outputs": [
    {
     "name": "stdout",
     "output_type": "stream",
     "text": [
      "Avg train score: 0.9629\n",
      "Avg train score: 0.9540\n"
     ]
    }
   ],
   "source": [
    "#Cross validation\n",
    "linear_svm = LinearSVC()\n",
    "scores = cross_val_score(linear_svm, X_train, y_train, cv=5, scoring='accuracy')\n",
    "scores1= cross_val_score(linear_svm, X_test, y_test, cv=5, scoring='accuracy')\n",
    "\n",
    "print('Avg train score: {:.4f}'.format(scores.mean()))\n",
    "print('Avg train score: {:.4f}'.format(scores1.mean()))"
   ]
  },
  {
   "cell_type": "code",
   "execution_count": 81,
   "metadata": {},
   "outputs": [
    {
     "ename": "AttributeError",
     "evalue": "'LinearSVC' object has no attribute 'coef_'",
     "output_type": "error",
     "traceback": [
      "\u001b[1;31m---------------------------------------------------------------------------\u001b[0m",
      "\u001b[1;31mAttributeError\u001b[0m                            Traceback (most recent call last)",
      "\u001b[1;32m<ipython-input-81-28f5a8b24143>\u001b[0m in \u001b[0;36m<module>\u001b[1;34m\u001b[0m\n\u001b[0;32m      1\u001b[0m \u001b[0mmglearn\u001b[0m\u001b[1;33m.\u001b[0m\u001b[0mdiscrete_scatter\u001b[0m\u001b[1;33m(\u001b[0m\u001b[0mX_train\u001b[0m\u001b[1;33m[\u001b[0m\u001b[1;33m:\u001b[0m\u001b[1;33m,\u001b[0m \u001b[1;36m0\u001b[0m\u001b[1;33m]\u001b[0m\u001b[1;33m,\u001b[0m \u001b[0mX_train\u001b[0m\u001b[1;33m[\u001b[0m\u001b[1;33m:\u001b[0m\u001b[1;33m,\u001b[0m \u001b[1;36m1\u001b[0m\u001b[1;33m]\u001b[0m\u001b[1;33m,\u001b[0m \u001b[0my_train\u001b[0m\u001b[1;33m)\u001b[0m\u001b[1;33m\u001b[0m\u001b[1;33m\u001b[0m\u001b[0m\n\u001b[0;32m      2\u001b[0m \u001b[0mline\u001b[0m \u001b[1;33m=\u001b[0m \u001b[0mnp\u001b[0m\u001b[1;33m.\u001b[0m\u001b[0mlinspace\u001b[0m\u001b[1;33m(\u001b[0m\u001b[1;33m-\u001b[0m\u001b[1;36m5\u001b[0m\u001b[1;33m,\u001b[0m \u001b[1;36m5\u001b[0m\u001b[1;33m)\u001b[0m\u001b[1;33m\u001b[0m\u001b[1;33m\u001b[0m\u001b[0m\n\u001b[1;32m----> 3\u001b[1;33m for coef, intercept, color in zip(linear_svm.coef_, linear_svm.intercept_,\n\u001b[0m\u001b[0;32m      4\u001b[0m                                   mglearn.cm3.colors):\n\u001b[0;32m      5\u001b[0m     \u001b[0mplt\u001b[0m\u001b[1;33m.\u001b[0m\u001b[0mplot\u001b[0m\u001b[1;33m(\u001b[0m\u001b[0mline\u001b[0m\u001b[1;33m,\u001b[0m \u001b[1;33m-\u001b[0m\u001b[1;33m(\u001b[0m\u001b[0mline\u001b[0m \u001b[1;33m*\u001b[0m \u001b[0mcoef\u001b[0m\u001b[1;33m[\u001b[0m\u001b[1;36m0\u001b[0m\u001b[1;33m]\u001b[0m \u001b[1;33m+\u001b[0m \u001b[0mintercept\u001b[0m\u001b[1;33m)\u001b[0m \u001b[1;33m/\u001b[0m \u001b[0mcoef\u001b[0m\u001b[1;33m[\u001b[0m\u001b[1;36m1\u001b[0m\u001b[1;33m]\u001b[0m\u001b[1;33m,\u001b[0m \u001b[0mc\u001b[0m\u001b[1;33m=\u001b[0m\u001b[0mcolor\u001b[0m\u001b[1;33m)\u001b[0m\u001b[1;33m\u001b[0m\u001b[1;33m\u001b[0m\u001b[0m\n",
      "\u001b[1;31mAttributeError\u001b[0m: 'LinearSVC' object has no attribute 'coef_'"
     ]
    },
    {
     "data": {
      "image/png": "[encoded data removed]",
      "text/plain": [
       "<Figure size 432x288 with 1 Axes>"
      ]
     },
     "metadata": {
      "needs_background": "light"
     },
     "output_type": "display_data"
    }
   ],
   "source": [
    "mglearn.discrete_scatter(X_train[:, 0], X_train[:, 1], y_train)\n",
    "line = np.linspace(-5, 5)\n",
    "for coef, intercept, color in zip(linear_svm.coef_, linear_svm.intercept_,\n",
    "                                  mglearn.cm3.colors):\n",
    "    plt.plot(line, -(line * coef[0] + intercept) / coef[1], c=color)\n",
    "plt.ylim(-2, 2)\n",
    "plt.xlim(0, 1.5)\n",
    "plt.xlabel(\"Feature 0\")\n",
    "plt.ylabel(\"Feature 1\")\n",
    "plt.legend(['Class 0', 'Class 1', 'Line class 0', 'Line class 1'], loc=(1.01, 0.3))"
   ]
  },
  {
   "cell_type": "markdown",
   "metadata": {},
   "source": [
    "#### 4. Kernalized SVM"
   ]
  },
  {
   "cell_type": "markdown",
   "metadata": {},
   "source": [
    "##### RBF kernal"
   ]
  },
  {
   "cell_type": "code",
   "execution_count": 83,
   "metadata": {},
   "outputs": [
    {
     "name": "stdout",
     "output_type": "stream",
     "text": [
      "C:0.01,gamma:0.01\n",
      "Train score: 0.6177,Test score: 0.5677\n",
      "C:0.01,gamma:0.1\n",
      "Train score: 0.6177,Test score: 0.5677\n",
      "C:0.01,gamma:1\n",
      "Train score: 0.9000,Test score: 0.8387\n",
      "C:0.01,gamma:10\n",
      "Train score: 0.6177,Test score: 0.5677\n",
      "C:0.1,gamma:0.01\n",
      "Train score: 0.6177,Test score: 0.5677\n",
      "C:0.1,gamma:0.1\n",
      "Train score: 0.9194,Test score: 0.8774\n",
      "C:0.1,gamma:1\n",
      "Train score: 0.9661,Test score: 0.9484\n",
      "C:0.1,gamma:10\n",
      "Train score: 0.9339,Test score: 0.9355\n",
      "C:1,gamma:0.01\n",
      "Train score: 0.9161,Test score: 0.8774\n",
      "C:1,gamma:0.1\n",
      "Train score: 0.9710,Test score: 0.9613\n",
      "C:1,gamma:1\n",
      "Train score: 0.9694,Test score: 0.9484\n",
      "C:1,gamma:10\n",
      "Train score: 0.9774,Test score: 0.9548\n",
      "C:10,gamma:0.01\n",
      "Train score: 0.9710,Test score: 0.9613\n",
      "C:10,gamma:0.1\n",
      "Train score: 0.9726,Test score: 0.9548\n",
      "C:10,gamma:1\n",
      "Train score: 0.9774,Test score: 0.9677\n",
      "C:10,gamma:10\n",
      "Train score: 0.9855,Test score: 0.9677\n"
     ]
    }
   ],
   "source": [
    "#kernal = 'rbf'\n",
    "from sklearn.svm import SVC\n",
    "C1 = [0.01,0.1,1,10]\n",
    "gamma1 = [0.01,0.1,1,10]\n",
    "\n",
    "for i in C1:\n",
    "    for j in gamma1:\n",
    "        svc = SVC(C=i,kernel='rbf',gamma=j)\n",
    "        svc.fit(X_train,y_train)\n",
    "        print('C:{},gamma:{}'.format(i,j))\n",
    "        print('Train score: {:.4f},Test score: {:.4f}'.format(svc.score(X_train,y_train),svc.score(X_test,y_test)))"
   ]
  },
  {
   "cell_type": "code",
   "execution_count": 84,
   "metadata": {},
   "outputs": [
    {
     "name": "stdout",
     "output_type": "stream",
     "text": [
      "Avg train score: 0.9629\n",
      "Avg train score: 0.9544\n"
     ]
    }
   ],
   "source": [
    "#Cross validation\n",
    "svc = SVC(C=0.1,kernel='rbf',gamma=1)\n",
    "scores = cross_val_score(svc, X_train, y_train, cv=5, scoring='accuracy')\n",
    "scores1= cross_val_score(svc, X_test, y_test, cv=5, scoring='accuracy')\n",
    "\n",
    "print('Avg train score: {:.4f}'.format(scores.mean()))\n",
    "print('Avg train score: {:.4f}'.format(scores1.mean()))"
   ]
  },
  {
   "cell_type": "markdown",
   "metadata": {},
   "source": [
    "Best Parameters: C = 0.1, gamma=1"
   ]
  },
  {
   "cell_type": "markdown",
   "metadata": {},
   "source": [
    "##### Linear Kernal"
   ]
  },
  {
   "cell_type": "code",
   "execution_count": 85,
   "metadata": {},
   "outputs": [
    {
     "name": "stdout",
     "output_type": "stream",
     "text": [
      "C:0.01\n",
      "Train score: 0.8758,Test score: 0.8452\n",
      "C:0.1\n",
      "Train score: 0.9581,Test score: 0.9419\n",
      "C:1\n",
      "Train score: 0.9726,Test score: 0.9677\n",
      "C:10\n",
      "Train score: 0.9758,Test score: 0.9677\n"
     ]
    }
   ],
   "source": [
    "#kernal = Linear\n",
    "C1 = [0.01,0.1,1,10]\n",
    "\n",
    "for i in C1:\n",
    "    svc = SVC(C=i,kernel='linear')\n",
    "    svc.fit(X_train,y_train)\n",
    "    print('C:{}'.format(i))\n",
    "    print('Train score: {:.4f},Test score: {:.4f}'.format(svc.score(X_train,y_train),svc.score(X_test,y_test)))"
   ]
  },
  {
   "cell_type": "code",
   "execution_count": 86,
   "metadata": {},
   "outputs": [
    {
     "name": "stdout",
     "output_type": "stream",
     "text": [
      "Avg train score: 0.9662\n",
      "Avg train score: 0.9544\n"
     ]
    }
   ],
   "source": [
    "#Cross validation\n",
    "svc = SVC(C=10,kernel='linear')\n",
    "scores = cross_val_score(svc, X_train, y_train, cv=5, scoring='accuracy')\n",
    "scores1= cross_val_score(svc, X_test, y_test, cv=5, scoring='accuracy')\n",
    "\n",
    "print('Avg train score: {:.4f}'.format(scores.mean()))\n",
    "print('Avg train score: {:.4f}'.format(scores1.mean()))"
   ]
  },
  {
   "cell_type": "markdown",
   "metadata": {},
   "source": [
    "Best Paramter: C=1"
   ]
  },
  {
   "cell_type": "markdown",
   "metadata": {},
   "source": [
    "##### polynomial kernal"
   ]
  },
  {
   "cell_type": "code",
   "execution_count": 87,
   "metadata": {},
   "outputs": [
    {
     "name": "stdout",
     "output_type": "stream",
     "text": [
      "C:0.01,gamma:0.01\n",
      "Train score: 0.6177,Test score: 0.5677\n",
      "C:0.01,gamma:0.1\n",
      "Train score: 0.6177,Test score: 0.5677\n",
      "C:0.01,gamma:1\n",
      "Train score: 0.8806,Test score: 0.8194\n",
      "C:0.01,gamma:10\n",
      "Train score: 0.9790,Test score: 0.9548\n",
      "C:0.1,gamma:0.01\n",
      "Train score: 0.6177,Test score: 0.5677\n",
      "C:0.1,gamma:0.1\n",
      "Train score: 0.6177,Test score: 0.5677\n",
      "C:0.1,gamma:1\n",
      "Train score: 0.9548,Test score: 0.9226\n",
      "C:0.1,gamma:10\n",
      "Train score: 0.9903,Test score: 0.9806\n",
      "C:1,gamma:0.01\n",
      "Train score: 0.6177,Test score: 0.5677\n",
      "C:1,gamma:0.1\n",
      "Train score: 0.7855,Test score: 0.7613\n",
      "C:1,gamma:1\n",
      "Train score: 0.9677,Test score: 0.9548\n",
      "C:1,gamma:10\n",
      "Train score: 0.9952,Test score: 1.0000\n",
      "C:10,gamma:0.01\n",
      "Train score: 0.6177,Test score: 0.5677\n",
      "C:10,gamma:0.1\n",
      "Train score: 0.8806,Test score: 0.8194\n",
      "C:10,gamma:1\n",
      "Train score: 0.9790,Test score: 0.9548\n",
      "C:10,gamma:10\n",
      "Train score: 0.9952,Test score: 1.0000\n"
     ]
    }
   ],
   "source": [
    "#kernal = poly\n",
    "C1 = [0.01,0.1,1,10]\n",
    "gamma1 = [0.01,0.1,1,10]\n",
    "\n",
    "for i in C1:\n",
    "    for j in gamma1:\n",
    "        svc = SVC(C=i,kernel='poly',gamma=j)\n",
    "        svc.fit(X_train,y_train)\n",
    "        print('C:{},gamma:{}'.format(i,j))\n",
    "        print('Train score: {:.4f},Test score: {:.4f}'.format(svc.score(X_train,y_train),svc.score(X_test,y_test)))"
   ]
  },
  {
   "cell_type": "code",
   "execution_count": 88,
   "metadata": {},
   "outputs": [
    {
     "name": "stdout",
     "output_type": "stream",
     "text": [
      "Avg train score: 0.9791\n",
      "Avg train score: 0.9552\n"
     ]
    }
   ],
   "source": [
    "#Cross validation\n",
    "svc = SVC(C=1,kernel='poly',gamma=10)\n",
    "scores = cross_val_score(svc, X_train, y_train, cv=5, scoring='accuracy')\n",
    "scores1= cross_val_score(svc, X_test, y_test, cv=5, scoring='accuracy')\n",
    "\n",
    "print('Avg train score: {:.4f}'.format(scores.mean()))\n",
    "print('Avg train score: {:.4f}'.format(scores1.mean()))"
   ]
  },
  {
   "cell_type": "markdown",
   "metadata": {},
   "source": [
    "#### 5. Decision Tree"
   ]
  },
  {
   "cell_type": "code",
   "execution_count": 89,
   "metadata": {},
   "outputs": [
    {
     "name": "stdout",
     "output_type": "stream",
     "text": [
      "Accuracy on training set: 0.956\n",
      "Accuracy on test set: 0.961\n"
     ]
    }
   ],
   "source": [
    "from sklearn.tree import DecisionTreeClassifier\n",
    "dtree = DecisionTreeClassifier(max_depth=3,random_state=0)\n",
    "dtree.fit(X_train, y_train)\n",
    "\n",
    "print(\"Accuracy on training set: {:.3f}\".format(dtree.score(X_train, y_train)))\n",
    "print(\"Accuracy on test set: {:.3f}\".format(dtree.score(X_test, y_test)))"
   ]
  },
  {
   "cell_type": "code",
   "execution_count": 90,
   "metadata": {},
   "outputs": [
    {
     "name": "stdout",
     "output_type": "stream",
     "text": [
      "Avg train score: 0.9742\n",
      "Avg test score: 0.9735\n"
     ]
    }
   ],
   "source": [
    "#Cross validation\n",
    "from sklearn.model_selection import cross_val_score\n",
    "dtree = DecisionTreeClassifier(random_state=0)\n",
    "scores = cross_val_score(dtree, X_train, y_train, cv=5, scoring='accuracy')\n",
    "scores1= cross_val_score(dtree, X_test, y_test, cv=5, scoring='accuracy')\n",
    "\n",
    "print('Avg train score: {:.4f}'.format(scores.mean()))\n",
    "print('Avg test score: {:.4f}'.format(scores1.mean()))"
   ]
  },
  {
   "cell_type": "code",
   "execution_count": 91,
   "metadata": {},
   "outputs": [
    {
     "name": "stdout",
     "output_type": "stream",
     "text": [
      "Avg train score: 0.9371\n",
      "Avg test score: 0.9544\n"
     ]
    }
   ],
   "source": [
    "#Cross validation\n",
    "dtree = DecisionTreeClassifier(max_depth=3,random_state=0)\n",
    "scores = cross_val_score(dtree, X_train, y_train, cv=5, scoring='accuracy')\n",
    "scores1= cross_val_score(dtree, X_test, y_test, cv=5, scoring='accuracy')\n",
    "\n",
    "print('Avg train score: {:.4f}'.format(scores.mean()))\n",
    "print('Avg test score: {:.4f}'.format(scores1.mean()))"
   ]
  },
  {
   "cell_type": "code",
   "execution_count": 92,
   "metadata": {},
   "outputs": [
    {
     "data": {
      "image/png": "[encoded data removed]",
      "text/plain": [
       "<Figure size 720x720 with 1 Axes>"
      ]
     },
     "metadata": {
      "needs_background": "light"
     },
     "output_type": "display_data"
    }
   ],
   "source": [
    "from sklearn import tree\n",
    "dtree.fit(X_train, y_train)\n",
    "def plot_feature_importances_risk(model):\n",
    "    n_features = X.shape[1]\n",
    "    plt.barh(range(n_features), model.feature_importances_, align='center')\n",
    "    plt.yticks(np.arange(n_features), list(X.columns))\n",
    "    plt.xlabel(\"Feature importance\")\n",
    "    plt.ylabel(\"Features\")\n",
    "    plt.ylim(-1, n_features)\n",
    "plt.figure(figsize=(10,10))\n",
    "plot_feature_importances_risk(dtree)"
   ]
  },
  {
   "cell_type": "code",
   "execution_count": 93,
   "metadata": {
    "scrolled": false
   },
   "outputs": [
    {
     "ename": "ModuleNotFoundError",
     "evalue": "No module named 'pydotplus'",
     "output_type": "error",
     "traceback": [
      "\u001b[1;31m---------------------------------------------------------------------------\u001b[0m",
      "\u001b[1;31mModuleNotFoundError\u001b[0m                       Traceback (most recent call last)",
      "\u001b[1;32m<ipython-input-93-64e399046e3a>\u001b[0m in \u001b[0;36m<module>\u001b[1;34m\u001b[0m\n\u001b[0;32m      7\u001b[0m \u001b[1;33m\u001b[0m\u001b[0m\n\u001b[0;32m      8\u001b[0m \u001b[1;31m# Draw graph\u001b[0m\u001b[1;33m\u001b[0m\u001b[1;33m\u001b[0m\u001b[1;33m\u001b[0m\u001b[0m\n\u001b[1;32m----> 9\u001b[1;33m \u001b[1;32mimport\u001b[0m \u001b[0mpydotplus\u001b[0m\u001b[1;33m\u001b[0m\u001b[1;33m\u001b[0m\u001b[0m\n\u001b[0m\u001b[0;32m     10\u001b[0m \u001b[0mgraph\u001b[0m \u001b[1;33m=\u001b[0m \u001b[0mpydotplus\u001b[0m\u001b[1;33m.\u001b[0m\u001b[0mgraph_from_dot_data\u001b[0m\u001b[1;33m(\u001b[0m\u001b[0mdot_data\u001b[0m\u001b[1;33m)\u001b[0m\u001b[1;33m\u001b[0m\u001b[1;33m\u001b[0m\u001b[0m\n\u001b[0;32m     11\u001b[0m \u001b[1;33m\u001b[0m\u001b[0m\n",
      "\u001b[1;31mModuleNotFoundError\u001b[0m: No module named 'pydotplus'"
     ]
    }
   ],
   "source": [
    "import os\n",
    "os.environ[\"PATH\"] += os.pathsep + 'C:/Program Files (x86)/Graphviz2.38/bin/' + 'C:/Users/jmoha/AppData/Local/conda/conda/envs/fluffy/Lib/site-packages/graphviz' + 'C:/Users/jmoha/AppData/Local/conda/conda/envs/fluffy/Lib/site-packages/PIL'\n",
    "\n",
    "# Create DOT data\n",
    "from sklearn.tree import export_graphviz\n",
    "dot_data = export_graphviz(dtree, out_file=None, filled=True, rounded=True, special_characters=True)\n",
    "\n",
    "# Draw graph\n",
    "import pydotplus\n",
    "graph = pydotplus.graph_from_dot_data(dot_data)  \n",
    "\n",
    "# Show graph\n",
    "from PIL import *\n",
    "import graphviz\n",
    "from IPython.display import Image\n",
    "Image(graph.create_png())"
   ]
  },
  {
   "cell_type": "code",
   "execution_count": 94,
   "metadata": {},
   "outputs": [
    {
     "name": "stdout",
     "output_type": "stream",
     "text": [
      "[[88  0]\n",
      " [ 6 61]]\n",
      "              precision    recall  f1-score   support\n",
      "\n",
      "           0       0.94      1.00      0.97        88\n",
      "           1       1.00      0.91      0.95        67\n",
      "\n",
      "   micro avg       0.96      0.96      0.96       155\n",
      "   macro avg       0.97      0.96      0.96       155\n",
      "weighted avg       0.96      0.96      0.96       155\n",
      "\n"
     ]
    }
   ],
   "source": [
    "#Confusion Matrix\n",
    "from sklearn.metrics import classification_report, confusion_matrix\n",
    "pred = dtree.predict(X_test)\n",
    "print(confusion_matrix(y_test, pred))\n",
    "print(classification_report(y_test, pred))"
   ]
  },
  {
   "cell_type": "markdown",
   "metadata": {},
   "source": [
    "### Overview of Regression scores\n",
    "All the below scores are cross validation scores"
   ]
  },
  {
   "cell_type": "code",
   "execution_count": 95,
   "metadata": {},
   "outputs": [
    {
     "data": {
      "text/html": [
       "<div>\n",
       "<style scoped>\n",
       "    .dataframe tbody tr th:only-of-type {\n",
       "        vertical-align: middle;\n",
       "    }\n",
       "\n",
       "    .dataframe tbody tr th {\n",
       "        vertical-align: top;\n",
       "    }\n",
       "\n",
       "    .dataframe thead th {\n",
       "        text-align: right;\n",
       "    }\n",
       "</style>\n",
       "<table border=\"1\" class=\"dataframe\">\n",
       "  <thead>\n",
       "    <tr style=\"text-align: right;\">\n",
       "      <th></th>\n",
       "      <th>Model</th>\n",
       "      <th>Avg.Train Score</th>\n",
       "      <th>Avg_Test_Score</th>\n",
       "    </tr>\n",
       "  </thead>\n",
       "  <tbody>\n",
       "    <tr>\n",
       "      <th>0</th>\n",
       "      <td>Linear Regression</td>\n",
       "      <td>0.7347</td>\n",
       "      <td>0.6588</td>\n",
       "    </tr>\n",
       "    <tr>\n",
       "      <th>1</th>\n",
       "      <td>KNN Regression</td>\n",
       "      <td>0.6872</td>\n",
       "      <td>0.4047</td>\n",
       "    </tr>\n",
       "    <tr>\n",
       "      <th>2</th>\n",
       "      <td>Ridge Regression</td>\n",
       "      <td>0.6067</td>\n",
       "      <td>0.2270</td>\n",
       "    </tr>\n",
       "    <tr>\n",
       "      <th>3</th>\n",
       "      <td>Lasso Regression</td>\n",
       "      <td>0.7377</td>\n",
       "      <td>0.6695</td>\n",
       "    </tr>\n",
       "    <tr>\n",
       "      <th>4</th>\n",
       "      <td>SVM Regression</td>\n",
       "      <td>0.6581</td>\n",
       "      <td>0.4419</td>\n",
       "    </tr>\n",
       "  </tbody>\n",
       "</table>\n",
       "</div>"
      ],
      "text/plain": [
       "               Model  Avg.Train Score  Avg_Test_Score\n",
       "0  Linear Regression           0.7347          0.6588\n",
       "1     KNN Regression           0.6872          0.4047\n",
       "2   Ridge Regression           0.6067          0.2270\n",
       "3   Lasso Regression           0.7377          0.6695\n",
       "4     SVM Regression           0.6581          0.4419"
      ]
     },
     "execution_count": 95,
     "metadata": {},
     "output_type": "execute_result"
    }
   ],
   "source": [
    "Regression = {'Model':['Linear Regression','KNN Regression','Ridge Regression','Lasso Regression','SVM Regression'],'Avg.Train Score':[0.7347,0.6872,0.6067,0.7377,0.6581],'Avg_Test_Score':[0.6588,0.4047,0.227,0.6695,0.4419]}\n",
    "Regression_score = pd.DataFrame(Regression)\n",
    "Regression_score"
   ]
  },
  {
   "cell_type": "markdown",
   "metadata": {},
   "source": [
    "### Overview of Classification scores\n",
    "All the below scores are cross validation scores"
   ]
  },
  {
   "cell_type": "code",
   "execution_count": 96,
   "metadata": {},
   "outputs": [
    {
     "data": {
      "text/html": [
       "<div>\n",
       "<style scoped>\n",
       "    .dataframe tbody tr th:only-of-type {\n",
       "        vertical-align: middle;\n",
       "    }\n",
       "\n",
       "    .dataframe tbody tr th {\n",
       "        vertical-align: top;\n",
       "    }\n",
       "\n",
       "    .dataframe thead th {\n",
       "        text-align: right;\n",
       "    }\n",
       "</style>\n",
       "<table border=\"1\" class=\"dataframe\">\n",
       "  <thead>\n",
       "    <tr style=\"text-align: right;\">\n",
       "      <th></th>\n",
       "      <th>Model</th>\n",
       "      <th>Avg.Train Score</th>\n",
       "      <th>Avg_Test_Score</th>\n",
       "    </tr>\n",
       "  </thead>\n",
       "  <tbody>\n",
       "    <tr>\n",
       "      <th>0</th>\n",
       "      <td>KNN classification</td>\n",
       "      <td>0.9629</td>\n",
       "      <td>0.9348</td>\n",
       "    </tr>\n",
       "    <tr>\n",
       "      <th>1</th>\n",
       "      <td>Logistic Regrerssion</td>\n",
       "      <td>0.9612</td>\n",
       "      <td>0.9477</td>\n",
       "    </tr>\n",
       "    <tr>\n",
       "      <th>2</th>\n",
       "      <td>Linear SVM</td>\n",
       "      <td>0.9629</td>\n",
       "      <td>0.9613</td>\n",
       "    </tr>\n",
       "    <tr>\n",
       "      <th>3</th>\n",
       "      <td>SVC - rbf</td>\n",
       "      <td>0.9629</td>\n",
       "      <td>0.9544</td>\n",
       "    </tr>\n",
       "    <tr>\n",
       "      <th>4</th>\n",
       "      <td>SVC - linear</td>\n",
       "      <td>0.9662</td>\n",
       "      <td>0.9544</td>\n",
       "    </tr>\n",
       "    <tr>\n",
       "      <th>5</th>\n",
       "      <td>SVC - poly</td>\n",
       "      <td>0.9791</td>\n",
       "      <td>0.9552</td>\n",
       "    </tr>\n",
       "    <tr>\n",
       "      <th>6</th>\n",
       "      <td>Decision Tree</td>\n",
       "      <td>0.9726</td>\n",
       "      <td>0.9735</td>\n",
       "    </tr>\n",
       "  </tbody>\n",
       "</table>\n",
       "</div>"
      ],
      "text/plain": [
       "                  Model  Avg.Train Score  Avg_Test_Score\n",
       "0    KNN classification           0.9629          0.9348\n",
       "1  Logistic Regrerssion           0.9612          0.9477\n",
       "2            Linear SVM           0.9629          0.9613\n",
       "3             SVC - rbf           0.9629          0.9544\n",
       "4          SVC - linear           0.9662          0.9544\n",
       "5            SVC - poly           0.9791          0.9552\n",
       "6         Decision Tree           0.9726          0.9735"
      ]
     },
     "execution_count": 96,
     "metadata": {},
     "output_type": "execute_result"
    }
   ],
   "source": [
    "Classification = {'Model':['KNN classification','Logistic Regrerssion','Linear SVM','SVC - rbf','SVC - linear','SVC - poly','Decision Tree'],'Avg.Train Score':[0.9629,0.9612,0.9629,0.9629,0.9662,0.9791,0.9726],'Avg_Test_Score':[0.9348,0.9477,0.9613,0.9544,0.9544,0.9552,0.9735]}\n",
    "Classification_score = pd.DataFrame(Classification)\n",
    "Classification_score"
   ]
  },
  {
   "cell_type": "markdown",
   "metadata": {},
   "source": [
    "## Result"
   ]
  },
  {
   "cell_type": "markdown",
   "metadata": {},
   "source": [
    "#### The Best Regression model: Lasso Regression\n",
    "Parameters: alpha = 0.001"
   ]
  },
  {
   "cell_type": "markdown",
   "metadata": {},
   "source": [
    "#### The Best Classification model: Decision Tree"
   ]
  },
  {
   "cell_type": "markdown",
   "metadata": {},
   "source": [
    "##### The important features in analysis : 'PARA_A', 'PARA_B','Score_MV', 'District_Loss', 'LOSS_SCORE'"
   ]
  },
  {
   "cell_type": "code",
   "execution_count": null,
   "metadata": {},
   "outputs": [],
   "source": []
  },
  {
   "cell_type": "markdown",
   "metadata": {},
   "source": [
    " ###### Let's run the above models with important features only"
   ]
  },
  {
   "cell_type": "code",
   "execution_count": 97,
   "metadata": {},
   "outputs": [
    {
     "name": "stderr",
     "output_type": "stream",
     "text": [
      "C:\\Users\\Tanmay\\Anaconda3\\lib\\site-packages\\sklearn\\preprocessing\\data.py:323: DataConversionWarning: Data with input dtype int64, float64 were all converted to float64 by MinMaxScaler.\n",
      "  return self.partial_fit(X, y)\n"
     ]
    }
   ],
   "source": [
    "p = data[['PARA_A', 'PARA_B','Score_MV', 'District_Loss', 'LOSS_SCORE']]\n",
    "q = data['Risk']\n",
    "\n",
    "from sklearn.model_selection import train_test_split\n",
    "\n",
    "p_train_org, p_test_org, q_train, q_test = train_test_split(p, q, test_size=0.2, random_state=0)\n",
    "\n",
    "from sklearn.preprocessing import MinMaxScaler\n",
    "scale = MinMaxScaler()\n",
    "p_train = scale.fit_transform(p_train_org)\n",
    "p_test = scale.transform(p_test_org)"
   ]
  },
  {
   "cell_type": "code",
   "execution_count": 98,
   "metadata": {},
   "outputs": [
    {
     "data": {
      "text/plain": [
       "<matplotlib.legend.Legend at 0x1e4001184e0>"
      ]
     },
     "execution_count": 98,
     "metadata": {},
     "output_type": "execute_result"
    },
    {
     "data": {
      "image/png": "[encoded data removed]",
      "text/plain": [
       "<Figure size 432x288 with 1 Axes>"
      ]
     },
     "metadata": {
      "needs_background": "light"
     },
     "output_type": "display_data"
    }
   ],
   "source": [
    "# KNN Classifier\n",
    "from sklearn.neighbors import KNeighborsClassifier\n",
    "train_score = []\n",
    "test_score = []\n",
    "\n",
    "n = range(1,15)\n",
    "for i in n:\n",
    "    knn = KNeighborsClassifier(n_neighbors=i)\n",
    "    knn.fit(p_train,q_train)\n",
    "    train_score.append(knn.score(p_train,q_train))\n",
    "    test_score.append(knn.score(p_test,q_test))\n",
    "\n",
    "plt.plot(n,train_score,'b',label='Train score')\n",
    "plt.plot(n,test_score,'r',label = 'Test score')\n",
    "plt.legend()"
   ]
  },
  {
   "cell_type": "code",
   "execution_count": null,
   "metadata": {},
   "outputs": [],
   "source": [
    "knn = KNeighborsClassifier(3)\n",
    "knn.fit(p_train, q_train)\n",
    "print('Train score: {:.4f}'.format(knn.score(p_train,q_train)))\n",
    "print('Test score: {:.4f}'.format(knn.score(p_test,q_test)))\n",
    "predictions = knn.predict(p_test)\n",
    "print(confusion_matrix(q_test,predictions))\n",
    "print(classification_report(q_test,predictions))"
   ]
  },
  {
   "cell_type": "code",
   "execution_count": 100,
   "metadata": {},
   "outputs": [
    {
     "name": "stderr",
     "output_type": "stream",
     "text": [
      "C:\\Users\\Tanmay\\Anaconda3\\lib\\site-packages\\sklearn\\linear_model\\logistic.py:433: FutureWarning: Default solver will be changed to 'lbfgs' in 0.22. Specify a solver to silence this warning.\n",
      "  FutureWarning)\n",
      "C:\\Users\\Tanmay\\Anaconda3\\lib\\site-packages\\sklearn\\linear_model\\logistic.py:433: FutureWarning: Default solver will be changed to 'lbfgs' in 0.22. Specify a solver to silence this warning.\n",
      "  FutureWarning)\n",
      "C:\\Users\\Tanmay\\Anaconda3\\lib\\site-packages\\sklearn\\linear_model\\logistic.py:433: FutureWarning: Default solver will be changed to 'lbfgs' in 0.22. Specify a solver to silence this warning.\n",
      "  FutureWarning)\n",
      "C:\\Users\\Tanmay\\Anaconda3\\lib\\site-packages\\sklearn\\linear_model\\logistic.py:433: FutureWarning: Default solver will be changed to 'lbfgs' in 0.22. Specify a solver to silence this warning.\n",
      "  FutureWarning)\n",
      "C:\\Users\\Tanmay\\Anaconda3\\lib\\site-packages\\sklearn\\linear_model\\logistic.py:433: FutureWarning: Default solver will be changed to 'lbfgs' in 0.22. Specify a solver to silence this warning.\n",
      "  FutureWarning)\n",
      "C:\\Users\\Tanmay\\Anaconda3\\lib\\site-packages\\sklearn\\linear_model\\logistic.py:433: FutureWarning: Default solver will be changed to 'lbfgs' in 0.22. Specify a solver to silence this warning.\n",
      "  FutureWarning)\n",
      "C:\\Users\\Tanmay\\Anaconda3\\lib\\site-packages\\sklearn\\linear_model\\logistic.py:433: FutureWarning: Default solver will be changed to 'lbfgs' in 0.22. Specify a solver to silence this warning.\n",
      "  FutureWarning)\n",
      "C:\\Users\\Tanmay\\Anaconda3\\lib\\site-packages\\sklearn\\linear_model\\logistic.py:433: FutureWarning: Default solver will be changed to 'lbfgs' in 0.22. Specify a solver to silence this warning.\n",
      "  FutureWarning)\n",
      "C:\\Users\\Tanmay\\Anaconda3\\lib\\site-packages\\sklearn\\linear_model\\logistic.py:433: FutureWarning: Default solver will be changed to 'lbfgs' in 0.22. Specify a solver to silence this warning.\n",
      "  FutureWarning)\n",
      "C:\\Users\\Tanmay\\Anaconda3\\lib\\site-packages\\sklearn\\linear_model\\logistic.py:433: FutureWarning: Default solver will be changed to 'lbfgs' in 0.22. Specify a solver to silence this warning.\n",
      "  FutureWarning)\n",
      "C:\\Users\\Tanmay\\Anaconda3\\lib\\site-packages\\sklearn\\linear_model\\logistic.py:433: FutureWarning: Default solver will be changed to 'lbfgs' in 0.22. Specify a solver to silence this warning.\n",
      "  FutureWarning)\n",
      "C:\\Users\\Tanmay\\Anaconda3\\lib\\site-packages\\sklearn\\linear_model\\logistic.py:433: FutureWarning: Default solver will be changed to 'lbfgs' in 0.22. Specify a solver to silence this warning.\n",
      "  FutureWarning)\n",
      "C:\\Users\\Tanmay\\Anaconda3\\lib\\site-packages\\sklearn\\linear_model\\logistic.py:433: FutureWarning: Default solver will be changed to 'lbfgs' in 0.22. Specify a solver to silence this warning.\n",
      "  FutureWarning)\n",
      "C:\\Users\\Tanmay\\Anaconda3\\lib\\site-packages\\sklearn\\linear_model\\logistic.py:433: FutureWarning: Default solver will be changed to 'lbfgs' in 0.22. Specify a solver to silence this warning.\n",
      "  FutureWarning)\n"
     ]
    },
    {
     "data": {
      "image/png": "[encoded data removed]",
      "text/plain": [
       "<Figure size 432x288 with 1 Axes>"
      ]
     },
     "metadata": {
      "needs_background": "light"
     },
     "output_type": "display_data"
    }
   ],
   "source": [
    "#Logistic Regression\n",
    "from sklearn.linear_model import LogisticRegression\n",
    "\n",
    "c_range = [0.001, 0.01, 0.1, 1, 10, 100, 1000]\n",
    "train_score_l1 = []\n",
    "train_score_l2 = []\n",
    "test_score_l1 = []\n",
    "test_score_l2 = []\n",
    "\n",
    "for c in c_range:\n",
    "    log_l1 = LogisticRegression(penalty = 'l1', C = c)\n",
    "    log_l2 = LogisticRegression(penalty = 'l2', C = c)\n",
    "    log_l1.fit(p_train, q_train)\n",
    "    log_l2.fit(p_train, q_train)\n",
    "    train_score_l1.append(log_l1.score(p_train, q_train))\n",
    "    train_score_l2.append(log_l2.score(p_train, q_train))\n",
    "    test_score_l1.append(log_l1.score(p_test, q_test))\n",
    "    test_score_l2.append(log_l2.score(p_test, q_test))\n",
    "\n",
    "import matplotlib.pyplot as plt\n",
    "%matplotlib inline\n",
    "\n",
    "plt.plot(c_range, train_score_l1, label = 'Train score, penalty = l1')\n",
    "plt.plot(c_range, test_score_l1, label = 'Test score, penalty = l1')\n",
    "plt.plot(c_range, train_score_l2, label = 'Train score, penalty = l2')\n",
    "plt.plot(c_range, test_score_l2, label = 'Test score, penalty = l2')\n",
    "plt.legend()\n",
    "plt.xlabel('Regularization parameter: C')\n",
    "plt.ylabel('Accuracy')\n",
    "plt.xscale('log')"
   ]
  },
  {
   "cell_type": "code",
   "execution_count": 101,
   "metadata": {},
   "outputs": [
    {
     "name": "stdout",
     "output_type": "stream",
     "text": [
      "Penality: l1\n",
      "Train score: 0.9113\n",
      "Test score: 0.9161\n",
      "[[88  0]\n",
      " [13 54]]\n",
      "              precision    recall  f1-score   support\n",
      "\n",
      "           0       0.87      1.00      0.93        88\n",
      "           1       1.00      0.81      0.89        67\n",
      "\n",
      "   micro avg       0.92      0.92      0.92       155\n",
      "   macro avg       0.94      0.90      0.91       155\n",
      "weighted avg       0.93      0.92      0.91       155\n",
      "\n",
      "Penality: l2\n",
      "Train score: 0.9113\n",
      "Test score: 0.9161\n",
      "[[88  0]\n",
      " [13 54]]\n",
      "              precision    recall  f1-score   support\n",
      "\n",
      "           0       0.87      1.00      0.93        88\n",
      "           1       1.00      0.81      0.89        67\n",
      "\n",
      "   micro avg       0.92      0.92      0.92       155\n",
      "   macro avg       0.94      0.90      0.91       155\n",
      "weighted avg       0.93      0.92      0.91       155\n",
      "\n"
     ]
    },
    {
     "name": "stderr",
     "output_type": "stream",
     "text": [
      "C:\\Users\\Tanmay\\Anaconda3\\lib\\site-packages\\sklearn\\linear_model\\logistic.py:433: FutureWarning: Default solver will be changed to 'lbfgs' in 0.22. Specify a solver to silence this warning.\n",
      "  FutureWarning)\n",
      "C:\\Users\\Tanmay\\Anaconda3\\lib\\site-packages\\sklearn\\linear_model\\logistic.py:433: FutureWarning: Default solver will be changed to 'lbfgs' in 0.22. Specify a solver to silence this warning.\n",
      "  FutureWarning)\n"
     ]
    }
   ],
   "source": [
    "log_l1 = LogisticRegression(penalty = 'l1', C = 0.1)\n",
    "log_l2 = LogisticRegression(penalty = 'l2', C = 0.1)\n",
    "log_l1.fit(p_train,q_train)\n",
    "log_l2.fit(p_train,q_train)\n",
    "print(\"Penality: l1\")\n",
    "print('Train score: {:.4f}'.format(log_l1.score(p_train,q_train)))\n",
    "print('Test score: {:.4f}'.format(log_l1.score(p_test,q_test)))\n",
    "predictions = log_l1.predict(p_test)\n",
    "print(confusion_matrix(q_test,predictions))\n",
    "print(classification_report(q_test,predictions))\n",
    "print(\"Penality: l2\")\n",
    "print('Train score: {:.4f}'.format(log_l2.score(p_train,q_train)))\n",
    "print('Test score: {:.4f}'.format(log_l2.score(p_test,q_test)))\n",
    "predictions = log_l2.predict(p_test)\n",
    "print(confusion_matrix(q_test,predictions))\n",
    "print(classification_report(q_test,predictions))\n"
   ]
  },
  {
   "cell_type": "code",
   "execution_count": 102,
   "metadata": {},
   "outputs": [
    {
     "name": "stdout",
     "output_type": "stream",
     "text": [
      "C:0.01,gamma:0.01\n",
      "Train score: 0.6177,Test score: 0.5677\n",
      "C:0.01,gamma:0.1\n",
      "Train score: 0.6177,Test score: 0.5677\n",
      "C:0.01,gamma:1\n",
      "Train score: 0.8823,Test score: 0.8774\n",
      "C:0.01,gamma:10\n",
      "Train score: 0.9032,Test score: 0.8903\n",
      "C:0.1,gamma:0.01\n",
      "Train score: 0.6177,Test score: 0.5677\n",
      "C:0.1,gamma:0.1\n",
      "Train score: 0.8290,Test score: 0.8065\n",
      "C:0.1,gamma:1\n",
      "Train score: 0.9145,Test score: 0.9161\n",
      "C:0.1,gamma:10\n",
      "Train score: 0.9274,Test score: 0.9097\n",
      "C:1,gamma:0.01\n",
      "Train score: 0.8290,Test score: 0.8065\n",
      "C:1,gamma:0.1\n",
      "Train score: 0.9210,Test score: 0.9161\n",
      "C:1,gamma:1\n",
      "Train score: 0.9274,Test score: 0.9097\n",
      "C:1,gamma:10\n",
      "Train score: 0.9548,Test score: 0.9355\n",
      "C:10,gamma:0.01\n",
      "Train score: 0.9242,Test score: 0.9226\n",
      "C:10,gamma:0.1\n",
      "Train score: 0.9306,Test score: 0.9097\n",
      "C:10,gamma:1\n",
      "Train score: 0.9581,Test score: 0.9548\n",
      "C:10,gamma:10\n",
      "Train score: 0.9742,Test score: 0.9742\n"
     ]
    }
   ],
   "source": [
    "# RBF SVM\n",
    "#kernal = 'rbf'\n",
    "C1 = [0.01,0.1,1,10]\n",
    "gamma1 = [0.01,0.1,1,10]\n",
    "\n",
    "for i in C1:\n",
    "    for j in gamma1:\n",
    "        svc = SVC(C=i,kernel='rbf',gamma=j)\n",
    "        svc.fit(p_train,q_train)\n",
    "        print('C:{},gamma:{}'.format(i,j))\n",
    "        print('Train score: {:.4f},Test score: {:.4f}'.format(svc.score(p_train,q_train),svc.score(p_test,q_test)))"
   ]
  },
  {
   "cell_type": "code",
   "execution_count": null,
   "metadata": {},
   "outputs": [],
   "source": [
    "#Decision Tree\n",
    "from sklearn.tree import DecisionTreeClassifier\n",
    "dtree = DecisionTreeClassifier(max_depth=3,random_state=0)\n",
    "dtree.fit(p_train, q_train)\n",
    "\n",
    "print(\"Accuracy on training set: {:.3f}\".format(dtree.score(p_train, q_train)))\n",
    "print(\"Accuracy on test set: {:.3f}\".format(dtree.score(p_test, q_test)))\n",
    "\n",
    "predictions = dtree.predict(p_test)\n",
    "print(confusion_matrix(q_test,predictions))\n",
    "print(classification_report(q_test,predictions))\n"
   ]
  },
  {
   "cell_type": "code",
   "execution_count": null,
   "metadata": {},
   "outputs": [],
   "source": []
  }
 ],
 "metadata": {
  "kernelspec": {
   "display_name": "Python 3",
   "language": "python",
   "name": "python3"
  },
  "language_info": {
   "codemirror_mode": {
    "name": "ipython",
    "version": 3
   },
   "file_extension": ".py",
   "mimetype": "text/x-python",
   "name": "python",
   "nbconvert_exporter": "python",
   "pygments_lexer": "ipython3",
   "version": "3.7.1"
  }
 },
 "nbformat": 4,
 "nbformat_minor": 2
}
